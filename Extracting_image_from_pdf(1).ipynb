{
 "cells": [
  {
   "cell_type": "markdown",
   "id": "a1efd07e",
   "metadata": {},
   "source": [
    "### Extracting images from pdf"
   ]
  },
  {
   "cell_type": "markdown",
   "id": "a61095c7",
   "metadata": {},
   "source": [
    "#### It required some librraies to deal with pdf and images"
   ]
  },
  {
   "cell_type": "code",
   "execution_count": 5,
   "id": "4c760e97",
   "metadata": {},
   "outputs": [
    {
     "name": "stdout",
     "output_type": "stream",
     "text": [
      "Defaulting to user installation because normal site-packages is not writeable\n",
      "Requirement already satisfied: PyMuPDF in c:\\users\\lenovo\\appdata\\roaming\\python\\python311\\site-packages (1.24.14)\n"
     ]
    }
   ],
   "source": [
    "!pip install PyMuPDF"
   ]
  },
  {
   "cell_type": "markdown",
   "id": "c929eeab",
   "metadata": {},
   "source": [
    "#### It interacting with pdf , it read the pdf , it extract the data from pdf , edit the pdf"
   ]
  },
  {
   "cell_type": "code",
   "execution_count": 3,
   "id": "6c4d7cd1",
   "metadata": {},
   "outputs": [
    {
     "name": "stdout",
     "output_type": "stream",
     "text": [
      "Defaulting to user installation because normal site-packages is not writeable\n",
      "Requirement already satisfied: pillow in e:\\anaconda_navigator\\lib\\site-packages (9.4.0)\n"
     ]
    }
   ],
   "source": [
    "!pip install pillow"
   ]
  },
  {
   "cell_type": "markdown",
   "id": "6984f178",
   "metadata": {},
   "source": [
    "#### It interact with image ,it open the image , edit the image , save the image"
   ]
  },
  {
   "cell_type": "code",
   "execution_count": 6,
   "id": "65470052",
   "metadata": {},
   "outputs": [],
   "source": [
    "import fitz"
   ]
  },
  {
   "cell_type": "markdown",
   "id": "7310b65d",
   "metadata": {},
   "source": [
    "##### fitz is the module of PyMuPDF (library) which interact with pdf. which read the pdf and extract the data from it and edit the pdf"
   ]
  },
  {
   "cell_type": "code",
   "execution_count": 9,
   "id": "99172ddd",
   "metadata": {},
   "outputs": [],
   "source": [
    "import PIL.Image"
   ]
  },
  {
   "cell_type": "markdown",
   "id": "e4a12cc0",
   "metadata": {},
   "source": [
    "#### PIL is python imaging library is the module from pillow library. which interact with image like open image , edit image , save image"
   ]
  },
  {
   "cell_type": "code",
   "execution_count": 10,
   "id": "f27a648a",
   "metadata": {},
   "outputs": [],
   "source": [
    "import io"
   ]
  },
  {
   "cell_type": "markdown",
   "id": "54ec3ce0",
   "metadata": {},
   "source": [
    "#### io is reading from files , writing to files and managing data streams."
   ]
  },
  {
   "cell_type": "code",
   "execution_count": 13,
   "id": "4e5aa4a4",
   "metadata": {},
   "outputs": [],
   "source": [
    "pdf = fitz.open('C:\\\\Users\\\\Lenovo\\\\Downloads\\\\2nd July\\\\Devdutt_Pattanaik.pdf')\n",
    "# fitz open the pdf and read it "
   ]
  },
  {
   "cell_type": "code",
   "execution_count": 14,
   "id": "a5328f06",
   "metadata": {},
   "outputs": [],
   "source": [
    "counter = 1  #its iinitialization # counter is like tracking images from pdf like image 1 ,2 will increament \n",
    "#count in loop  when image get extract"
   ]
  },
  {
   "cell_type": "code",
   "execution_count": 16,
   "id": "3f17bab7",
   "metadata": {},
   "outputs": [
    {
     "data": {
      "text/plain": [
       "11"
      ]
     },
     "execution_count": 16,
     "metadata": {},
     "output_type": "execute_result"
    }
   ],
   "source": [
    "len(pdf)   # length of pages of pdf"
   ]
  },
  {
   "cell_type": "code",
   "execution_count": 30,
   "id": "638338b8",
   "metadata": {
    "scrolled": false
   },
   "outputs": [],
   "source": [
    "for i in range(len(pdf)):  # for loop is iterate over pages in pdf like 0 page to 10 page\n",
    "    \n",
    "    page = pdf[i]            # i contains page number and when enclose with pdf[i] then it access\n",
    "                             # the data of that page and store into page variable\n",
    "        \n",
    "    images = page.get_images()   # images contain multiple lists of data\n",
    "    \n",
    "    #print(images) # images contain multiple lists of data\n",
    "    \n",
    "    for image in images:\n",
    "        \n",
    "        #print(image) # it is tuple or collection which contains lots of image data\n",
    "                     # like (5, 0, 220, 330, 8, 'DeviceRGB', '', 'X5', 'DCTDecode')\n",
    "            \n",
    "            \n",
    "        base_image = pdf.extract_image(image[0]) # base_image is dictionary\n",
    "        \n",
    "        #print(base_img) # actually this data (5, 0, 220, 330, 8, 'DeviceRGB', '', 'X5', \n",
    "                        #'DCTDecode')\n",
    "                    # and this data contains very large dictionary which contains multiple keys\n",
    "                    # like ext ,smask,image(this contains actual image data)\n",
    "                \n",
    "        image_data = base_image['image'] # from that dictionary .image is key and that image\n",
    "                            # key contins actual image data\n",
    "                            # Now we reach to actual image data\n",
    "                \n",
    "        # Till now we workingfor extractingimage data and now we working for read this image data\n",
    "        img = PIL.Image.open(io.BytesIO(image_data))  #io reads the image data\n",
    "                  # PIL.image it converts that image data into image object and open as image\n",
    "                  # img is actual image object\n",
    "        #print(img)\n",
    "                        \n",
    "        extension = base_image['ext'] # baseIimage is dictionary and dictionary contains \n",
    "                        # multiple keys like image and ext .ext is nothing but extension of \n",
    "                        # image like .jpeg , .png\n",
    "                        \n",
    "        img.save(open(f'image{counter}.{extension}','wb'))  #save the image data and\n",
    "                 # it shows in f string it print image and counter is image number and extension\n",
    "                 # is like.jpeg and .png it is extension of image\n",
    "                 # so it is like image1.jpeg , image2.png\n",
    "                 # open() : open the file for writing image1.jpeg , image2.png in binary\n",
    "                 # save : is save the image object in your system\n",
    "        \n",
    "        counter = counter + 1  # increament the counter to track the no of image"
   ]
  },
  {
   "cell_type": "code",
   "execution_count": null,
   "id": "fbdf6659",
   "metadata": {},
   "outputs": [],
   "source": []
  }
 ],
 "metadata": {
  "kernelspec": {
   "display_name": "Python 3 (ipykernel)",
   "language": "python",
   "name": "python3"
  },
  "language_info": {
   "codemirror_mode": {
    "name": "ipython",
    "version": 3
   },
   "file_extension": ".py",
   "mimetype": "text/x-python",
   "name": "python",
   "nbconvert_exporter": "python",
   "pygments_lexer": "ipython3",
   "version": "3.11.4"
  }
 },
 "nbformat": 4,
 "nbformat_minor": 5
}

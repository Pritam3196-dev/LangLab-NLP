{
 "cells": [
  {
   "cell_type": "markdown",
   "id": "11b9c3d3",
   "metadata": {},
   "source": [
    "### Here We perform Sentence Tokernizer and Word Tokernizer"
   ]
  },
  {
   "cell_type": "markdown",
   "id": "5e504fd7",
   "metadata": {},
   "source": [
    "### Tokenization"
   ]
  },
  {
   "cell_type": "markdown",
   "id": "ca528f90",
   "metadata": {},
   "source": [
    "#### To perform it we require to import nltk library"
   ]
  },
  {
   "cell_type": "code",
   "execution_count": 103,
   "id": "5750ad03",
   "metadata": {},
   "outputs": [],
   "source": [
    "from nltk import sent_tokenize # sent_tokenize for sentence tokenize\n",
    "from nltk import word_tokenize # word_tokenize for word tokenize"
   ]
  },
  {
   "cell_type": "code",
   "execution_count": 104,
   "id": "d5d3c87e",
   "metadata": {},
   "outputs": [],
   "source": [
    "text = \"\"\"On his birthday, the one question to ask is why Sourav Ganguly is so revered in Bengal. How is it that years after retirement, he is still the most sought-after icon? What’s his USP? \n",
    "\n",
    "Every Bengali I know still loves to remember him as twenty-something taking Lord’s by storm on a damp early English summer morning in June 1996. Yes, it was some 28 years ago on June 20, 1996, but for us in Kolkata, it is still as fresh a memory as India’s recent T20 World Cup win. Pushed up the order to No. 3 in an attempt to expose him to the most challenging of conditions, Ganguly’s initiation into Test cricket was a real baptism by fire.\n",
    "\n",
    "The stage was thus set for the single biggest Bengali fairytale in sport. In comparison to Mumbai, there was little tradition to fall back on, but Sourav, with his talent and cultivated aggression, turned himself from being a flavour of Kolkata to a flavour of the world.\n",
    "\n",
    "Without getting into a debate over whether he was the best to ever lead India, suffice to say that Sourav gave India teeth and muscle away from home. Crossing borders meant nothing to him as he handheld Indian cricket to maturity. He built the foundation on which MS Dhoni built the superstructure.\n",
    "\n",
    "Not without reason then is Sourav an all-time Bengali/Kolkatan love affair. And here, I very much include the diaspora. He evokes memories, creates nostalgia and is a kind of enduring romance.\n",
    "\n",
    "Beating the Australians hollow on his way to scoring 144 at Brisbane in 2003-4, Sourav curated a new Indian cricket lexicon in which the word ‘cowardice’ was loathed. That, more than anything, was his single biggest contribution. He turned a group of talented youth into aggressive, street-smart boys, for that was the need of the hour.\"\"\""
   ]
  },
  {
   "cell_type": "markdown",
   "id": "e2b36906",
   "metadata": {},
   "source": [
    "#### Our text is get ready . this text is as input for tokenization"
   ]
  },
  {
   "cell_type": "markdown",
   "id": "9ed5054a",
   "metadata": {},
   "source": [
    "#### Length of text"
   ]
  },
  {
   "cell_type": "code",
   "execution_count": 105,
   "id": "f726cac0",
   "metadata": {},
   "outputs": [
    {
     "data": {
      "text/plain": [
       "1735"
      ]
     },
     "execution_count": 105,
     "metadata": {},
     "output_type": "execute_result"
    }
   ],
   "source": [
    "len(text)"
   ]
  },
  {
   "cell_type": "markdown",
   "id": "d6b6c6ea",
   "metadata": {},
   "source": [
    "##### It is length of letters / characters"
   ]
  },
  {
   "cell_type": "markdown",
   "id": "481c8394",
   "metadata": {},
   "source": [
    "### Sentence tokenize"
   ]
  },
  {
   "cell_type": "markdown",
   "id": "b1c436f8",
   "metadata": {},
   "source": [
    "#### Sentence tokenize is split the text into individual sentences"
   ]
  },
  {
   "cell_type": "code",
   "execution_count": 106,
   "id": "2ea85e99",
   "metadata": {},
   "outputs": [],
   "source": [
    "sentence_tokenize = sent_tokenize(text = text , language = 'english')"
   ]
  },
  {
   "cell_type": "code",
   "execution_count": 107,
   "id": "14724a35",
   "metadata": {},
   "outputs": [
    {
     "name": "stdout",
     "output_type": "stream",
     "text": [
      "['On his birthday, the one question to ask is why Sourav Ganguly is so revered in Bengal.', 'How is it that years after retirement, he is still the most sought-after icon?', 'What’s his USP?', 'Every Bengali I know still loves to remember him as twenty-something taking Lord’s by storm on a damp early English summer morning in June 1996.', 'Yes, it was some 28 years ago on June 20, 1996, but for us in Kolkata, it is still as fresh a memory as India’s recent T20 World Cup win.', 'Pushed up the order to No.', '3 in an attempt to expose him to the most challenging of conditions, Ganguly’s initiation into Test cricket was a real baptism by fire.', 'The stage was thus set for the single biggest Bengali fairytale in sport.', 'In comparison to Mumbai, there was little tradition to fall back on, but Sourav, with his talent and cultivated aggression, turned himself from being a flavour of Kolkata to a flavour of the world.', 'Without getting into a debate over whether he was the best to ever lead India, suffice to say that Sourav gave India teeth and muscle away from home.', 'Crossing borders meant nothing to him as he handheld Indian cricket to maturity.', 'He built the foundation on which MS Dhoni built the superstructure.', 'Not without reason then is Sourav an all-time Bengali/Kolkatan love affair.', 'And here, I very much include the diaspora.', 'He evokes memories, creates nostalgia and is a kind of enduring romance.', 'Beating the Australians hollow on his way to scoring 144 at Brisbane in 2003-4, Sourav curated a new Indian cricket lexicon in which the word ‘cowardice’ was loathed.', 'That, more than anything, was his single biggest contribution.', 'He turned a group of talented youth into aggressive, street-smart boys, for that was the need of the hour.']\n"
     ]
    }
   ],
   "source": [
    "print(sentence_tokenize)"
   ]
  },
  {
   "cell_type": "markdown",
   "id": "5e68dcc5",
   "metadata": {},
   "source": [
    "#### Length of data after the sentence tokenize"
   ]
  },
  {
   "cell_type": "code",
   "execution_count": 108,
   "id": "2301b3cf",
   "metadata": {},
   "outputs": [
    {
     "data": {
      "text/plain": [
       "18"
      ]
     },
     "execution_count": 108,
     "metadata": {},
     "output_type": "execute_result"
    }
   ],
   "source": [
    "len(sentence_tokenize)"
   ]
  },
  {
   "cell_type": "markdown",
   "id": "96bbe884",
   "metadata": {},
   "source": [
    "##### To avoid caps brackets then perform tokenization in loop"
   ]
  },
  {
   "cell_type": "code",
   "execution_count": 109,
   "id": "2b012503",
   "metadata": {},
   "outputs": [
    {
     "name": "stdout",
     "output_type": "stream",
     "text": [
      "On his birthday, the one question to ask is why Sourav Ganguly is so revered in Bengal.\n",
      "How is it that years after retirement, he is still the most sought-after icon?\n",
      "What’s his USP?\n",
      "Every Bengali I know still loves to remember him as twenty-something taking Lord’s by storm on a damp early English summer morning in June 1996.\n",
      "Yes, it was some 28 years ago on June 20, 1996, but for us in Kolkata, it is still as fresh a memory as India’s recent T20 World Cup win.\n",
      "Pushed up the order to No.\n",
      "3 in an attempt to expose him to the most challenging of conditions, Ganguly’s initiation into Test cricket was a real baptism by fire.\n",
      "The stage was thus set for the single biggest Bengali fairytale in sport.\n",
      "In comparison to Mumbai, there was little tradition to fall back on, but Sourav, with his talent and cultivated aggression, turned himself from being a flavour of Kolkata to a flavour of the world.\n",
      "Without getting into a debate over whether he was the best to ever lead India, suffice to say that Sourav gave India teeth and muscle away from home.\n",
      "Crossing borders meant nothing to him as he handheld Indian cricket to maturity.\n",
      "He built the foundation on which MS Dhoni built the superstructure.\n",
      "Not without reason then is Sourav an all-time Bengali/Kolkatan love affair.\n",
      "And here, I very much include the diaspora.\n",
      "He evokes memories, creates nostalgia and is a kind of enduring romance.\n",
      "Beating the Australians hollow on his way to scoring 144 at Brisbane in 2003-4, Sourav curated a new Indian cricket lexicon in which the word ‘cowardice’ was loathed.\n",
      "That, more than anything, was his single biggest contribution.\n",
      "He turned a group of talented youth into aggressive, street-smart boys, for that was the need of the hour.\n"
     ]
    }
   ],
   "source": [
    "for sent in sent_tokenize(text):\n",
    "    print(sent)"
   ]
  },
  {
   "cell_type": "markdown",
   "id": "952c0277",
   "metadata": {},
   "source": [
    "### Word Tokenize"
   ]
  },
  {
   "cell_type": "markdown",
   "id": "809e8020",
   "metadata": {},
   "source": [
    "#### Word Tokenize is the split or divide the text  into individual words"
   ]
  },
  {
   "cell_type": "code",
   "execution_count": 110,
   "id": "292b1375",
   "metadata": {},
   "outputs": [],
   "source": [
    "Word_tokenize = word_tokenize(text)"
   ]
  },
  {
   "cell_type": "code",
   "execution_count": 111,
   "id": "9bd84b92",
   "metadata": {},
   "outputs": [
    {
     "name": "stdout",
     "output_type": "stream",
     "text": [
      "['On', 'his', 'birthday', ',', 'the', 'one', 'question', 'to', 'ask', 'is', 'why', 'Sourav', 'Ganguly', 'is', 'so', 'revered', 'in', 'Bengal', '.', 'How', 'is', 'it', 'that', 'years', 'after', 'retirement', ',', 'he', 'is', 'still', 'the', 'most', 'sought-after', 'icon', '?', 'What', '’', 's', 'his', 'USP', '?', 'Every', 'Bengali', 'I', 'know', 'still', 'loves', 'to', 'remember', 'him', 'as', 'twenty-something', 'taking', 'Lord', '’', 's', 'by', 'storm', 'on', 'a', 'damp', 'early', 'English', 'summer', 'morning', 'in', 'June', '1996', '.', 'Yes', ',', 'it', 'was', 'some', '28', 'years', 'ago', 'on', 'June', '20', ',', '1996', ',', 'but', 'for', 'us', 'in', 'Kolkata', ',', 'it', 'is', 'still', 'as', 'fresh', 'a', 'memory', 'as', 'India', '’', 's', 'recent', 'T20', 'World', 'Cup', 'win', '.', 'Pushed', 'up', 'the', 'order', 'to', 'No', '.', '3', 'in', 'an', 'attempt', 'to', 'expose', 'him', 'to', 'the', 'most', 'challenging', 'of', 'conditions', ',', 'Ganguly', '’', 's', 'initiation', 'into', 'Test', 'cricket', 'was', 'a', 'real', 'baptism', 'by', 'fire', '.', 'The', 'stage', 'was', 'thus', 'set', 'for', 'the', 'single', 'biggest', 'Bengali', 'fairytale', 'in', 'sport', '.', 'In', 'comparison', 'to', 'Mumbai', ',', 'there', 'was', 'little', 'tradition', 'to', 'fall', 'back', 'on', ',', 'but', 'Sourav', ',', 'with', 'his', 'talent', 'and', 'cultivated', 'aggression', ',', 'turned', 'himself', 'from', 'being', 'a', 'flavour', 'of', 'Kolkata', 'to', 'a', 'flavour', 'of', 'the', 'world', '.', 'Without', 'getting', 'into', 'a', 'debate', 'over', 'whether', 'he', 'was', 'the', 'best', 'to', 'ever', 'lead', 'India', ',', 'suffice', 'to', 'say', 'that', 'Sourav', 'gave', 'India', 'teeth', 'and', 'muscle', 'away', 'from', 'home', '.', 'Crossing', 'borders', 'meant', 'nothing', 'to', 'him', 'as', 'he', 'handheld', 'Indian', 'cricket', 'to', 'maturity', '.', 'He', 'built', 'the', 'foundation', 'on', 'which', 'MS', 'Dhoni', 'built', 'the', 'superstructure', '.', 'Not', 'without', 'reason', 'then', 'is', 'Sourav', 'an', 'all-time', 'Bengali/Kolkatan', 'love', 'affair', '.', 'And', 'here', ',', 'I', 'very', 'much', 'include', 'the', 'diaspora', '.', 'He', 'evokes', 'memories', ',', 'creates', 'nostalgia', 'and', 'is', 'a', 'kind', 'of', 'enduring', 'romance', '.', 'Beating', 'the', 'Australians', 'hollow', 'on', 'his', 'way', 'to', 'scoring', '144', 'at', 'Brisbane', 'in', '2003-4', ',', 'Sourav', 'curated', 'a', 'new', 'Indian', 'cricket', 'lexicon', 'in', 'which', 'the', 'word', '‘', 'cowardice', '’', 'was', 'loathed', '.', 'That', ',', 'more', 'than', 'anything', ',', 'was', 'his', 'single', 'biggest', 'contribution', '.', 'He', 'turned', 'a', 'group', 'of', 'talented', 'youth', 'into', 'aggressive', ',', 'street-smart', 'boys', ',', 'for', 'that', 'was', 'the', 'need', 'of', 'the', 'hour', '.']\n"
     ]
    }
   ],
   "source": [
    "print(Word_tokenize)"
   ]
  },
  {
   "cell_type": "code",
   "execution_count": 112,
   "id": "3fa21ecc",
   "metadata": {},
   "outputs": [
    {
     "name": "stdout",
     "output_type": "stream",
     "text": [
      "352\n"
     ]
    }
   ],
   "source": [
    "print(len(Word_tokenize))"
   ]
  },
  {
   "cell_type": "markdown",
   "id": "a7ec392f",
   "metadata": {},
   "source": [
    "#### Initially length of text is 1775(letters/ characters) then make this text into sentences(individual) and it make 18 senetence (by sentence tokenization) . In 1875(letters/ characters) data it contains 352 words(by word tokenization) \n",
    "#### word means opening single quote(') , closing single quote(') , apostopies ('s),  then comma(,) and full stop(.)"
   ]
  },
  {
   "cell_type": "markdown",
   "id": "74f74fb3",
   "metadata": {},
   "source": [
    "### Whitespace Tokeizer"
   ]
  },
  {
   "cell_type": "markdown",
   "id": "0db72ecc",
   "metadata": {},
   "source": [
    "#### Whitespace tokenizer is split the text on basis of whitespaces , punctuation marks('s)"
   ]
  },
  {
   "cell_type": "code",
   "execution_count": 113,
   "id": "2b99b0d7",
   "metadata": {},
   "outputs": [],
   "source": [
    "from nltk.tokenize import WhitespaceTokenizer"
   ]
  },
  {
   "cell_type": "markdown",
   "id": "eeab1db3",
   "metadata": {},
   "source": [
    "#### WhitespaceTokenizer is class"
   ]
  },
  {
   "cell_type": "code",
   "execution_count": 114,
   "id": "ba66f736",
   "metadata": {},
   "outputs": [],
   "source": [
    "white_token = WhitespaceTokenizer()"
   ]
  },
  {
   "cell_type": "code",
   "execution_count": 115,
   "id": "208bf8f5",
   "metadata": {},
   "outputs": [],
   "source": [
    "white_tokenizer_text = white_token.tokenize(text)"
   ]
  },
  {
   "cell_type": "code",
   "execution_count": 116,
   "id": "8065236d",
   "metadata": {},
   "outputs": [
    {
     "name": "stdout",
     "output_type": "stream",
     "text": [
      "['On', 'his', 'birthday,', 'the', 'one', 'question', 'to', 'ask', 'is', 'why', 'Sourav', 'Ganguly', 'is', 'so', 'revered', 'in', 'Bengal.', 'How', 'is', 'it', 'that', 'years', 'after', 'retirement,', 'he', 'is', 'still', 'the', 'most', 'sought-after', 'icon?', 'What’s', 'his', 'USP?', 'Every', 'Bengali', 'I', 'know', 'still', 'loves', 'to', 'remember', 'him', 'as', 'twenty-something', 'taking', 'Lord’s', 'by', 'storm', 'on', 'a', 'damp', 'early', 'English', 'summer', 'morning', 'in', 'June', '1996.', 'Yes,', 'it', 'was', 'some', '28', 'years', 'ago', 'on', 'June', '20,', '1996,', 'but', 'for', 'us', 'in', 'Kolkata,', 'it', 'is', 'still', 'as', 'fresh', 'a', 'memory', 'as', 'India’s', 'recent', 'T20', 'World', 'Cup', 'win.', 'Pushed', 'up', 'the', 'order', 'to', 'No.', '3', 'in', 'an', 'attempt', 'to', 'expose', 'him', 'to', 'the', 'most', 'challenging', 'of', 'conditions,', 'Ganguly’s', 'initiation', 'into', 'Test', 'cricket', 'was', 'a', 'real', 'baptism', 'by', 'fire.', 'The', 'stage', 'was', 'thus', 'set', 'for', 'the', 'single', 'biggest', 'Bengali', 'fairytale', 'in', 'sport.', 'In', 'comparison', 'to', 'Mumbai,', 'there', 'was', 'little', 'tradition', 'to', 'fall', 'back', 'on,', 'but', 'Sourav,', 'with', 'his', 'talent', 'and', 'cultivated', 'aggression,', 'turned', 'himself', 'from', 'being', 'a', 'flavour', 'of', 'Kolkata', 'to', 'a', 'flavour', 'of', 'the', 'world.', 'Without', 'getting', 'into', 'a', 'debate', 'over', 'whether', 'he', 'was', 'the', 'best', 'to', 'ever', 'lead', 'India,', 'suffice', 'to', 'say', 'that', 'Sourav', 'gave', 'India', 'teeth', 'and', 'muscle', 'away', 'from', 'home.', 'Crossing', 'borders', 'meant', 'nothing', 'to', 'him', 'as', 'he', 'handheld', 'Indian', 'cricket', 'to', 'maturity.', 'He', 'built', 'the', 'foundation', 'on', 'which', 'MS', 'Dhoni', 'built', 'the', 'superstructure.', 'Not', 'without', 'reason', 'then', 'is', 'Sourav', 'an', 'all-time', 'Bengali/Kolkatan', 'love', 'affair.', 'And', 'here,', 'I', 'very', 'much', 'include', 'the', 'diaspora.', 'He', 'evokes', 'memories,', 'creates', 'nostalgia', 'and', 'is', 'a', 'kind', 'of', 'enduring', 'romance.', 'Beating', 'the', 'Australians', 'hollow', 'on', 'his', 'way', 'to', 'scoring', '144', 'at', 'Brisbane', 'in', '2003-4,', 'Sourav', 'curated', 'a', 'new', 'Indian', 'cricket', 'lexicon', 'in', 'which', 'the', 'word', '‘cowardice’', 'was', 'loathed.', 'That,', 'more', 'than', 'anything,', 'was', 'his', 'single', 'biggest', 'contribution.', 'He', 'turned', 'a', 'group', 'of', 'talented', 'youth', 'into', 'aggressive,', 'street-smart', 'boys,', 'for', 'that', 'was', 'the', 'need', 'of', 'the', 'hour.']\n"
     ]
    }
   ],
   "source": [
    "print(white_tokenizer_text)"
   ]
  },
  {
   "cell_type": "markdown",
   "id": "26084a35",
   "metadata": {},
   "source": [
    "#### It actually split the words on spaces and punctuation marks('s)"
   ]
  },
  {
   "cell_type": "code",
   "execution_count": 117,
   "id": "e959e728",
   "metadata": {},
   "outputs": [
    {
     "data": {
      "text/plain": [
       "305"
      ]
     },
     "execution_count": 117,
     "metadata": {},
     "output_type": "execute_result"
    }
   ],
   "source": [
    "len(white_tokenizer_text)"
   ]
  },
  {
   "cell_type": "markdown",
   "id": "1ebe83b2",
   "metadata": {},
   "source": [
    "#### Initially in word tokenize length of words in 353 where data split on every point but here data split on spaces , punctuation marks('s). so data don't have any kind unnecessary characters or data"
   ]
  },
  {
   "cell_type": "code",
   "execution_count": 118,
   "id": "70978c5a",
   "metadata": {
    "scrolled": false
   },
   "outputs": [
    {
     "name": "stdout",
     "output_type": "stream",
     "text": [
      "On\n",
      "his\n",
      "birthday,\n",
      "the\n",
      "one\n",
      "question\n",
      "to\n",
      "ask\n",
      "is\n",
      "why\n",
      "Sourav\n",
      "Ganguly\n",
      "is\n",
      "so\n",
      "revered\n",
      "in\n",
      "Bengal.\n",
      "How\n",
      "is\n",
      "it\n",
      "that\n",
      "years\n",
      "after\n",
      "retirement,\n",
      "he\n",
      "is\n",
      "still\n",
      "the\n",
      "most\n",
      "sought-after\n",
      "icon?\n",
      "What’s\n",
      "his\n",
      "USP?\n",
      "Every\n",
      "Bengali\n",
      "I\n",
      "know\n",
      "still\n",
      "loves\n",
      "to\n",
      "remember\n",
      "him\n",
      "as\n",
      "twenty-something\n",
      "taking\n",
      "Lord’s\n",
      "by\n",
      "storm\n",
      "on\n",
      "a\n",
      "damp\n",
      "early\n",
      "English\n",
      "summer\n",
      "morning\n",
      "in\n",
      "June\n",
      "1996.\n",
      "Yes,\n",
      "it\n",
      "was\n",
      "some\n",
      "28\n",
      "years\n",
      "ago\n",
      "on\n",
      "June\n",
      "20,\n",
      "1996,\n",
      "but\n",
      "for\n",
      "us\n",
      "in\n",
      "Kolkata,\n",
      "it\n",
      "is\n",
      "still\n",
      "as\n",
      "fresh\n",
      "a\n",
      "memory\n",
      "as\n",
      "India’s\n",
      "recent\n",
      "T20\n",
      "World\n",
      "Cup\n",
      "win.\n",
      "Pushed\n",
      "up\n",
      "the\n",
      "order\n",
      "to\n",
      "No.\n",
      "3\n",
      "in\n",
      "an\n",
      "attempt\n",
      "to\n",
      "expose\n",
      "him\n",
      "to\n",
      "the\n",
      "most\n",
      "challenging\n",
      "of\n",
      "conditions,\n",
      "Ganguly’s\n",
      "initiation\n",
      "into\n",
      "Test\n",
      "cricket\n",
      "was\n",
      "a\n",
      "real\n",
      "baptism\n",
      "by\n",
      "fire.\n",
      "The\n",
      "stage\n",
      "was\n",
      "thus\n",
      "set\n",
      "for\n",
      "the\n",
      "single\n",
      "biggest\n",
      "Bengali\n",
      "fairytale\n",
      "in\n",
      "sport.\n",
      "In\n",
      "comparison\n",
      "to\n",
      "Mumbai,\n",
      "there\n",
      "was\n",
      "little\n",
      "tradition\n",
      "to\n",
      "fall\n",
      "back\n",
      "on,\n",
      "but\n",
      "Sourav,\n",
      "with\n",
      "his\n",
      "talent\n",
      "and\n",
      "cultivated\n",
      "aggression,\n",
      "turned\n",
      "himself\n",
      "from\n",
      "being\n",
      "a\n",
      "flavour\n",
      "of\n",
      "Kolkata\n",
      "to\n",
      "a\n",
      "flavour\n",
      "of\n",
      "the\n",
      "world.\n",
      "Without\n",
      "getting\n",
      "into\n",
      "a\n",
      "debate\n",
      "over\n",
      "whether\n",
      "he\n",
      "was\n",
      "the\n",
      "best\n",
      "to\n",
      "ever\n",
      "lead\n",
      "India,\n",
      "suffice\n",
      "to\n",
      "say\n",
      "that\n",
      "Sourav\n",
      "gave\n",
      "India\n",
      "teeth\n",
      "and\n",
      "muscle\n",
      "away\n",
      "from\n",
      "home.\n",
      "Crossing\n",
      "borders\n",
      "meant\n",
      "nothing\n",
      "to\n",
      "him\n",
      "as\n",
      "he\n",
      "handheld\n",
      "Indian\n",
      "cricket\n",
      "to\n",
      "maturity.\n",
      "He\n",
      "built\n",
      "the\n",
      "foundation\n",
      "on\n",
      "which\n",
      "MS\n",
      "Dhoni\n",
      "built\n",
      "the\n",
      "superstructure.\n",
      "Not\n",
      "without\n",
      "reason\n",
      "then\n",
      "is\n",
      "Sourav\n",
      "an\n",
      "all-time\n",
      "Bengali/Kolkatan\n",
      "love\n",
      "affair.\n",
      "And\n",
      "here,\n",
      "I\n",
      "very\n",
      "much\n",
      "include\n",
      "the\n",
      "diaspora.\n",
      "He\n",
      "evokes\n",
      "memories,\n",
      "creates\n",
      "nostalgia\n",
      "and\n",
      "is\n",
      "a\n",
      "kind\n",
      "of\n",
      "enduring\n",
      "romance.\n",
      "Beating\n",
      "the\n",
      "Australians\n",
      "hollow\n",
      "on\n",
      "his\n",
      "way\n",
      "to\n",
      "scoring\n",
      "144\n",
      "at\n",
      "Brisbane\n",
      "in\n",
      "2003-4,\n",
      "Sourav\n",
      "curated\n",
      "a\n",
      "new\n",
      "Indian\n",
      "cricket\n",
      "lexicon\n",
      "in\n",
      "which\n",
      "the\n",
      "word\n",
      "‘cowardice’\n",
      "was\n",
      "loathed.\n",
      "That,\n",
      "more\n",
      "than\n",
      "anything,\n",
      "was\n",
      "his\n",
      "single\n",
      "biggest\n",
      "contribution.\n",
      "He\n",
      "turned\n",
      "a\n",
      "group\n",
      "of\n",
      "talented\n",
      "youth\n",
      "into\n",
      "aggressive,\n",
      "street-smart\n",
      "boys,\n",
      "for\n",
      "that\n",
      "was\n",
      "the\n",
      "need\n",
      "of\n",
      "the\n",
      "hour.\n"
     ]
    }
   ],
   "source": [
    "for word in white_token.tokenize(text):\n",
    "    print(word)"
   ]
  },
  {
   "cell_type": "markdown",
   "id": "0863873f",
   "metadata": {},
   "source": [
    "### Word Punctuation Tokenizer"
   ]
  },
  {
   "cell_type": "markdown",
   "id": "515259c1",
   "metadata": {},
   "source": [
    "#### Its quite similar to Word Tokenizer"
   ]
  },
  {
   "cell_type": "code",
   "execution_count": 119,
   "id": "0e3a1a65",
   "metadata": {},
   "outputs": [],
   "source": [
    "from nltk.tokenize import WordPunctTokenizer"
   ]
  },
  {
   "cell_type": "code",
   "execution_count": 120,
   "id": "42f6301a",
   "metadata": {},
   "outputs": [],
   "source": [
    "word_punct = WordPunctTokenizer()"
   ]
  },
  {
   "cell_type": "code",
   "execution_count": 121,
   "id": "9ce8eea7",
   "metadata": {},
   "outputs": [],
   "source": [
    "word_punct_text = word_punct.tokenize(text)"
   ]
  },
  {
   "cell_type": "code",
   "execution_count": 122,
   "id": "d9390402",
   "metadata": {},
   "outputs": [
    {
     "name": "stdout",
     "output_type": "stream",
     "text": [
      "['On', 'his', 'birthday', ',', 'the', 'one', 'question', 'to', 'ask', 'is', 'why', 'Sourav', 'Ganguly', 'is', 'so', 'revered', 'in', 'Bengal', '.', 'How', 'is', 'it', 'that', 'years', 'after', 'retirement', ',', 'he', 'is', 'still', 'the', 'most', 'sought', '-', 'after', 'icon', '?', 'What', '’', 's', 'his', 'USP', '?', 'Every', 'Bengali', 'I', 'know', 'still', 'loves', 'to', 'remember', 'him', 'as', 'twenty', '-', 'something', 'taking', 'Lord', '’', 's', 'by', 'storm', 'on', 'a', 'damp', 'early', 'English', 'summer', 'morning', 'in', 'June', '1996', '.', 'Yes', ',', 'it', 'was', 'some', '28', 'years', 'ago', 'on', 'June', '20', ',', '1996', ',', 'but', 'for', 'us', 'in', 'Kolkata', ',', 'it', 'is', 'still', 'as', 'fresh', 'a', 'memory', 'as', 'India', '’', 's', 'recent', 'T20', 'World', 'Cup', 'win', '.', 'Pushed', 'up', 'the', 'order', 'to', 'No', '.', '3', 'in', 'an', 'attempt', 'to', 'expose', 'him', 'to', 'the', 'most', 'challenging', 'of', 'conditions', ',', 'Ganguly', '’', 's', 'initiation', 'into', 'Test', 'cricket', 'was', 'a', 'real', 'baptism', 'by', 'fire', '.', 'The', 'stage', 'was', 'thus', 'set', 'for', 'the', 'single', 'biggest', 'Bengali', 'fairytale', 'in', 'sport', '.', 'In', 'comparison', 'to', 'Mumbai', ',', 'there', 'was', 'little', 'tradition', 'to', 'fall', 'back', 'on', ',', 'but', 'Sourav', ',', 'with', 'his', 'talent', 'and', 'cultivated', 'aggression', ',', 'turned', 'himself', 'from', 'being', 'a', 'flavour', 'of', 'Kolkata', 'to', 'a', 'flavour', 'of', 'the', 'world', '.', 'Without', 'getting', 'into', 'a', 'debate', 'over', 'whether', 'he', 'was', 'the', 'best', 'to', 'ever', 'lead', 'India', ',', 'suffice', 'to', 'say', 'that', 'Sourav', 'gave', 'India', 'teeth', 'and', 'muscle', 'away', 'from', 'home', '.', 'Crossing', 'borders', 'meant', 'nothing', 'to', 'him', 'as', 'he', 'handheld', 'Indian', 'cricket', 'to', 'maturity', '.', 'He', 'built', 'the', 'foundation', 'on', 'which', 'MS', 'Dhoni', 'built', 'the', 'superstructure', '.', 'Not', 'without', 'reason', 'then', 'is', 'Sourav', 'an', 'all', '-', 'time', 'Bengali', '/', 'Kolkatan', 'love', 'affair', '.', 'And', 'here', ',', 'I', 'very', 'much', 'include', 'the', 'diaspora', '.', 'He', 'evokes', 'memories', ',', 'creates', 'nostalgia', 'and', 'is', 'a', 'kind', 'of', 'enduring', 'romance', '.', 'Beating', 'the', 'Australians', 'hollow', 'on', 'his', 'way', 'to', 'scoring', '144', 'at', 'Brisbane', 'in', '2003', '-', '4', ',', 'Sourav', 'curated', 'a', 'new', 'Indian', 'cricket', 'lexicon', 'in', 'which', 'the', 'word', '‘', 'cowardice', '’', 'was', 'loathed', '.', 'That', ',', 'more', 'than', 'anything', ',', 'was', 'his', 'single', 'biggest', 'contribution', '.', 'He', 'turned', 'a', 'group', 'of', 'talented', 'youth', 'into', 'aggressive', ',', 'street', '-', 'smart', 'boys', ',', 'for', 'that', 'was', 'the', 'need', 'of', 'the', 'hour', '.']\n"
     ]
    }
   ],
   "source": [
    "print(word_punct_text)"
   ]
  },
  {
   "cell_type": "code",
   "execution_count": 123,
   "id": "68df7fe6",
   "metadata": {},
   "outputs": [
    {
     "name": "stdout",
     "output_type": "stream",
     "text": [
      "364\n"
     ]
    }
   ],
   "source": [
    "print(len(word_punct_text))"
   ]
  },
  {
   "cell_type": "code",
   "execution_count": 124,
   "id": "2bd74fcd",
   "metadata": {},
   "outputs": [
    {
     "name": "stdout",
     "output_type": "stream",
     "text": [
      "352\n"
     ]
    }
   ],
   "source": [
    "print(len(Word_tokenize))"
   ]
  },
  {
   "cell_type": "markdown",
   "id": "97494240",
   "metadata": {},
   "source": [
    "#### Means there are some punctuation marks are also not read by word tokenizer. that read by WordPunctTokenizer"
   ]
  },
  {
   "cell_type": "markdown",
   "id": "6b7cddd7",
   "metadata": {},
   "source": [
    "### StopWords"
   ]
  },
  {
   "cell_type": "markdown",
   "id": "073ff451",
   "metadata": {},
   "source": [
    "#### Stopwords are nothing but most common words used in language which is most frequent"
   ]
  },
  {
   "cell_type": "code",
   "execution_count": 125,
   "id": "86ce8538",
   "metadata": {},
   "outputs": [],
   "source": [
    "from nltk.corpus import stopwords"
   ]
  },
  {
   "cell_type": "markdown",
   "id": "14c3be1a",
   "metadata": {},
   "source": [
    "#### Stopwords in english"
   ]
  },
  {
   "cell_type": "code",
   "execution_count": 126,
   "id": "edc29227",
   "metadata": {},
   "outputs": [
    {
     "name": "stdout",
     "output_type": "stream",
     "text": [
      "['i', 'me', 'my', 'myself', 'we', 'our', 'ours', 'ourselves', 'you', \"you're\", \"you've\", \"you'll\", \"you'd\", 'your', 'yours', 'yourself', 'yourselves', 'he', 'him', 'his', 'himself', 'she', \"she's\", 'her', 'hers', 'herself', 'it', \"it's\", 'its', 'itself', 'they', 'them', 'their', 'theirs', 'themselves', 'what', 'which', 'who', 'whom', 'this', 'that', \"that'll\", 'these', 'those', 'am', 'is', 'are', 'was', 'were', 'be', 'been', 'being', 'have', 'has', 'had', 'having', 'do', 'does', 'did', 'doing', 'a', 'an', 'the', 'and', 'but', 'if', 'or', 'because', 'as', 'until', 'while', 'of', 'at', 'by', 'for', 'with', 'about', 'against', 'between', 'into', 'through', 'during', 'before', 'after', 'above', 'below', 'to', 'from', 'up', 'down', 'in', 'out', 'on', 'off', 'over', 'under', 'again', 'further', 'then', 'once', 'here', 'there', 'when', 'where', 'why', 'how', 'all', 'any', 'both', 'each', 'few', 'more', 'most', 'other', 'some', 'such', 'no', 'nor', 'not', 'only', 'own', 'same', 'so', 'than', 'too', 'very', 's', 't', 'can', 'will', 'just', 'don', \"don't\", 'should', \"should've\", 'now', 'd', 'll', 'm', 'o', 're', 've', 'y', 'ain', 'aren', \"aren't\", 'couldn', \"couldn't\", 'didn', \"didn't\", 'doesn', \"doesn't\", 'hadn', \"hadn't\", 'hasn', \"hasn't\", 'haven', \"haven't\", 'isn', \"isn't\", 'ma', 'mightn', \"mightn't\", 'mustn', \"mustn't\", 'needn', \"needn't\", 'shan', \"shan't\", 'shouldn', \"shouldn't\", 'wasn', \"wasn't\", 'weren', \"weren't\", 'won', \"won't\", 'wouldn', \"wouldn't\"]\n"
     ]
    }
   ],
   "source": [
    "print(stopwords.words('english'))"
   ]
  },
  {
   "cell_type": "markdown",
   "id": "943e7366",
   "metadata": {},
   "source": [
    "#### Stopwords in french"
   ]
  },
  {
   "cell_type": "code",
   "execution_count": 127,
   "id": "39d67110",
   "metadata": {},
   "outputs": [
    {
     "name": "stdout",
     "output_type": "stream",
     "text": [
      "['au', 'aux', 'avec', 'ce', 'ces', 'dans', 'de', 'des', 'du', 'elle', 'en', 'et', 'eux', 'il', 'ils', 'je', 'la', 'le', 'les', 'leur', 'lui', 'ma', 'mais', 'me', 'même', 'mes', 'moi', 'mon', 'ne', 'nos', 'notre', 'nous', 'on', 'ou', 'par', 'pas', 'pour', 'qu', 'que', 'qui', 'sa', 'se', 'ses', 'son', 'sur', 'ta', 'te', 'tes', 'toi', 'ton', 'tu', 'un', 'une', 'vos', 'votre', 'vous', 'c', 'd', 'j', 'l', 'à', 'm', 'n', 's', 't', 'y', 'été', 'étée', 'étées', 'étés', 'étant', 'étante', 'étants', 'étantes', 'suis', 'es', 'est', 'sommes', 'êtes', 'sont', 'serai', 'seras', 'sera', 'serons', 'serez', 'seront', 'serais', 'serait', 'serions', 'seriez', 'seraient', 'étais', 'était', 'étions', 'étiez', 'étaient', 'fus', 'fut', 'fûmes', 'fûtes', 'furent', 'sois', 'soit', 'soyons', 'soyez', 'soient', 'fusse', 'fusses', 'fût', 'fussions', 'fussiez', 'fussent', 'ayant', 'ayante', 'ayantes', 'ayants', 'eu', 'eue', 'eues', 'eus', 'ai', 'as', 'avons', 'avez', 'ont', 'aurai', 'auras', 'aura', 'aurons', 'aurez', 'auront', 'aurais', 'aurait', 'aurions', 'auriez', 'auraient', 'avais', 'avait', 'avions', 'aviez', 'avaient', 'eut', 'eûmes', 'eûtes', 'eurent', 'aie', 'aies', 'ait', 'ayons', 'ayez', 'aient', 'eusse', 'eusses', 'eût', 'eussions', 'eussiez', 'eussent']\n"
     ]
    }
   ],
   "source": [
    "print(stopwords.words('french'))"
   ]
  },
  {
   "cell_type": "markdown",
   "id": "d1d1f7e0",
   "metadata": {},
   "source": [
    "#### Stopwords of hindi in english language"
   ]
  },
  {
   "cell_type": "code",
   "execution_count": 128,
   "id": "f4515171",
   "metadata": {},
   "outputs": [
    {
     "name": "stdout",
     "output_type": "stream",
     "text": [
      "['a', 'aadi', 'aaj', 'aap', 'aapne', 'aata', 'aati', 'aaya', 'aaye', 'ab', 'abbe', 'abbey', 'abe', 'abhi', 'able', 'about', 'above', 'accha', 'according', 'accordingly', 'acha', 'achcha', 'across', 'actually', 'after', 'afterwards', 'again', 'against', 'agar', 'ain', 'aint', \"ain't\", 'aisa', 'aise', 'aisi', 'alag', 'all', 'allow', 'allows', 'almost', 'alone', 'along', 'already', 'also', 'although', 'always', 'am', 'among', 'amongst', 'an', 'and', 'andar', 'another', 'any', 'anybody', 'anyhow', 'anyone', 'anything', 'anyway', 'anyways', 'anywhere', 'ap', 'apan', 'apart', 'apna', 'apnaa', 'apne', 'apni', 'appear', 'are', 'aren', 'arent', \"aren't\", 'around', 'arre', 'as', 'aside', 'ask', 'asking', 'at', 'aur', 'avum', 'aya', 'aye', 'baad', 'baar', 'bad', 'bahut', 'bana', 'banae', 'banai', 'banao', 'banaya', 'banaye', 'banayi', 'banda', 'bande', 'bandi', 'bane', 'bani', 'bas', 'bata', 'batao', 'bc', 'be', 'became', 'because', 'become', 'becomes', 'becoming', 'been', 'before', 'beforehand', 'behind', 'being', 'below', 'beside', 'besides', 'best', 'better', 'between', 'beyond', 'bhai', 'bheetar', 'bhi', 'bhitar', 'bht', 'bilkul', 'bohot', 'bol', 'bola', 'bole', 'boli', 'bolo', 'bolta', 'bolte', 'bolti', 'both', 'brief', 'bro', 'btw', 'but', 'by', 'came', 'can', 'cannot', 'cant', \"can't\", 'cause', 'causes', 'certain', 'certainly', 'chahiye', 'chaiye', 'chal', 'chalega', 'chhaiye', 'clearly', \"c'mon\", 'com', 'come', 'comes', 'could', 'couldn', 'couldnt', \"couldn't\", 'd', 'de', 'dede', 'dega', 'degi', 'dekh', 'dekha', 'dekhe', 'dekhi', 'dekho', 'denge', 'dhang', 'di', 'did', 'didn', 'didnt', \"didn't\", 'dijiye', 'diya', 'diyaa', 'diye', 'diyo', 'do', 'does', 'doesn', 'doesnt', \"doesn't\", 'doing', 'done', 'dono', 'dont', \"don't\", 'doosra', 'doosre', 'down', 'downwards', 'dude', 'dunga', 'dungi', 'during', 'dusra', 'dusre', 'dusri', 'dvaara', 'dvara', 'dwaara', 'dwara', 'each', 'edu', 'eg', 'eight', 'either', 'ek', 'else', 'elsewhere', 'enough', 'etc', 'even', 'ever', 'every', 'everybody', 'everyone', 'everything', 'everywhere', 'ex', 'exactly', 'example', 'except', 'far', 'few', 'fifth', 'fir', 'first', 'five', 'followed', 'following', 'follows', 'for', 'forth', 'four', 'from', 'further', 'furthermore', 'gaya', 'gaye', 'gayi', 'get', 'gets', 'getting', 'ghar', 'given', 'gives', 'go', 'goes', 'going', 'gone', 'good', 'got', 'gotten', 'greetings', 'haan', 'had', 'hadd', 'hadn', 'hadnt', \"hadn't\", 'hai', 'hain', 'hamara', 'hamare', 'hamari', 'hamne', 'han', 'happens', 'har', 'hardly', 'has', 'hasn', 'hasnt', \"hasn't\", 'have', 'haven', 'havent', \"haven't\", 'having', 'he', 'hello', 'help', 'hence', 'her', 'here', 'hereafter', 'hereby', 'herein', \"here's\", 'hereupon', 'hers', 'herself', \"he's\", 'hi', 'him', 'himself', 'his', 'hither', 'hm', 'hmm', 'ho', 'hoga', 'hoge', 'hogi', 'hona', 'honaa', 'hone', 'honge', 'hongi', 'honi', 'hopefully', 'hota', 'hotaa', 'hote', 'hoti', 'how', 'howbeit', 'however', 'hoyenge', 'hoyengi', 'hu', 'hua', 'hue', 'huh', 'hui', 'hum', 'humein', 'humne', 'hun', 'huye', 'huyi', 'i', \"i'd\", 'idk', 'ie', 'if', \"i'll\", \"i'm\", 'imo', 'in', 'inasmuch', 'inc', 'inhe', 'inhi', 'inho', 'inka', 'inkaa', 'inke', 'inki', 'inn', 'inner', 'inse', 'insofar', 'into', 'inward', 'is', 'ise', 'isi', 'iska', 'iskaa', 'iske', 'iski', 'isme', 'isn', 'isne', 'isnt', \"isn't\", 'iss', 'isse', 'issi', 'isski', 'it', \"it'd\", \"it'll\", 'itna', 'itne', 'itni', 'itno', 'its', \"it's\", 'itself', 'ityaadi', 'ityadi', \"i've\", 'ja', 'jaa', 'jab', 'jabh', 'jaha', 'jahaan', 'jahan', 'jaisa', 'jaise', 'jaisi', 'jata', 'jayega', 'jidhar', 'jin', 'jinhe', 'jinhi', 'jinho', 'jinhone', 'jinka', 'jinke', 'jinki', 'jinn', 'jis', 'jise', 'jiska', 'jiske', 'jiski', 'jisme', 'jiss', 'jisse', 'jitna', 'jitne', 'jitni', 'jo', 'just', 'jyaada', 'jyada', 'k', 'ka', 'kaafi', 'kab', 'kabhi', 'kafi', 'kaha', 'kahaa', 'kahaan', 'kahan', 'kahi', 'kahin', 'kahte', 'kaisa', 'kaise', 'kaisi', 'kal', 'kam', 'kar', 'kara', 'kare', 'karega', 'karegi', 'karen', 'karenge', 'kari', 'karke', 'karna', 'karne', 'karni', 'karo', 'karta', 'karte', 'karti', 'karu', 'karun', 'karunga', 'karungi', 'kaun', 'kaunsa', 'kayi', 'kch', 'ke', 'keep', 'keeps', 'keh', 'kehte', 'kept', 'khud', 'ki', 'kin', 'kine', 'kinhe', 'kinho', 'kinka', 'kinke', 'kinki', 'kinko', 'kinn', 'kino', 'kis', 'kise', 'kisi', 'kiska', 'kiske', 'kiski', 'kisko', 'kisliye', 'kisne', 'kitna', 'kitne', 'kitni', 'kitno', 'kiya', 'kiye', 'know', 'known', 'knows', 'ko', 'koi', 'kon', 'konsa', 'koyi', 'krna', 'krne', 'kuch', 'kuchch', 'kuchh', 'kul', 'kull', 'kya', 'kyaa', 'kyu', 'kyuki', 'kyun', 'kyunki', 'lagta', 'lagte', 'lagti', 'last', 'lately', 'later', 'le', 'least', 'lekar', 'lekin', 'less', 'lest', 'let', \"let's\", 'li', 'like', 'liked', 'likely', 'little', 'liya', 'liye', 'll', 'lo', 'log', 'logon', 'lol', 'look', 'looking', 'looks', 'ltd', 'lunga', 'm', 'maan', 'maana', 'maane', 'maani', 'maano', 'magar', 'mai', 'main', 'maine', 'mainly', 'mana', 'mane', 'mani', 'mano', 'many', 'mat', 'may', 'maybe', 'me', 'mean', 'meanwhile', 'mein', 'mera', 'mere', 'merely', 'meri', 'might', 'mightn', 'mightnt', \"mightn't\", 'mil', 'mjhe', 'more', 'moreover', 'most', 'mostly', 'much', 'mujhe', 'must', 'mustn', 'mustnt', \"mustn't\", 'my', 'myself', 'na', 'naa', 'naah', 'nahi', 'nahin', 'nai', 'name', 'namely', 'nd', 'ne', 'near', 'nearly', 'necessary', 'neeche', 'need', 'needn', 'neednt', \"needn't\", 'needs', 'neither', 'never', 'nevertheless', 'new', 'next', 'nhi', 'nine', 'no', 'nobody', 'non', 'none', 'noone', 'nope', 'nor', 'normally', 'not', 'nothing', 'novel', 'now', 'nowhere', 'o', 'obviously', 'of', 'off', 'often', 'oh', 'ok', 'okay', 'old', 'on', 'once', 'one', 'ones', 'only', 'onto', 'or', 'other', 'others', 'otherwise', 'ought', 'our', 'ours', 'ourselves', 'out', 'outside', 'over', 'overall', 'own', 'par', 'pata', 'pe', 'pehla', 'pehle', 'pehli', 'people', 'per', 'perhaps', 'phla', 'phle', 'phli', 'placed', 'please', 'plus', 'poora', 'poori', 'provides', 'pura', 'puri', 'q', 'que', 'quite', 'raha', 'rahaa', 'rahe', 'rahi', 'rakh', 'rakha', 'rakhe', 'rakhen', 'rakhi', 'rakho', 'rather', 're', 'really', 'reasonably', 'regarding', 'regardless', 'regards', 'rehte', 'rha', 'rhaa', 'rhe', 'rhi', 'ri', 'right', 's', 'sa', 'saara', 'saare', 'saath', 'sab', 'sabhi', 'sabse', 'sahi', 'said', 'sakta', 'saktaa', 'sakte', 'sakti', 'same', 'sang', 'sara', 'sath', 'saw', 'say', 'saying', 'says', 'se', 'second', 'secondly', 'see', 'seeing', 'seem', 'seemed', 'seeming', 'seems', 'seen', 'self', 'selves', 'sensible', 'sent', 'serious', 'seriously', 'seven', 'several', 'shall', 'shan', 'shant', \"shan't\", 'she', \"she's\", 'should', 'shouldn', 'shouldnt', \"shouldn't\", \"should've\", 'si', 'since', 'six', 'so', 'soch', 'some', 'somebody', 'somehow', 'someone', 'something', 'sometime', 'sometimes', 'somewhat', 'somewhere', 'soon', 'still', 'sub', 'such', 'sup', 'sure', 't', 'tab', 'tabh', 'tak', 'take', 'taken', 'tarah', 'teen', 'teeno', 'teesra', 'teesre', 'teesri', 'tell', 'tends', 'tera', 'tere', 'teri', 'th', 'tha', 'than', 'thank', 'thanks', 'thanx', 'that', \"that'll\", 'thats', \"that's\", 'the', 'theek', 'their', 'theirs', 'them', 'themselves', 'then', 'thence', 'there', 'thereafter', 'thereby', 'therefore', 'therein', 'theres', \"there's\", 'thereupon', 'these', 'they', \"they'd\", \"they'll\", \"they're\", \"they've\", 'thi', 'thik', 'thing', 'think', 'thinking', 'third', 'this', 'tho', 'thoda', 'thodi', 'thorough', 'thoroughly', 'those', 'though', 'thought', 'three', 'through', 'throughout', 'thru', 'thus', 'tjhe', 'to', 'together', 'toh', 'too', 'took', 'toward', 'towards', 'tried', 'tries', 'true', 'truly', 'try', 'trying', 'tu', 'tujhe', 'tum', 'tumhara', 'tumhare', 'tumhari', 'tune', 'twice', 'two', 'um', 'umm', 'un', 'under', 'unhe', 'unhi', 'unho', 'unhone', 'unka', 'unkaa', 'unke', 'unki', 'unko', 'unless', 'unlikely', 'unn', 'unse', 'until', 'unto', 'up', 'upar', 'upon', 'us', 'use', 'used', 'useful', 'uses', 'usi', 'using', 'uska', 'uske', 'usne', 'uss', 'usse', 'ussi', 'usually', 'vaala', 'vaale', 'vaali', 'vahaan', 'vahan', 'vahi', 'vahin', 'vaisa', 'vaise', 'vaisi', 'vala', 'vale', 'vali', 'various', 've', 'very', 'via', 'viz', 'vo', 'waala', 'waale', 'waali', 'wagaira', 'wagairah', 'wagerah', 'waha', 'wahaan', 'wahan', 'wahi', 'wahin', 'waisa', 'waise', 'waisi', 'wala', 'wale', 'wali', 'want', 'wants', 'was', 'wasn', 'wasnt', \"wasn't\", 'way', 'we', \"we'd\", 'well', \"we'll\", 'went', 'were', \"we're\", 'weren', 'werent', \"weren't\", \"we've\", 'what', 'whatever', \"what's\", 'when', 'whence', 'whenever', 'where', 'whereafter', 'whereas', 'whereby', 'wherein', \"where's\", 'whereupon', 'wherever', 'whether', 'which', 'while', 'who', 'whoever', 'whole', 'whom', \"who's\", 'whose', 'why', 'will', 'willing', 'with', 'within', 'without', 'wo', 'woh', 'wohi', 'won', 'wont', \"won't\", 'would', 'wouldn', 'wouldnt', \"wouldn't\", 'y', 'ya', 'yadi', 'yah', 'yaha', 'yahaan', 'yahan', 'yahi', 'yahin', 'ye', 'yeah', 'yeh', 'yehi', 'yes', 'yet', 'you', \"you'd\", \"you'll\", 'your', \"you're\", 'yours', 'yourself', 'yourselves', \"you've\", 'yup']\n"
     ]
    }
   ],
   "source": [
    "print(stopwords.words('hinglish'))"
   ]
  },
  {
   "cell_type": "markdown",
   "id": "43421bb4",
   "metadata": {},
   "source": [
    "## Now We want to visualization of stopwords from our text"
   ]
  },
  {
   "cell_type": "markdown",
   "id": "d1c96124",
   "metadata": {},
   "source": [
    "#### Means we want to check which words are used commonly or frequently from our text and we will visualize those word by wordcloud"
   ]
  },
  {
   "cell_type": "code",
   "execution_count": 129,
   "id": "b418c81e",
   "metadata": {},
   "outputs": [],
   "source": [
    "# !pip install wordcloud"
   ]
  },
  {
   "cell_type": "code",
   "execution_count": 143,
   "id": "0bde5618",
   "metadata": {},
   "outputs": [],
   "source": [
    "stop_words = stopwords.words('english')"
   ]
  },
  {
   "cell_type": "code",
   "execution_count": 144,
   "id": "04346236",
   "metadata": {},
   "outputs": [],
   "source": [
    "from wordcloud import WordCloud"
   ]
  },
  {
   "cell_type": "code",
   "execution_count": 145,
   "id": "96f55f6d",
   "metadata": {},
   "outputs": [],
   "source": [
    "word_cloud = WordCloud(max_words = 60 , stopwords = stop_words + ['Challenging'] , background_color = 'pink')"
   ]
  },
  {
   "cell_type": "markdown",
   "id": "386e7b8d",
   "metadata": {},
   "source": [
    "#### We want show to maximum 60 words (stopwords)"
   ]
  },
  {
   "cell_type": "markdown",
   "id": "c6481445",
   "metadata": {},
   "source": [
    "#### We give stopwords in word_cloud because after this we will give data (text) to world_cloud . so It will give us stopwords from our text in visualization of wordcloud"
   ]
  },
  {
   "cell_type": "markdown",
   "id": "e4f72ea9",
   "metadata": {},
   "source": [
    "#### If u don't want to see any perticular words then u can add it into stopwords and add as list because stopword is list so it will concatenate it\n",
    "#### like we don't want 'challenging' word so then I will add as list in stopwords"
   ]
  },
  {
   "cell_type": "markdown",
   "id": "498c66df",
   "metadata": {},
   "source": [
    "#### Input data to wordcloud"
   ]
  },
  {
   "cell_type": "code",
   "execution_count": 146,
   "id": "4c910b51",
   "metadata": {},
   "outputs": [
    {
     "data": {
      "text/plain": [
       "<wordcloud.wordcloud.WordCloud at 0x22da8536850>"
      ]
     },
     "execution_count": 146,
     "metadata": {},
     "output_type": "execute_result"
    }
   ],
   "source": [
    "word_cloud.generate(text)"
   ]
  },
  {
   "cell_type": "code",
   "execution_count": 147,
   "id": "265faa99",
   "metadata": {},
   "outputs": [
    {
     "data": {
      "image/png": "[encoded data removed]",
      "text/plain": [
       "<Figure size 2000x1000 with 1 Axes>"
      ]
     },
     "metadata": {},
     "output_type": "display_data"
    }
   ],
   "source": [
    "import matplotlib.pyplot as plt\n",
    "plt.figure(figsize =(20,10))\n",
    "plt.imshow(word_cloud)\n",
    "plt.show()"
   ]
  },
  {
   "cell_type": "markdown",
   "id": "9dcd2405",
   "metadata": {},
   "source": [
    "#### We can see Sourav is large as compare to other words so sourav is used mostly then still , bengali , Ganguly , cricket , years"
   ]
  }
 ],
 "metadata": {
  "kernelspec": {
   "display_name": "Python 3 (ipykernel)",
   "language": "python",
   "name": "python3"
  },
  "language_info": {
   "codemirror_mode": {
    "name": "ipython",
    "version": 3
   },
   "file_extension": ".py",
   "mimetype": "text/x-python",
   "name": "python",
   "nbconvert_exporter": "python",
   "pygments_lexer": "ipython3",
   "version": "3.11.4"
  }
 },
 "nbformat": 4,
 "nbformat_minor": 5
}

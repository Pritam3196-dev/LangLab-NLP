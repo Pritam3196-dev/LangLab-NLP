{
 "cells": [
  {
   "cell_type": "markdown",
   "id": "4015a9ea",
   "metadata": {},
   "source": [
    "## Here we perform case study on Bag of words "
   ]
  },
  {
   "cell_type": "markdown",
   "id": "d76596b2",
   "metadata": {},
   "source": [
    "### 1.Count Bow\n",
    "### 2.Binary Bow"
   ]
  },
  {
   "cell_type": "markdown",
   "id": "508fdd19",
   "metadata": {},
   "source": [
    "##### We create sample data "
   ]
  },
  {
   "cell_type": "code",
   "execution_count": 2,
   "id": "e218d9f3",
   "metadata": {},
   "outputs": [],
   "source": [
    "import pandas as pd"
   ]
  },
  {
   "cell_type": "code",
   "execution_count": 3,
   "id": "eaf38cc0",
   "metadata": {},
   "outputs": [],
   "source": [
    "df = pd.DataFrame({'Text' : ['Learnbay teaches NLP' , 'NLP is in demand in market' , 'We have to learn NLP'],\n",
    "                  'Output' : [1,0,1]})"
   ]
  },
  {
   "cell_type": "code",
   "execution_count": 5,
   "id": "5bed5eb8",
   "metadata": {},
   "outputs": [
    {
     "data": {
      "text/html": [
       "<div>\n",
       "<style scoped>\n",
       "    .dataframe tbody tr th:only-of-type {\n",
       "        vertical-align: middle;\n",
       "    }\n",
       "\n",
       "    .dataframe tbody tr th {\n",
       "        vertical-align: top;\n",
       "    }\n",
       "\n",
       "    .dataframe thead th {\n",
       "        text-align: right;\n",
       "    }\n",
       "</style>\n",
       "<table border=\"1\" class=\"dataframe\">\n",
       "  <thead>\n",
       "    <tr style=\"text-align: right;\">\n",
       "      <th></th>\n",
       "      <th>Text</th>\n",
       "      <th>Output</th>\n",
       "    </tr>\n",
       "  </thead>\n",
       "  <tbody>\n",
       "    <tr>\n",
       "      <th>0</th>\n",
       "      <td>Learnbay teaches NLP</td>\n",
       "      <td>1</td>\n",
       "    </tr>\n",
       "    <tr>\n",
       "      <th>1</th>\n",
       "      <td>NLP is in demand in market</td>\n",
       "      <td>0</td>\n",
       "    </tr>\n",
       "    <tr>\n",
       "      <th>2</th>\n",
       "      <td>We have to learn NLP</td>\n",
       "      <td>1</td>\n",
       "    </tr>\n",
       "  </tbody>\n",
       "</table>\n",
       "</div>"
      ],
      "text/plain": [
       "                         Text  Output\n",
       "0        Learnbay teaches NLP       1\n",
       "1  NLP is in demand in market       0\n",
       "2        We have to learn NLP       1"
      ]
     },
     "execution_count": 5,
     "metadata": {},
     "output_type": "execute_result"
    }
   ],
   "source": [
    "df"
   ]
  },
  {
   "cell_type": "markdown",
   "id": "7b316783",
   "metadata": {},
   "source": [
    "### Count Bow"
   ]
  },
  {
   "cell_type": "markdown",
   "id": "5d1725ca",
   "metadata": {},
   "source": [
    "#### Import Bow"
   ]
  },
  {
   "cell_type": "code",
   "execution_count": 9,
   "id": "d231f6c7",
   "metadata": {},
   "outputs": [],
   "source": [
    "from sklearn.feature_extraction.text import CountVectorizer"
   ]
  },
  {
   "cell_type": "markdown",
   "id": "b64218bc",
   "metadata": {},
   "source": [
    "#### Count Bow"
   ]
  },
  {
   "cell_type": "code",
   "execution_count": 10,
   "id": "5d398611",
   "metadata": {},
   "outputs": [],
   "source": [
    "cv_count = CountVectorizer()  # Here binary = False in parameter"
   ]
  },
  {
   "cell_type": "code",
   "execution_count": 11,
   "id": "ef72bb69",
   "metadata": {},
   "outputs": [
    {
     "data": {
      "text/html": [
       "<style>#sk-container-id-1 {color: black;}#sk-container-id-1 pre{padding: 0;}#sk-container-id-1 div.sk-toggleable {background-color: white;}#sk-container-id-1 label.sk-toggleable__label {cursor: pointer;display: block;width: 100%;margin-bottom: 0;padding: 0.3em;box-sizing: border-box;text-align: center;}#sk-container-id-1 label.sk-toggleable__label-arrow:before {content: \"▸\";float: left;margin-right: 0.25em;color: #696969;}#sk-container-id-1 label.sk-toggleable__label-arrow:hover:before {color: black;}#sk-container-id-1 div.sk-estimator:hover label.sk-toggleable__label-arrow:before {color: black;}#sk-container-id-1 div.sk-toggleable__content {max-height: 0;max-width: 0;overflow: hidden;text-align: left;background-color: #f0f8ff;}#sk-container-id-1 div.sk-toggleable__content pre {margin: 0.2em;color: black;border-radius: 0.25em;background-color: #f0f8ff;}#sk-container-id-1 input.sk-toggleable__control:checked~div.sk-toggleable__content {max-height: 200px;max-width: 100%;overflow: auto;}#sk-container-id-1 input.sk-toggleable__control:checked~label.sk-toggleable__label-arrow:before {content: \"▾\";}#sk-container-id-1 div.sk-estimator input.sk-toggleable__control:checked~label.sk-toggleable__label {background-color: #d4ebff;}#sk-container-id-1 div.sk-label input.sk-toggleable__control:checked~label.sk-toggleable__label {background-color: #d4ebff;}#sk-container-id-1 input.sk-hidden--visually {border: 0;clip: rect(1px 1px 1px 1px);clip: rect(1px, 1px, 1px, 1px);height: 1px;margin: -1px;overflow: hidden;padding: 0;position: absolute;width: 1px;}#sk-container-id-1 div.sk-estimator {font-family: monospace;background-color: #f0f8ff;border: 1px dotted black;border-radius: 0.25em;box-sizing: border-box;margin-bottom: 0.5em;}#sk-container-id-1 div.sk-estimator:hover {background-color: #d4ebff;}#sk-container-id-1 div.sk-parallel-item::after {content: \"\";width: 100%;border-bottom: 1px solid gray;flex-grow: 1;}#sk-container-id-1 div.sk-label:hover label.sk-toggleable__label {background-color: #d4ebff;}#sk-container-id-1 div.sk-serial::before {content: \"\";position: absolute;border-left: 1px solid gray;box-sizing: border-box;top: 0;bottom: 0;left: 50%;z-index: 0;}#sk-container-id-1 div.sk-serial {display: flex;flex-direction: column;align-items: center;background-color: white;padding-right: 0.2em;padding-left: 0.2em;position: relative;}#sk-container-id-1 div.sk-item {position: relative;z-index: 1;}#sk-container-id-1 div.sk-parallel {display: flex;align-items: stretch;justify-content: center;background-color: white;position: relative;}#sk-container-id-1 div.sk-item::before, #sk-container-id-1 div.sk-parallel-item::before {content: \"\";position: absolute;border-left: 1px solid gray;box-sizing: border-box;top: 0;bottom: 0;left: 50%;z-index: -1;}#sk-container-id-1 div.sk-parallel-item {display: flex;flex-direction: column;z-index: 1;position: relative;background-color: white;}#sk-container-id-1 div.sk-parallel-item:first-child::after {align-self: flex-end;width: 50%;}#sk-container-id-1 div.sk-parallel-item:last-child::after {align-self: flex-start;width: 50%;}#sk-container-id-1 div.sk-parallel-item:only-child::after {width: 0;}#sk-container-id-1 div.sk-dashed-wrapped {border: 1px dashed gray;margin: 0 0.4em 0.5em 0.4em;box-sizing: border-box;padding-bottom: 0.4em;background-color: white;}#sk-container-id-1 div.sk-label label {font-family: monospace;font-weight: bold;display: inline-block;line-height: 1.2em;}#sk-container-id-1 div.sk-label-container {text-align: center;}#sk-container-id-1 div.sk-container {/* jupyter's `normalize.less` sets `[hidden] { display: none; }` but bootstrap.min.css set `[hidden] { display: none !important; }` so we also need the `!important` here to be able to override the default hidden behavior on the sphinx rendered scikit-learn.org. See: https://github.com/scikit-learn/scikit-learn/issues/21755 */display: inline-block !important;position: relative;}#sk-container-id-1 div.sk-text-repr-fallback {display: none;}</style><div id=\"sk-container-id-1\" class=\"sk-top-container\"><div class=\"sk-text-repr-fallback\"><pre>CountVectorizer()</pre><b>In a Jupyter environment, please rerun this cell to show the HTML representation or trust the notebook. <br />On GitHub, the HTML representation is unable to render, please try loading this page with nbviewer.org.</b></div><div class=\"sk-container\" hidden><div class=\"sk-item\"><div class=\"sk-estimator sk-toggleable\"><input class=\"sk-toggleable__control sk-hidden--visually\" id=\"sk-estimator-id-1\" type=\"checkbox\" checked><label for=\"sk-estimator-id-1\" class=\"sk-toggleable__label sk-toggleable__label-arrow\">CountVectorizer</label><div class=\"sk-toggleable__content\"><pre>CountVectorizer()</pre></div></div></div></div></div>"
      ],
      "text/plain": [
       "CountVectorizer()"
      ]
     },
     "execution_count": 11,
     "metadata": {},
     "output_type": "execute_result"
    }
   ],
   "source": [
    "cv_count"
   ]
  },
  {
   "cell_type": "markdown",
   "id": "4a3419ac",
   "metadata": {},
   "source": [
    "#### Fit and transform data with count bow"
   ]
  },
  {
   "cell_type": "code",
   "execution_count": 13,
   "id": "74ee54c2",
   "metadata": {},
   "outputs": [],
   "source": [
    "count_bow = cv_count.fit_transform(df['Text'])   \n",
    "#raw_documents means it ask about sentences/documents for input"
   ]
  },
  {
   "cell_type": "markdown",
   "id": "4740e7f8",
   "metadata": {},
   "source": [
    "#### Vocabulary in count bag of word"
   ]
  },
  {
   "cell_type": "code",
   "execution_count": 44,
   "id": "c441fe66",
   "metadata": {},
   "outputs": [
    {
     "name": "stdout",
     "output_type": "stream",
     "text": [
      "{'learnbay': 5, 'teaches': 8, 'nlp': 7, 'is': 3, 'in': 2, 'demand': 0, 'market': 6, 'we': 10, 'have': 1, 'to': 9, 'learn': 4}\n"
     ]
    }
   ],
   "source": [
    "print(cv_count.vocabulary_)"
   ]
  },
  {
   "cell_type": "markdown",
   "id": "da634d11",
   "metadata": {},
   "source": [
    "#### Key is vocabulary words and valus are index number (accorsing ascending alphabates)"
   ]
  },
  {
   "cell_type": "code",
   "execution_count": 14,
   "id": "9e0dbafd",
   "metadata": {},
   "outputs": [
    {
     "data": {
      "text/plain": [
       "<3x11 sparse matrix of type '<class 'numpy.int64'>'\n",
       "\twith 13 stored elements in Compressed Sparse Row format>"
      ]
     },
     "execution_count": 14,
     "metadata": {},
     "output_type": "execute_result"
    }
   ],
   "source": [
    "count_bow"
   ]
  },
  {
   "cell_type": "markdown",
   "id": "ee1f7be6",
   "metadata": {},
   "source": [
    "#### This is sparse matrix so we need to convert into array"
   ]
  },
  {
   "cell_type": "code",
   "execution_count": 18,
   "id": "0aced0f4",
   "metadata": {},
   "outputs": [
    {
     "data": {
      "text/plain": [
       "array([[0, 0, 0, 0, 0, 1, 0, 1, 1, 0, 0],\n",
       "       [1, 0, 2, 1, 0, 0, 1, 1, 0, 0, 0],\n",
       "       [0, 1, 0, 0, 1, 0, 0, 1, 0, 1, 1]], dtype=int64)"
      ]
     },
     "execution_count": 18,
     "metadata": {},
     "output_type": "execute_result"
    }
   ],
   "source": [
    "count_bow.toarray()"
   ]
  },
  {
   "cell_type": "markdown",
   "id": "2d39e39d",
   "metadata": {},
   "source": [
    "#### Total no of vocabs in corpus is 11 . vocab means unique value or unique words in whole corpus"
   ]
  },
  {
   "cell_type": "markdown",
   "id": "1ca871f2",
   "metadata": {},
   "source": [
    "#### First Document / first sentence"
   ]
  },
  {
   "cell_type": "code",
   "execution_count": 21,
   "id": "02aba500",
   "metadata": {},
   "outputs": [
    {
     "name": "stdout",
     "output_type": "stream",
     "text": [
      "Learnbay teaches NLP -----> [[0 0 0 0 0 1 0 1 1 0 0]]\n"
     ]
    }
   ],
   "source": [
    "print(df['Text'][0] , '----->', count_bow[0].toarray())"
   ]
  },
  {
   "cell_type": "markdown",
   "id": "87342cb2",
   "metadata": {},
   "source": [
    "#### Second Document / second sentence"
   ]
  },
  {
   "cell_type": "code",
   "execution_count": 24,
   "id": "b259259b",
   "metadata": {},
   "outputs": [
    {
     "name": "stdout",
     "output_type": "stream",
     "text": [
      "NLP is in demand in market -----> [[1 0 2 1 0 0 1 1 0 0 0]]\n"
     ]
    }
   ],
   "source": [
    "print(df['Text'][1] , '----->', count_bow[1].toarray())"
   ]
  },
  {
   "cell_type": "markdown",
   "id": "6f09ec52",
   "metadata": {},
   "source": [
    "#### Here in 2nd document , in comes for 2 times so count of in is 2 times because its count bow"
   ]
  },
  {
   "cell_type": "markdown",
   "id": "96160deb",
   "metadata": {},
   "source": [
    "#### Third Document / third document"
   ]
  },
  {
   "cell_type": "code",
   "execution_count": 25,
   "id": "7bca5df7",
   "metadata": {},
   "outputs": [
    {
     "name": "stdout",
     "output_type": "stream",
     "text": [
      "We have to learn NLP -----> [[0 1 0 0 1 0 0 1 0 1 1]]\n"
     ]
    }
   ],
   "source": [
    "print(df['Text'][2] , '----->', count_bow[2].toarray())"
   ]
  },
  {
   "cell_type": "markdown",
   "id": "4ed8b98b",
   "metadata": {},
   "source": [
    "### How count bow works?"
   ]
  },
  {
   "cell_type": "markdown",
   "id": "f4843a15",
   "metadata": {},
   "source": [
    "##### First made vocabs means unique words from corpus or dataframe then made each word as one feature after that make it sequence in ascending order and take each document(match each word of document with feature) match with feature then make it as 1 if matches elif not then 0 if any word is occures multiple time then itmake count of that perticular word and put their count"
   ]
  },
  {
   "cell_type": "markdown",
   "id": "102d3479",
   "metadata": {},
   "source": [
    "### Binary Bow"
   ]
  },
  {
   "cell_type": "code",
   "execution_count": 27,
   "id": "31ab9f1f",
   "metadata": {},
   "outputs": [],
   "source": [
    "cv_binary = CountVectorizer(binary = True)   # binary = True means binary bow"
   ]
  },
  {
   "cell_type": "code",
   "execution_count": 28,
   "id": "b3929c4c",
   "metadata": {},
   "outputs": [
    {
     "data": {
      "text/html": [
       "<style>#sk-container-id-3 {color: black;}#sk-container-id-3 pre{padding: 0;}#sk-container-id-3 div.sk-toggleable {background-color: white;}#sk-container-id-3 label.sk-toggleable__label {cursor: pointer;display: block;width: 100%;margin-bottom: 0;padding: 0.3em;box-sizing: border-box;text-align: center;}#sk-container-id-3 label.sk-toggleable__label-arrow:before {content: \"▸\";float: left;margin-right: 0.25em;color: #696969;}#sk-container-id-3 label.sk-toggleable__label-arrow:hover:before {color: black;}#sk-container-id-3 div.sk-estimator:hover label.sk-toggleable__label-arrow:before {color: black;}#sk-container-id-3 div.sk-toggleable__content {max-height: 0;max-width: 0;overflow: hidden;text-align: left;background-color: #f0f8ff;}#sk-container-id-3 div.sk-toggleable__content pre {margin: 0.2em;color: black;border-radius: 0.25em;background-color: #f0f8ff;}#sk-container-id-3 input.sk-toggleable__control:checked~div.sk-toggleable__content {max-height: 200px;max-width: 100%;overflow: auto;}#sk-container-id-3 input.sk-toggleable__control:checked~label.sk-toggleable__label-arrow:before {content: \"▾\";}#sk-container-id-3 div.sk-estimator input.sk-toggleable__control:checked~label.sk-toggleable__label {background-color: #d4ebff;}#sk-container-id-3 div.sk-label input.sk-toggleable__control:checked~label.sk-toggleable__label {background-color: #d4ebff;}#sk-container-id-3 input.sk-hidden--visually {border: 0;clip: rect(1px 1px 1px 1px);clip: rect(1px, 1px, 1px, 1px);height: 1px;margin: -1px;overflow: hidden;padding: 0;position: absolute;width: 1px;}#sk-container-id-3 div.sk-estimator {font-family: monospace;background-color: #f0f8ff;border: 1px dotted black;border-radius: 0.25em;box-sizing: border-box;margin-bottom: 0.5em;}#sk-container-id-3 div.sk-estimator:hover {background-color: #d4ebff;}#sk-container-id-3 div.sk-parallel-item::after {content: \"\";width: 100%;border-bottom: 1px solid gray;flex-grow: 1;}#sk-container-id-3 div.sk-label:hover label.sk-toggleable__label {background-color: #d4ebff;}#sk-container-id-3 div.sk-serial::before {content: \"\";position: absolute;border-left: 1px solid gray;box-sizing: border-box;top: 0;bottom: 0;left: 50%;z-index: 0;}#sk-container-id-3 div.sk-serial {display: flex;flex-direction: column;align-items: center;background-color: white;padding-right: 0.2em;padding-left: 0.2em;position: relative;}#sk-container-id-3 div.sk-item {position: relative;z-index: 1;}#sk-container-id-3 div.sk-parallel {display: flex;align-items: stretch;justify-content: center;background-color: white;position: relative;}#sk-container-id-3 div.sk-item::before, #sk-container-id-3 div.sk-parallel-item::before {content: \"\";position: absolute;border-left: 1px solid gray;box-sizing: border-box;top: 0;bottom: 0;left: 50%;z-index: -1;}#sk-container-id-3 div.sk-parallel-item {display: flex;flex-direction: column;z-index: 1;position: relative;background-color: white;}#sk-container-id-3 div.sk-parallel-item:first-child::after {align-self: flex-end;width: 50%;}#sk-container-id-3 div.sk-parallel-item:last-child::after {align-self: flex-start;width: 50%;}#sk-container-id-3 div.sk-parallel-item:only-child::after {width: 0;}#sk-container-id-3 div.sk-dashed-wrapped {border: 1px dashed gray;margin: 0 0.4em 0.5em 0.4em;box-sizing: border-box;padding-bottom: 0.4em;background-color: white;}#sk-container-id-3 div.sk-label label {font-family: monospace;font-weight: bold;display: inline-block;line-height: 1.2em;}#sk-container-id-3 div.sk-label-container {text-align: center;}#sk-container-id-3 div.sk-container {/* jupyter's `normalize.less` sets `[hidden] { display: none; }` but bootstrap.min.css set `[hidden] { display: none !important; }` so we also need the `!important` here to be able to override the default hidden behavior on the sphinx rendered scikit-learn.org. See: https://github.com/scikit-learn/scikit-learn/issues/21755 */display: inline-block !important;position: relative;}#sk-container-id-3 div.sk-text-repr-fallback {display: none;}</style><div id=\"sk-container-id-3\" class=\"sk-top-container\"><div class=\"sk-text-repr-fallback\"><pre>CountVectorizer(binary=True)</pre><b>In a Jupyter environment, please rerun this cell to show the HTML representation or trust the notebook. <br />On GitHub, the HTML representation is unable to render, please try loading this page with nbviewer.org.</b></div><div class=\"sk-container\" hidden><div class=\"sk-item\"><div class=\"sk-estimator sk-toggleable\"><input class=\"sk-toggleable__control sk-hidden--visually\" id=\"sk-estimator-id-3\" type=\"checkbox\" checked><label for=\"sk-estimator-id-3\" class=\"sk-toggleable__label sk-toggleable__label-arrow\">CountVectorizer</label><div class=\"sk-toggleable__content\"><pre>CountVectorizer(binary=True)</pre></div></div></div></div></div>"
      ],
      "text/plain": [
       "CountVectorizer(binary=True)"
      ]
     },
     "execution_count": 28,
     "metadata": {},
     "output_type": "execute_result"
    }
   ],
   "source": [
    "cv_binary"
   ]
  },
  {
   "cell_type": "markdown",
   "id": "4624aa5c",
   "metadata": {},
   "source": [
    "#### Fit and transform data with binary bow"
   ]
  },
  {
   "cell_type": "code",
   "execution_count": 30,
   "id": "8b287dba",
   "metadata": {},
   "outputs": [],
   "source": [
    "binary_bow = cv_binary.fit_transform(df['Text'])"
   ]
  },
  {
   "cell_type": "markdown",
   "id": "833bda17",
   "metadata": {},
   "source": [
    "#### Vocabulary of binary bag of words"
   ]
  },
  {
   "cell_type": "code",
   "execution_count": 45,
   "id": "d83f418c",
   "metadata": {},
   "outputs": [
    {
     "name": "stdout",
     "output_type": "stream",
     "text": [
      "{'learnbay': 5, 'teaches': 8, 'nlp': 7, 'is': 3, 'in': 2, 'demand': 0, 'market': 6, 'we': 10, 'have': 1, 'to': 9, 'learn': 4}\n"
     ]
    }
   ],
   "source": [
    "print(cv_binary.vocabulary_)"
   ]
  },
  {
   "cell_type": "code",
   "execution_count": 31,
   "id": "f43bdf9b",
   "metadata": {},
   "outputs": [
    {
     "data": {
      "text/plain": [
       "<3x11 sparse matrix of type '<class 'numpy.int64'>'\n",
       "\twith 13 stored elements in Compressed Sparse Row format>"
      ]
     },
     "execution_count": 31,
     "metadata": {},
     "output_type": "execute_result"
    }
   ],
   "source": [
    "binary_bow"
   ]
  },
  {
   "cell_type": "markdown",
   "id": "0d7b28cf",
   "metadata": {},
   "source": [
    "#### This is sparse matrix so we need to convert in array"
   ]
  },
  {
   "cell_type": "code",
   "execution_count": 32,
   "id": "aec94966",
   "metadata": {},
   "outputs": [
    {
     "data": {
      "text/plain": [
       "array([[0, 0, 0, 0, 0, 1, 0, 1, 1, 0, 0],\n",
       "       [1, 0, 1, 1, 0, 0, 1, 1, 0, 0, 0],\n",
       "       [0, 1, 0, 0, 1, 0, 0, 1, 0, 1, 1]], dtype=int64)"
      ]
     },
     "execution_count": 32,
     "metadata": {},
     "output_type": "execute_result"
    }
   ],
   "source": [
    "binary_bow.toarray()"
   ]
  },
  {
   "cell_type": "markdown",
   "id": "342ad644",
   "metadata": {},
   "source": [
    "#### First document"
   ]
  },
  {
   "cell_type": "code",
   "execution_count": 35,
   "id": "e7ab07f4",
   "metadata": {},
   "outputs": [
    {
     "name": "stdout",
     "output_type": "stream",
     "text": [
      "Learnbay teaches NLP -------> [[0 0 0 0 0 1 0 1 1 0 0]]\n"
     ]
    }
   ],
   "source": [
    "print(df['Text'][0] ,'------->', binary_bow[0].toarray())"
   ]
  },
  {
   "cell_type": "markdown",
   "id": "90e33e23",
   "metadata": {},
   "source": [
    "#### Second document"
   ]
  },
  {
   "cell_type": "code",
   "execution_count": 37,
   "id": "fec51a67",
   "metadata": {},
   "outputs": [
    {
     "name": "stdout",
     "output_type": "stream",
     "text": [
      "NLP is in demand in market -------> [[1 0 1 1 0 0 1 1 0 0 0]]\n"
     ]
    }
   ],
   "source": [
    "print(df['Text'][1] ,'------->' ,binary_bow[1].toarray())"
   ]
  },
  {
   "cell_type": "markdown",
   "id": "87c171af",
   "metadata": {},
   "source": [
    "#### Here 'in' ,  2 times in document but it mentioned as 1 because its binary. It either 1 or 0 . 1 means word is present and 0 means not present"
   ]
  },
  {
   "cell_type": "markdown",
   "id": "6cc65639",
   "metadata": {},
   "source": [
    "#### Third document"
   ]
  },
  {
   "cell_type": "code",
   "execution_count": 40,
   "id": "cddc1749",
   "metadata": {},
   "outputs": [
    {
     "name": "stdout",
     "output_type": "stream",
     "text": [
      "We have to learn NLP -----> [[0 1 0 0 1 0 0 1 0 1 1]]\n"
     ]
    }
   ],
   "source": [
    "print(df['Text'][2] ,'----->' , binary_bow[2].toarray())"
   ]
  },
  {
   "cell_type": "markdown",
   "id": "6acc2a9a",
   "metadata": {},
   "source": [
    "### How Binary Bow works ?"
   ]
  },
  {
   "cell_type": "markdown",
   "id": "5d20d19c",
   "metadata": {},
   "source": [
    "##### First made vocabs means unique words from corpus or dataframe then made each word as one feature after that make it sequence in ascending order and take each document(match each word of document with feature) match with feature then make it as 1 if matches elif not then 0 . In binary if word is present then 1elif not present then 0"
   ]
  },
  {
   "cell_type": "markdown",
   "id": "c3f18b3a",
   "metadata": {},
   "source": [
    "#### Another example of binary bow"
   ]
  },
  {
   "cell_type": "code",
   "execution_count": 50,
   "id": "837fca2e",
   "metadata": {},
   "outputs": [],
   "source": [
    "sentence = [\"NLP is the leader in the market and we all have to learn it\"]"
   ]
  },
  {
   "cell_type": "code",
   "execution_count": 56,
   "id": "6edb61c2",
   "metadata": {},
   "outputs": [],
   "source": [
    "binary_bow_1 = cv_binary.fit_transform(sentence)"
   ]
  },
  {
   "cell_type": "markdown",
   "id": "253e86e9",
   "metadata": {},
   "source": [
    "#### Vocabulary for this data"
   ]
  },
  {
   "cell_type": "code",
   "execution_count": 54,
   "id": "01d8a649",
   "metadata": {},
   "outputs": [
    {
     "name": "stdout",
     "output_type": "stream",
     "text": [
      "{'nlp': 9, 'is': 4, 'the': 10, 'leader': 6, 'in': 3, 'market': 8, 'and': 1, 'we': 12, 'all': 0, 'have': 2, 'to': 11, 'learn': 7, 'it': 5}\n"
     ]
    }
   ],
   "source": [
    "print(cv_binary.vocabulary_)"
   ]
  },
  {
   "cell_type": "code",
   "execution_count": 67,
   "id": "20b9fda7",
   "metadata": {},
   "outputs": [
    {
     "name": "stdout",
     "output_type": "stream",
     "text": [
      "['NLP is the leader in the market and we all have to learn it']\n"
     ]
    }
   ],
   "source": [
    "print(sentence)"
   ]
  },
  {
   "cell_type": "code",
   "execution_count": 66,
   "id": "a491293b",
   "metadata": {},
   "outputs": [
    {
     "name": "stdout",
     "output_type": "stream",
     "text": [
      "nlp is the leader in market and we all have to learn it ------> [[1 1 1 1 1 1 1 1 1 1 1 1 1]]\n"
     ]
    }
   ],
   "source": [
    "print(' '.join(cv_binary.vocabulary_.keys()), '------>' , binary_bow_1.toarray())"
   ]
  }
 ],
 "metadata": {
  "kernelspec": {
   "display_name": "Python 3 (ipykernel)",
   "language": "python",
   "name": "python3"
  },
  "language_info": {
   "codemirror_mode": {
    "name": "ipython",
    "version": 3
   },
   "file_extension": ".py",
   "mimetype": "text/x-python",
   "name": "python",
   "nbconvert_exporter": "python",
   "pygments_lexer": "ipython3",
   "version": "3.11.4"
  }
 },
 "nbformat": 4,
 "nbformat_minor": 5
}

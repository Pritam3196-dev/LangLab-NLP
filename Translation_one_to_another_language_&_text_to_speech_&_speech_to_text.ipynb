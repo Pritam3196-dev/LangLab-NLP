{
 "cells": [
  {
   "cell_type": "markdown",
   "id": "d9128402",
   "metadata": {},
   "source": [
    "## Translation"
   ]
  },
  {
   "cell_type": "markdown",
   "id": "064c9787",
   "metadata": {},
   "source": [
    "##### We want to perform translation of one language into another language using NLP(python)"
   ]
  },
  {
   "cell_type": "markdown",
   "id": "7a0d9fdf",
   "metadata": {},
   "source": [
    "##### For that reason we required python libraries. so deep-translator is the library in python that we use heer"
   ]
  },
  {
   "cell_type": "markdown",
   "id": "d6f8579b",
   "metadata": {},
   "source": [
    "##### First we install it"
   ]
  },
  {
   "cell_type": "code",
   "execution_count": 8,
   "id": "98340931",
   "metadata": {},
   "outputs": [],
   "source": [
    "#! pip install deep-translator"
   ]
  },
  {
   "cell_type": "markdown",
   "id": "ee09547d",
   "metadata": {},
   "source": [
    "##### we install it.now we need to import in local jupyter notebook"
   ]
  },
  {
   "cell_type": "code",
   "execution_count": 11,
   "id": "ce7f2120",
   "metadata": {},
   "outputs": [],
   "source": [
    "from deep_translator import GoogleTranslator"
   ]
  },
  {
   "cell_type": "markdown",
   "id": "5c759fc5",
   "metadata": {},
   "source": [
    "#### deep_translator is the library\n",
    "#### GoogleTranslator is the class under deep_translator library.so thats why it take argumets() and this arguments are taking for its constructor of GoogleTranslator class(def __init__():) \n",
    "#### translate is the built in function in deep_translator library . which actual perform translation "
   ]
  },
  {
   "cell_type": "code",
   "execution_count": 39,
   "id": "384d3b8b",
   "metadata": {},
   "outputs": [],
   "source": [
    "def Translator(source , target , text):\n",
    "    \n",
    "    translator = GoogleTranslator(source , target)\n",
    "    trans = translator.translate(text)\n",
    "    return trans"
   ]
  },
  {
   "cell_type": "markdown",
   "id": "3919135d",
   "metadata": {},
   "source": [
    "### Chinese to English"
   ]
  },
  {
   "cell_type": "markdown",
   "id": "4e167876",
   "metadata": {},
   "source": [
    "##### Code of English is 'en'"
   ]
  },
  {
   "cell_type": "markdown",
   "id": "a22e7c81",
   "metadata": {},
   "source": [
    "#### Code of chineses language is 'zn-CN'"
   ]
  },
  {
   "cell_type": "code",
   "execution_count": 47,
   "id": "bf2f4888",
   "metadata": {},
   "outputs": [
    {
     "name": "stdout",
     "output_type": "stream",
     "text": [
      "Enter the text for translation:“单边开放”的利益考量  贯穿今年全年，中国实施了一系列与以往大相径庭的操作——从今年1月起，中国不断单方面开放免签政策，到十月底，已经对16个国家实行免签入境政策，对54个国家实行72小时或144小时过境免签。在特朗普再当选三天后，又对斯洛伐克、挪威、芬兰、韩国等9国免签。  而且中国对这些国家实施的是单方面免签，意味着中国公民到这些国家依然需要签证，反之则不用。这与中国长期以来在外交上实施的“对等原则”迥然不同。  此外，12月1日起，中国给予所有建交的最不发达国家100%税目产品零关税待遇；外资准入负面清单继续缩减，制造业基本“清零”。\n",
      "****************************************************************************************************\n",
      "Enter the code of language of your text is available :zh-CN\n",
      "****************************************************************************************************\n",
      "Enter the code of language in which you want to translate the text :en\n",
      "****************************************************************************************************\n",
      "The interests of \"unilateral opening\" Throughout this year, China has implemented a series of operations that are very different from the past. Since January this year, China has continuously opened up its visa-free policy unilaterally. By the end of October, it had implemented a visa-free entry policy for 16 countries and a 72-hour or 144-hour transit visa-free policy for 54 countries. Three days after Trump was re-elected, visa-free access was extended to 9 countries including Slovakia, Norway, Finland, and South Korea. Moreover, China's implementation of unilateral visa-free access to these countries means that Chinese citizens still need a visa to visit these countries, but not vice versa. This is very different from the \"principle of reciprocity\" that China has long implemented in diplomacy. In addition, starting from December 1, China will grant zero tariff treatment to 100% of the tariff items of all the least developed countries with which it has established diplomatic relations; the negative list for foreign investment access continues to shrink, and the manufacturing industry is basically \"cleared\".\n",
      "****************************************************************************************************\n"
     ]
    }
   ],
   "source": [
    "text = input('Enter the text for translation:')\n",
    "print('*'*100)\n",
    "source = input('Enter the code of language of your text is available :')\n",
    "print('*' * 100)\n",
    "target = input('Enter the code of language in which you want to translate the text :')\n",
    "print('*'*100)\n",
    "eng = Translator(source , target , text)\n",
    "print(eng)\n",
    "print('*'*100)"
   ]
  },
  {
   "cell_type": "markdown",
   "id": "fe86513d",
   "metadata": {},
   "source": [
    "### Chinese to Hindi"
   ]
  },
  {
   "cell_type": "markdown",
   "id": "c5446a2f",
   "metadata": {},
   "source": [
    "#### Code of hindi language is 'hi'"
   ]
  },
  {
   "cell_type": "code",
   "execution_count": 48,
   "id": "dc90e7b2",
   "metadata": {},
   "outputs": [
    {
     "name": "stdout",
     "output_type": "stream",
     "text": [
      "Enter the text for translation:“单边开放”的利益考量  贯穿今年全年，中国实施了一系列与以往大相径庭的操作——从今年1月起，中国不断单方面开放免签政策，到十月底，已经对16个国家实行免签入境政策，对54个国家实行72小时或144小时过境免签。在特朗普再当选三天后，又对斯洛伐克、挪威、芬兰、韩国等9国免签。  而且中国对这些国家实施的是单方面免签，意味着中国公民到这些国家依然需要签证，反之则不用。这与中国长期以来在外交上实施的“对等原则”迥然不同。  此外，12月1日起，中国给予所有建交的最不发达国家100%税目产品零关税待遇；外资准入负面清单继续缩减，制造业基本“清零”。\n",
      "****************************************************************************************************\n",
      "Enter the code of language of your text is available :zh-CN\n",
      "****************************************************************************************************\n",
      "Enter the code of language in which you want to translate the text :hi\n",
      "****************************************************************************************************\n",
      "इस पूरे वर्ष में \"एकतरफा खुलेपन\" के हितों पर विचार किया गया है। चीन ने ऐसे कई ऑपरेशन लागू किए हैं जो पहले से बहुत अलग हैं। इस साल जनवरी से चीन ने अपनी वीजा-मुक्त नीति को एकतरफा जारी रखा है अक्टूबर के अंत में, इसने इसे 16 देशों के लिए लागू किया था। वीज़ा-मुक्त प्रवेश नीति 54 देशों में 72-घंटे या 144-घंटे का पारगमन वीज़ा-मुक्त प्रवेश प्रदान करती है। ट्रंप के दोबारा चुने जाने के तीन दिन बाद स्लोवाकिया, नॉर्वे, फिनलैंड और दक्षिण कोरिया समेत 9 देशों को वीजा में छूट दी गई।  इसके अलावा, चीन इन देशों के लिए एकतरफा वीज़ा छूट लागू करता है, जिसका अर्थ है कि चीनी नागरिकों को अभी भी इन देशों में जाने के लिए वीज़ा की आवश्यकता है, लेकिन इसके विपरीत नहीं। यह \"पारस्परिकता के सिद्धांत\" से बिल्कुल अलग है जिसे चीन लंबे समय से कूटनीति में लागू कर रहा है।  इसके अलावा, 1 दिसंबर से, चीन ने उन सभी अल्प विकसित देशों के उत्पादों को शून्य-टैरिफ उपचार प्रदान किया है जिनके साथ उसके राजनयिक संबंध हैं, विदेशी निवेश पहुंच के लिए नकारात्मक सूची को कम किया जा रहा है, और विनिर्माण उद्योग को मूल रूप से \"शून्य\" कर दिया गया है। साफ़ कर दिया गया।\"\n",
      "****************************************************************************************************\n"
     ]
    }
   ],
   "source": [
    "text = input('Enter the text for translation:')\n",
    "print('*'*100)\n",
    "source = input('Enter the code of language of your text is available :')\n",
    "print('*'*100)\n",
    "target = input('Enter the code of language in which you want to translate the text :')\n",
    "print('*'*100)\n",
    "hindi = Translator(source , target , text)\n",
    "print(hindi)\n",
    "print('*'*100)"
   ]
  },
  {
   "cell_type": "markdown",
   "id": "95239bbf",
   "metadata": {},
   "source": [
    "### Chinese to Marathi"
   ]
  },
  {
   "cell_type": "markdown",
   "id": "2144af83",
   "metadata": {},
   "source": [
    "#### Code of marathi language is mr"
   ]
  },
  {
   "cell_type": "code",
   "execution_count": 51,
   "id": "c5fd2263",
   "metadata": {},
   "outputs": [
    {
     "name": "stdout",
     "output_type": "stream",
     "text": [
      "Enter the text for translation:“单边开放”的利益考量  贯穿今年全年，中国实施了一系列与以往大相径庭的操作——从今年1月起，中国不断单方面开放免签政策，到十月底，已经对16个国家实行免签入境政策，对54个国家实行72小时或144小时过境免签。在特朗普再当选三天后，又对斯洛伐克、挪威、芬兰、韩国等9国免签。  而且中国对这些国家实施的是单方面免签，意味着中国公民到这些国家依然需要签证，反之则不用。这与中国长期以来在外交上实施的“对等原则”迥然不同。  此外，12月1日起，中国给予所有建交的最不发达国家100%税目产品零关税待遇；外资准入负面清单继续缩减，制造业基本“清零”。\n",
      "****************************************************************************************************\n",
      "Enter the code of language of your text is available :zh-CN\n",
      "****************************************************************************************************\n",
      "Enter the code of language in which you want to translate the text :mr\n",
      "****************************************************************************************************\n",
      "या वर्षभरात \"एकतर्फी ओपन अप\" च्या हिताचा विचार केला गेला आहे, जे या वर्षाच्या जानेवारीपासून चीनने एकतर्फीपणे व्हिसा मुक्त धोरण सुरू केले आहे ऑक्टोबरच्या शेवटी, व्हिसा-मुक्त प्रवेश धोरण 54 देशांना 72-तास किंवा 144-तास ट्रान्झिट व्हिसा-मुक्त प्रवेश प्रदान करते. ट्रम्प पुन्हा निवडून आल्यानंतर तीन दिवसांनी स्लोव्हाकिया, नॉर्वे, फिनलंड आणि दक्षिण कोरियासह 9 देशांना व्हिसा सूट देण्यात आली.  शिवाय, चीन या देशांसाठी एकतर्फी व्हिसा सूट लागू करतो, याचा अर्थ चीनी नागरिकांना या देशांमध्ये जाण्यासाठी अजूनही व्हिसाची आवश्यकता आहे, परंतु उलट नाही. चीनने मुत्सद्देगिरीत दीर्घकाळ लागू केलेल्या \"परस्परतेच्या तत्त्वा\"पेक्षा हे पूर्णपणे वेगळे आहे.  याशिवाय, 1 डिसेंबरपासून, चीनने ज्या देशांशी राजनैतिक संबंध आहेत अशा सर्व उत्पादनांना शून्य-शुल्क उपचार मंजूर केले आहेत, परदेशी गुंतवणुकीच्या प्रवेशाची नकारात्मक यादी कमी होत आहे आणि उत्पादन उद्योग मुळात \" साफ केले.\"\n",
      "****************************************************************************************************\n"
     ]
    }
   ],
   "source": [
    "text = input('Enter the text for translation:')\n",
    "print('*'*100)\n",
    "source = input('Enter the code of language of your text is available :')\n",
    "print('*'*100)\n",
    "target = input('Enter the code of language in which you want to translate the text :')\n",
    "print('*'*100)\n",
    "marathi = Translator(source = source , text = text , target = target)\n",
    "print(marathi)\n",
    "print('*'*100)"
   ]
  },
  {
   "cell_type": "markdown",
   "id": "5c413b4d",
   "metadata": {},
   "source": [
    "### Chinese to Tamil"
   ]
  },
  {
   "cell_type": "markdown",
   "id": "7dda22d9",
   "metadata": {},
   "source": [
    "### Code of tamil language is 'ta'"
   ]
  },
  {
   "cell_type": "code",
   "execution_count": 52,
   "id": "c599548d",
   "metadata": {},
   "outputs": [
    {
     "name": "stdout",
     "output_type": "stream",
     "text": [
      "Enter the text for translation:“单边开放”的利益考量  贯穿今年全年，中国实施了一系列与以往大相径庭的操作——从今年1月起，中国不断单方面开放免签政策，到十月底，已经对16个国家实行免签入境政策，对54个国家实行72小时或144小时过境免签。在特朗普再当选三天后，又对斯洛伐克、挪威、芬兰、韩国等9国免签。  而且中国对这些国家实施的是单方面免签，意味着中国公民到这些国家依然需要签证，反之则不用。这与中国长期以来在外交上实施的“对等原则”迥然不同。  此外，12月1日起，中国给予所有建交的最不发达国家100%税目产品零关税待遇；外资准入负面清单继续缩减，制造业基本“清零”。\n",
      "****************************************************************************************************\n",
      "Enter the code of language of your text is available :zh-CN\n",
      "****************************************************************************************************\n",
      "Enter the code of language in which you want to translate the text :ta\n",
      "****************************************************************************************************\n",
      "\"ஒருதலைப்பட்சமாக திறப்பது\" என்ற நலன்கள் இந்த ஆண்டு முழுவதும் பரிசீலிக்கப்பட்டு வருகின்றன, இது கடந்த ஜனவரி முதல் சீனா தனது விசா இல்லாத கொள்கையை ஒருதலைப்பட்சமாகத் திறந்து வருகிறது அக்டோபர் இறுதியில், இது 16 நாடுகளுக்கு நடைமுறைப்படுத்தப்பட்டது, இது விசா இல்லாத நுழைவுக் கொள்கையானது 54 நாடுகளுக்கு 72 மணிநேரம் அல்லது 144 மணிநேர போக்குவரத்து விசா இல்லாத நுழைவை வழங்குகிறது. டிரம்ப் மீண்டும் தேர்ந்தெடுக்கப்பட்ட மூன்று நாட்களுக்குப் பிறகு, ஸ்லோவாக்கியா, நார்வே, பின்லாந்து, தென் கொரியா உள்ளிட்ட 9 நாடுகளுக்கு விசா விலக்கு அளிக்கப்பட்டது.  மேலும், சீனா இந்த நாடுகளுக்கு ஒருதலைப்பட்ச விசா விலக்கை செயல்படுத்துகிறது, அதாவது சீன குடிமக்கள் இந்த நாடுகளுக்குச் செல்ல இன்னும் விசா தேவை, ஆனால் நேர்மாறாக இல்லை. இது சீனா நீண்டகாலமாக இராஜதந்திரத்தில் செயல்படுத்தி வரும் \"பரஸ்பர கொள்கையில்\" இருந்து முற்றிலும் வேறுபட்டது.  கூடுதலாக, டிசம்பர் 1 முதல், குறைந்த வளர்ச்சியடைந்த நாடுகளின் அனைத்து தயாரிப்புகளுக்கும் பூஜ்ஜிய-கட்டண சிகிச்சையை சீனா வழங்கியுள்ளது, வெளிநாட்டு முதலீட்டு அணுகலுக்கான எதிர்மறை பட்டியல் தொடர்ந்து குறைக்கப்படுகிறது, மேலும் உற்பத்தித் தொழில் அடிப்படையில் \" அழிக்கப்பட்டது.\"\n",
      "****************************************************************************************************\n"
     ]
    }
   ],
   "source": [
    "text = input('Enter the text for translation:')\n",
    "print('*'*100)\n",
    "source = input('Enter the code of language of your text is available :')\n",
    "print('*' * 100)\n",
    "target = input('Enter the code of language in which you want to translate the text :')\n",
    "print('*'*100)\n",
    "eng = Translator(source , target , text)\n",
    "print(eng)\n",
    "print('*'*100)"
   ]
  },
  {
   "cell_type": "markdown",
   "id": "62bca33b",
   "metadata": {},
   "source": [
    "### Chinese to Telugu"
   ]
  },
  {
   "cell_type": "markdown",
   "id": "6f812cb0",
   "metadata": {},
   "source": [
    "##### Code of telugu language is 'te'"
   ]
  },
  {
   "cell_type": "code",
   "execution_count": 53,
   "id": "2d31b7dd",
   "metadata": {},
   "outputs": [
    {
     "name": "stdout",
     "output_type": "stream",
     "text": [
      "Enter the text for translation:“单边开放”的利益考量  贯穿今年全年，中国实施了一系列与以往大相径庭的操作——从今年1月起，中国不断单方面开放免签政策，到十月底，已经对16个国家实行免签入境政策，对54个国家实行72小时或144小时过境免签。在特朗普再当选三天后，又对斯洛伐克、挪威、芬兰、韩国等9国免签。  而且中国对这些国家实施的是单方面免签，意味着中国公民到这些国家依然需要签证，反之则不用。这与中国长期以来在外交上实施的“对等原则”迥然不同。  此外，12月1日起，中国给予所有建交的最不发达国家100%税目产品零关税待遇；外资准入负面清单继续缩减，制造业基本“清零”。\n",
      "****************************************************************************************************\n",
      "Enter the code of language of your text is available :zh-CN\n",
      "****************************************************************************************************\n",
      "Enter the code of language in which you want to translate the text :te\n",
      "****************************************************************************************************\n",
      "\"ఏకపక్షంగా తెరవడం\" యొక్క ఆసక్తులు ఈ ఏడాది జనవరి నుండి చాలా భిన్నమైన కార్యకలాపాలను అమలు చేశాయి, చైనా తన వీసా రహిత విధానాన్ని కొనసాగించింది అక్టోబరు చివరలో, ఇది 16 దేశాలకు దీనిని అమలు చేసింది, వీసా-రహిత ప్రవేశ విధానం 54 దేశాలకు 72-గంటలు లేదా 144-గంటల ట్రాన్సిట్ వీసా-రహిత ప్రవేశాన్ని అందిస్తుంది. ట్రంప్ తిరిగి ఎన్నికైన మూడు రోజుల తర్వాత, స్లోవేకియా, నార్వే, ఫిన్లాండ్ మరియు దక్షిణ కొరియాతో సహా 9 దేశాలకు వీసా మినహాయింపులు మంజూరు చేయబడ్డాయి.  అంతేకాకుండా, చైనా ఈ దేశాలకు ఏకపక్ష వీసా మినహాయింపును అమలు చేస్తుంది, అంటే చైనా పౌరులకు ఈ దేశాలకు వెళ్లడానికి ఇప్పటికీ వీసాలు అవసరం, కానీ దీనికి విరుద్ధంగా కాదు. దౌత్యంలో చైనా దీర్ఘకాలంగా అమలుచేస్తున్న \"పరస్పరత సూత్రం\"కి ఇది పూర్తిగా భిన్నమైనది.  అదనంగా, డిసెంబర్ 1 నుండి, చైనా దౌత్య సంబంధాలను కలిగి ఉన్న అతి తక్కువ అభివృద్ధి చెందిన దేశాల నుండి అన్ని ఉత్పత్తులకు జీరో-టారిఫ్ ట్రీట్‌మెంట్‌ను మంజూరు చేసింది మరియు విదేశీ పెట్టుబడి ప్రవేశానికి ప్రతికూల జాబితా తగ్గుతూనే ఉంది మరియు తయారీ పరిశ్రమ ప్రాథమికంగా ఉంది. క్లియర్ చేయబడింది.\"\n",
      "****************************************************************************************************\n"
     ]
    }
   ],
   "source": [
    "text = input('Enter the text for translation:')\n",
    "print('*'*100)\n",
    "source = input('Enter the code of language of your text is available :')\n",
    "print('*' * 100)\n",
    "target = input('Enter the code of language in which you want to translate the text :')\n",
    "print('*'*100)\n",
    "eng = Translator(source , target , text)\n",
    "print(eng)\n",
    "print('*'*100)"
   ]
  },
  {
   "cell_type": "markdown",
   "id": "681f5520",
   "metadata": {},
   "source": [
    "### Chinese to Gujrati"
   ]
  },
  {
   "cell_type": "markdown",
   "id": "42dbd0ba",
   "metadata": {},
   "source": [
    "#### Code of gujrati language is 'gu'"
   ]
  },
  {
   "cell_type": "code",
   "execution_count": 54,
   "id": "4e2a86aa",
   "metadata": {},
   "outputs": [
    {
     "name": "stdout",
     "output_type": "stream",
     "text": [
      "Enter the text for translation:“单边开放”的利益考量  贯穿今年全年，中国实施了一系列与以往大相径庭的操作——从今年1月起，中国不断单方面开放免签政策，到十月底，已经对16个国家实行免签入境政策，对54个国家实行72小时或144小时过境免签。在特朗普再当选三天后，又对斯洛伐克、挪威、芬兰、韩国等9国免签。  而且中国对这些国家实施的是单方面免签，意味着中国公民到这些国家依然需要签证，反之则不用。这与中国长期以来在外交上实施的“对等原则”迥然不同。  此外，12月1日起，中国给予所有建交的最不发达国家100%税目产品零关税待遇；外资准入负面清单继续缩减，制造业基本“清零”。\n",
      "****************************************************************************************************\n",
      "Enter the code of language of your text is available :zh-CN\n",
      "****************************************************************************************************\n",
      "Enter the code of language in which you want to translate the text :gu\n",
      "****************************************************************************************************\n",
      "\"એકપક્ષીય ઉદઘાટન\" ના હિતોને ધ્યાનમાં લેવામાં આવ્યા છે જે આ વર્ષે જાન્યુઆરીથી ખૂબ જ અલગ છે ઑક્ટોબરના અંતમાં, તેણે 16 દેશો માટે તેનો અમલ કર્યો હતો. ટ્રમ્પ ફરીથી ચૂંટાયાના ત્રણ દિવસ પછી, સ્લોવાકિયા, નોર્વે, ફિનલેન્ડ અને દક્ષિણ કોરિયા સહિત 9 દેશોને વિઝા મુક્તિ આપવામાં આવી હતી.  તદુપરાંત, ચીન આ દેશો માટે એકપક્ષીય વિઝા મુક્તિ લાગુ કરે છે, જેનો અર્થ છે કે ચીની નાગરિકોને હજુ પણ આ દેશોમાં જવા માટે વિઝાની જરૂર છે, પરંતુ તેનાથી વિપરિત નથી. ચીને મુત્સદ્દીગીરીમાં લાંબા સમયથી અમલમાં મૂકેલા \"પારસ્પરિકતાના સિદ્ધાંત\"થી આ સંપૂર્ણપણે અલગ છે.  વધુમાં, 1 ડિસેમ્બરથી શરૂ કરીને, ચીને તેના રાજદ્વારી સંબંધો ધરાવતા તમામ ઉત્પાદનોને ઝીરો-ટેરિફ ટ્રીટમેન્ટ મંજૂર કરી છે, વિદેશી રોકાણની ઍક્સેસ માટેની નકારાત્મક સૂચિમાં ઘટાડો થતો રહ્યો છે, અને ઉત્પાદન ઉદ્યોગ મૂળભૂત રીતે \" સાફ કર્યું.\"\n",
      "****************************************************************************************************\n"
     ]
    }
   ],
   "source": [
    "text = input('Enter the text for translation:')\n",
    "print('*'*100)\n",
    "source = input('Enter the code of language of your text is available :')\n",
    "print('*' * 100)\n",
    "target = input('Enter the code of language in which you want to translate the text :')\n",
    "print('*'*100)\n",
    "eng = Translator(source , target , text)\n",
    "print(eng)\n",
    "print('*'*100)"
   ]
  },
  {
   "cell_type": "markdown",
   "id": "e81238f7",
   "metadata": {},
   "source": [
    "### Hindi to  Marathi"
   ]
  },
  {
   "cell_type": "code",
   "execution_count": 55,
   "id": "f634436c",
   "metadata": {},
   "outputs": [
    {
     "name": "stdout",
     "output_type": "stream",
     "text": [
      "Enter the text for translation:  राहुल द्रविड़, पूर्व क्रिकेटर  राहुल शरद द्रविड़ (Rahul Sharad Dravid) भारतीय क्रिकेट टीम के मौजूदा हेड कोच (Head Coach) और पूर्व कप्तान (Former Captain) हैं. बतौर कोच, न्यूजीलैंड के खिलाफ पहली टी20I और टेस्ट सीरीज में उन्होंने भारतीय टीम को जीत दिलाई. इंटरनेशनल क्रिकेट में अपने लंबे और महान करियर के दौरान असाधारण योगदान के लिए उन्हें ‘भारत की दीवार’ (Wall of India) का नाम दिया गया.   द्रविड़ का जन्म 11 जनवरी, 1973 को मध्य प्रदेश के इंदौर में हुआ था (Date of Birth) लेकिन वे बेंगलुरू में बड़े हुए. उनके पिता शरद द्रविड़ जैम बनाने वाली कंपनी में काम करते थे लिहाजा सेंट जोसेफ हाई स्कूल में उनकी टीम के सदस्यों ने उन्हें ‘जैमी’ (Jammy) उपनाम दे दिया. उनकी मां पुष्पा, बंगलौर विश्वविद्यालय में वास्तुकला की प्रोफेसर थीं. राहुल द्रविड़ ने बैंगलुरू के सेंट जोसेफ कॉलेज ऑफ कॉमर्स ( St. Joseph's College of Commerce) से कॉमर्स की डिग्री प्राप्त की. राहुल ने 4 मई, 2003 को नागपुर की एक सर्जन डॉक्टर विजेता पेंधारकर (Vijeta Pendharkar) से शादी की, इनके दो बेटे हैं (Dravid Son).  द्रविड़ ने 1996 में टेस्ट और वनडे डेब्यू (Test and ODI Debut) किया. उन्होंने अपने टेस्ट करियर में 164 मैच में 52.31 की औसत से 13,288 रन बनाए जिनमें 36 शतक और 63 अर्धशतक शामिल हैं (Test Career Stats). उन्होंने वनडे करियर में 344 मैच में 39.16 की औसत से 10,889 रन बनाए जिनमें 12 शतक और 83 अर्धशतक शामिल हैं (ODI Career Stats). राहुल ने अपने करियर में सिर्फ एक टी20 इंटरनेशनल मैच खेला जिसमें उन्होंने 31 रन बनाए थे (T20I Career Stats). वे सभी 10 टेस्ट खेलने वाले देशों के खिलाफ शतक बनाने वाले पहले और एकमात्र बल्लेबाज हैं. टेस्ट क्रिकेट में सबसे ज्यादा 210 कैच का वर्ल्ड रिकॉर्ड द्रविड़ के नाम है (Most Catches in Test). लगातार 173 पारियों तक ‘शून्य’ के आंकड़े से दूर रहने का वर्ल्ड रिकॉर्ड भी उनके नाम है (Most Number of Innings Without Duck). अक्टूबर 2005 में वे भारतीय टीम के कप्तान (Captain of Team India) नियुक्त हुए और सितम्बर 2007 में उन्होंने इस पद से इस्तीफा दे दिया. द्रविड़ ने 16 साल तक अंतरराष्ट्रीय क्रिकेट में भारत का प्रतिनिधित्व किया. उन्होंने मार्च, 2012 क्रिकेट के सभी फॉर्मैट से संन्यास ले लिया.   द्रविड़ को 2004 में आईसीसी प्लेयर ऑफ द ईयर (ICC Player of The Year) और टेस्ट प्लेयर ऑफ द ईयर (Test Player of The Year) के पुरस्कार से सम्मानित किया गया. उन्हें 1998 में अर्जुन अवॉर्ड (Arjuna Award) मिला. द्रविड़ 2004 में पद्मश्री (Padma Shri) और 2013 में पद्म भूषण (Padma Bhushan) से सम्मानित किए गए.   वे ट्विटर और इंस्टाग्राम पर उपलब्ध नहीं हैं, उनका ऑफिशियल फेसबुक पेज Rahul Dravid के नाम से है.  \n",
      "****************************************************************************************************\n",
      "Enter the code of language of your text is available :hi\n",
      "****************************************************************************************************\n",
      "Enter the code of language in which you want to translate the text :mr\n",
      "****************************************************************************************************\n",
      "राहुल द्रविड, माजी क्रिकेटपटू राहुल शरद द्रविड हे सध्याचे मुख्य प्रशिक्षक आणि भारतीय क्रिकेट संघाचे माजी कर्णधार आहेत. प्रशिक्षक म्हणून त्यांनी न्यूझीलंडविरुद्धच्या पहिल्या T20I आणि कसोटी मालिकेत भारतीय संघाला विजय मिळवून दिला. आंतरराष्ट्रीय क्रिकेटमधील त्यांच्या प्रदीर्घ आणि गौरवशाली कारकिर्दीत त्यांनी केलेल्या विलक्षण योगदानासाठी त्यांना 'वॉल ऑफ इंडिया' असे नाव देण्यात आले.   द्रविडचा जन्म 11 जानेवारी 1973 रोजी इंदूर, मध्य प्रदेश येथे झाला होता पण तो बंगळुरूमध्ये मोठा झाला. त्याचे वडील शरद द्रविड हे एका जाम उत्पादन कंपनीत काम करत होते, त्यामुळे सेंट जोसेफ हायस्कूलमधील त्याच्या टीम सदस्यांनी त्याला 'जॅमी' असे टोपणनाव दिले. त्यांची आई पुष्पा या बंगळुरू विद्यापीठात वास्तुशास्त्राच्या प्राध्यापक होत्या. राहुल द्रविडने सेंट जोसेफ कॉलेज ऑफ कॉमर्स, बेंगळुरू येथून कॉमर्सची पदवी मिळवली. राहुलने 4 मे 2003 रोजी नागपूरच्या सर्जन डॉ. विजेता पेंढारकर यांच्याशी विवाह केला. त्यांना दोन मुले (द्रविड पुत्र) आहेत.  द्रविडने 1996 मध्ये कसोटी आणि एकदिवसीय क्रिकेटमध्ये पदार्पण केले. त्याच्या कसोटी कारकिर्दीत, त्याने 164 सामन्यांमध्ये 52.31 च्या सरासरीने 13,288 धावा केल्या, ज्यात 36 शतके आणि 63 अर्धशतकांचा समावेश आहे (कसोटी कारकिर्दीची आकडेवारी). त्याच्या एकदिवसीय कारकिर्दीत, त्याने 344 सामन्यांमध्ये 39.16 च्या सरासरीने 10,889 धावा केल्या, ज्यात 12 शतके आणि 83 अर्धशतकांचा समावेश आहे (ODI करिअर आकडेवारी). राहुलने त्याच्या कारकिर्दीत फक्त एकच T20 आंतरराष्ट्रीय सामना खेळला ज्यामध्ये त्याने 31 धावा केल्या (T20I करिअरची आकडेवारी). सर्व 10 कसोटी खेळणाऱ्या राष्ट्रांविरुद्ध शतक झळकावणारा तो पहिला आणि एकमेव फलंदाज आहे. द्रविडच्या नावावर कसोटी क्रिकेटमध्ये 210 झेल घेण्याचा विश्वविक्रम आहे (कसोटीमध्ये सर्वाधिक झेल). त्याच्या नावावर सलग १७३ डावांसाठी 'शून्य' आकड्यापासून दूर राहण्याचा विश्वविक्रम आहे (मोस्ट नंबर ऑफ इनिंग्स विदाउट डक). ऑक्टोबर 2005 मध्ये त्यांना टीम इंडियाचा कर्णधार म्हणून नियुक्त करण्यात आले आणि सप्टेंबर 2007 मध्ये त्यांनी या पदाचा राजीनामा दिला. द्रविडने 16 वर्षे आंतरराष्ट्रीय क्रिकेटमध्ये भारताचे प्रतिनिधित्व केले. मार्च २०१२ मध्ये त्याने क्रिकेटच्या सर्व फॉरमॅटमधून निवृत्ती घेतली.   द्रविडला 2004 मध्ये ICC प्लेयर ऑफ द इयर आणि टेस्ट प्लेयर ऑफ द इयर पुरस्काराने सन्मानित करण्यात आले. 1998 मध्ये त्यांना अर्जुन पुरस्कार मिळाला होता. द्रविडला 2004 मध्ये पद्मश्री आणि 2013 मध्ये पद्मभूषणने सन्मानित करण्यात आले होते.   तो ट्विटर आणि इंस्टाग्रामवर उपलब्ध नाही, त्याचे अधिकृत फेसबुक पेज राहुल द्रविडच्या नावावर आहे.\n",
      "****************************************************************************************************\n"
     ]
    }
   ],
   "source": [
    "text = input('Enter the text for translation:')\n",
    "print('*'*100)\n",
    "source = input('Enter the code of language of your text is available :')\n",
    "print('*' * 100)\n",
    "target = input('Enter the code of language in which you want to translate the text :')\n",
    "print('*'*100)\n",
    "eng = Translator(source , target , text)\n",
    "print(eng)\n",
    "print('*'*100)"
   ]
  },
  {
   "cell_type": "markdown",
   "id": "3cea77a5",
   "metadata": {},
   "source": [
    "### Hindi to English"
   ]
  },
  {
   "cell_type": "code",
   "execution_count": 56,
   "id": "15f08355",
   "metadata": {},
   "outputs": [
    {
     "name": "stdout",
     "output_type": "stream",
     "text": [
      "Enter the text for translation:राहुल द्रविड़, पूर्व क्रिकेटर  राहुल शरद द्रविड़ (Rahul Sharad Dravid) भारतीय क्रिकेट टीम के मौजूदा हेड कोच (Head Coach) और पूर्व कप्तान (Former Captain) हैं. बतौर कोच, न्यूजीलैंड के खिलाफ पहली टी20I और टेस्ट सीरीज में उन्होंने भारतीय टीम को जीत दिलाई. इंटरनेशनल क्रिकेट में अपने लंबे और महान करियर के दौरान असाधारण योगदान के लिए उन्हें ‘भारत की दीवार’ (Wall of India) का नाम दिया गया.   द्रविड़ का जन्म 11 जनवरी, 1973 को मध्य प्रदेश के इंदौर में हुआ था (Date of Birth) लेकिन वे बेंगलुरू में बड़े हुए. उनके पिता शरद द्रविड़ जैम बनाने वाली कंपनी में काम करते थे लिहाजा सेंट जोसेफ हाई स्कूल में उनकी टीम के सदस्यों ने उन्हें ‘जैमी’ (Jammy) उपनाम दे दिया. उनकी मां पुष्पा, बंगलौर विश्वविद्यालय में वास्तुकला की प्रोफेसर थीं. राहुल द्रविड़ ने बैंगलुरू के सेंट जोसेफ कॉलेज ऑफ कॉमर्स ( St. Joseph's College of Commerce) से कॉमर्स की डिग्री प्राप्त की. राहुल ने 4 मई, 2003 को नागपुर की एक सर्जन डॉक्टर विजेता पेंधारकर (Vijeta Pendharkar) से शादी की, इनके दो बेटे हैं (Dravid Son).  द्रविड़ ने 1996 में टेस्ट और वनडे डेब्यू (Test and ODI Debut) किया. उन्होंने अपने टेस्ट करियर में 164 मैच में 52.31 की औसत से 13,288 रन बनाए जिनमें 36 शतक और 63 अर्धशतक शामिल हैं (Test Career Stats). उन्होंने वनडे करियर में 344 मैच में 39.16 की औसत से 10,889 रन बनाए जिनमें 12 शतक और 83 अर्धशतक शामिल हैं (ODI Career Stats). राहुल ने अपने करियर में सिर्फ एक टी20 इंटरनेशनल मैच खेला जिसमें उन्होंने 31 रन बनाए थे (T20I Career Stats). वे सभी 10 टेस्ट खेलने वाले देशों के खिलाफ शतक बनाने वाले पहले और एकमात्र बल्लेबाज हैं. टेस्ट क्रिकेट में सबसे ज्यादा 210 कैच का वर्ल्ड रिकॉर्ड द्रविड़ के नाम है (Most Catches in Test). लगातार 173 पारियों तक ‘शून्य’ के आंकड़े से दूर रहने का वर्ल्ड रिकॉर्ड भी उनके नाम है (Most Number of Innings Without Duck). अक्टूबर 2005 में वे भारतीय टीम के कप्तान (Captain of Team India) नियुक्त हुए और सितम्बर 2007 में उन्होंने इस पद से इस्तीफा दे दिया. द्रविड़ ने 16 साल तक अंतरराष्ट्रीय क्रिकेट में भारत का प्रतिनिधित्व किया. उन्होंने मार्च, 2012 क्रिकेट के सभी फॉर्मैट से संन्यास ले लिया.   द्रविड़ को 2004 में आईसीसी प्लेयर ऑफ द ईयर (ICC Player of The Year) और टेस्ट प्लेयर ऑफ द ईयर (Test Player of The Year) के पुरस्कार से सम्मानित किया गया. उन्हें 1998 में अर्जुन अवॉर्ड (Arjuna Award) मिला. द्रविड़ 2004 में पद्मश्री (Padma Shri) और 2013 में पद्म भूषण (Padma Bhushan) से सम्मानित किए गए.   वे ट्विटर और इंस्टाग्राम पर उपलब्ध नहीं हैं, उनका ऑफिशियल फेसबुक पेज Rahul Dravid के नाम से है.  \n",
      "****************************************************************************************************\n",
      "Enter the code of language of your text is available :hi\n",
      "****************************************************************************************************\n",
      "Enter the code of language in which you want to translate the text :en\n",
      "****************************************************************************************************\n",
      "Rahul Dravid, former cricketer Rahul Sharad Dravid is the current head coach and former captain of the Indian cricket team. As a coach, he led the Indian team to victory in the first T20I and Test series against New Zealand. He was nicknamed 'Wall of India' for his extraordinary contribution during his long and great career in international cricket. Dravid was born on 11 January 1973 in Indore, Madhya Pradesh (Date of Birth) but grew up in Bangalore. His father Sharad Dravid worked in a jam making company, so his team members at St. Joseph's High School gave him the nickname 'Jammy'. His mother Pushpa was a professor of architecture at Bangalore University. Rahul Dravid received a commerce degree from St. Joseph's College of Commerce, Bangalore. Rahul married Dr. Vijeta Pendharkar, a surgeon from Nagpur, on May 4, 2003. They have two sons (Dravid Son). Dravid made his Test and ODI debut in 1996. In his Test career, he scored 13,288 runs in 164 matches at an average of 52.31, which includes 36 centuries and 63 half-centuries (Test Career Stats). In his ODI career, he scored 10,889 runs in 344 matches at an average of 39.16, which includes 12 centuries and 83 half-centuries (ODI Career Stats). Rahul played only one T20 International match in his career in which he scored 31 runs (T20I Career Stats). He is the first and only batsman to score a century against all 10 Test playing countries. Dravid holds the world record of most catches in Test cricket (210). He also holds the world record of staying away from the figure of 'zero' for 173 consecutive innings (Most Number of Innings Without Duck). In October 2005, he was appointed as the captain of Team India and in September 2007, he resigned from this post. Dravid represented India in international cricket for 16 years. He retired from all formats of cricket in March 2012. Dravid was awarded the ICC Player of the Year and Test Player of the Year awards in 2004. He received the Arjuna Award in 1998. Dravid was awarded the Padma Shri in 2004 and the Padma Bhushan in 2013. He is not available on Twitter and Instagram, his official Facebook page is in the name of Rahul Dravid.\n",
      "****************************************************************************************************\n"
     ]
    }
   ],
   "source": [
    "text = input('Enter the text for translation:')\n",
    "print('*'*100)\n",
    "source = input('Enter the code of language of your text is available :')\n",
    "print('*' * 100)\n",
    "target = input('Enter the code of language in which you want to translate the text :')\n",
    "print('*'*100)\n",
    "eng = Translator(source , target , text)\n",
    "print(eng)\n",
    "print('*'*100)"
   ]
  },
  {
   "cell_type": "code",
   "execution_count": null,
   "id": "4b96ecba",
   "metadata": {},
   "outputs": [],
   "source": []
  },
  {
   "cell_type": "code",
   "execution_count": null,
   "id": "f6d440d4",
   "metadata": {},
   "outputs": [],
   "source": []
  },
  {
   "cell_type": "code",
   "execution_count": null,
   "id": "e3887708",
   "metadata": {},
   "outputs": [],
   "source": []
  },
  {
   "cell_type": "code",
   "execution_count": null,
   "id": "2e5d239d",
   "metadata": {},
   "outputs": [],
   "source": []
  },
  {
   "cell_type": "code",
   "execution_count": null,
   "id": "36dd0b7b",
   "metadata": {},
   "outputs": [],
   "source": []
  },
  {
   "cell_type": "code",
   "execution_count": null,
   "id": "a179d67f",
   "metadata": {},
   "outputs": [],
   "source": []
  },
  {
   "cell_type": "markdown",
   "id": "dc161877",
   "metadata": {},
   "source": [
    "## Text to Speech Translation"
   ]
  },
  {
   "cell_type": "markdown",
   "id": "94ff0310",
   "metadata": {},
   "source": [
    "#### Here we perform translation from text to speech"
   ]
  },
  {
   "cell_type": "markdown",
   "id": "23be218f",
   "metadata": {},
   "source": [
    "#### For that reason we need to import library to perform text to speech"
   ]
  },
  {
   "cell_type": "code",
   "execution_count": 62,
   "id": "3be2b286",
   "metadata": {},
   "outputs": [],
   "source": [
    "# pip install gtts"
   ]
  },
  {
   "cell_type": "markdown",
   "id": "19d7e1bd",
   "metadata": {},
   "source": [
    "#### gtts is stands for google text to speech. It is  library in python."
   ]
  },
  {
   "cell_type": "code",
   "execution_count": 63,
   "id": "85b86a85",
   "metadata": {},
   "outputs": [],
   "source": [
    "from gtts import gTTS"
   ]
  },
  {
   "cell_type": "markdown",
   "id": "17d7414d",
   "metadata": {},
   "source": [
    "#### gTTS is class in gtts library. so thats why it take argumets. Its not function"
   ]
  },
  {
   "cell_type": "markdown",
   "id": "8164556f",
   "metadata": {},
   "source": [
    "#### gtts library or gTTS class is genearte speech into that language only . in which language your text is available.gTTS is language dependent\n",
    "#### eg : Your text is hindi then speech is generate in hindi only"
   ]
  },
  {
   "cell_type": "code",
   "execution_count": 72,
   "id": "b07b128f",
   "metadata": {},
   "outputs": [],
   "source": [
    "def text_to_speech(text , lang):\n",
    "    \n",
    "    speech = gTTS(text = text , lang = lang)\n",
    "    speech.save('speech1.mp3')     # only .mp3 for audio only"
   ]
  },
  {
   "cell_type": "markdown",
   "id": "c35bd275",
   "metadata": {},
   "source": [
    "### Hindi  to marathi"
   ]
  },
  {
   "cell_type": "code",
   "execution_count": 77,
   "id": "89762e81",
   "metadata": {
    "scrolled": false
   },
   "outputs": [
    {
     "name": "stdout",
     "output_type": "stream",
     "text": [
      "Enter the text :राहुल द्रविड़, पूर्व क्रिकेटर  राहुल शरद द्रविड़ (Rahul Sharad Dravid) भारतीय क्रिकेट टीम के मौजूदा हेड कोच (Head Coach) और पूर्व कप्तान (Former Captain) हैं. बतौर कोच, न्यूजीलैंड के खिलाफ पहली टी20I और टेस्ट सीरीज में उन्होंने भारतीय टीम को जीत दिलाई. इंटरनेशनल क्रिकेट में अपने लंबे और महान करियर के दौरान असाधारण योगदान के लिए उन्हें ‘भारत की दीवार’ (Wall of India) का नाम दिया गया.\n",
      "Enter the language code . In which language your text is available :mr\n"
     ]
    }
   ],
   "source": [
    "text = input('Enter the text :')\n",
    "lang = input('Enter the language code . In which language your text is available :')\n",
    "\n",
    "text_to_speech(text , lang)"
   ]
  },
  {
   "cell_type": "markdown",
   "id": "6a5e0f77",
   "metadata": {},
   "source": [
    "#### Here our text in marathi so speech is also generate in marathi only."
   ]
  },
  {
   "cell_type": "markdown",
   "id": "5416d9db",
   "metadata": {},
   "source": [
    "## Speech To Text Translation"
   ]
  },
  {
   "cell_type": "markdown",
   "id": "5c85f786",
   "metadata": {},
   "source": [
    "#### Here we want to convert speech into text"
   ]
  },
  {
   "cell_type": "markdown",
   "id": "2c63d29a",
   "metadata": {},
   "source": [
    "#### For that we required library"
   ]
  },
  {
   "cell_type": "code",
   "execution_count": 82,
   "id": "14c5d01e",
   "metadata": {},
   "outputs": [],
   "source": [
    "#! pip install SpeechRecognition"
   ]
  },
  {
   "cell_type": "markdown",
   "id": "744297c8",
   "metadata": {},
   "source": [
    "#### We installed it . now we just import it in local jupyter notebook "
   ]
  },
  {
   "cell_type": "code",
   "execution_count": 83,
   "id": "291d6c5d",
   "metadata": {},
   "outputs": [],
   "source": [
    "import speech_recognition as sr"
   ]
  },
  {
   "cell_type": "markdown",
   "id": "61196350",
   "metadata": {},
   "source": [
    "#### Speech_recognition is the library. we import it"
   ]
  },
  {
   "cell_type": "markdown",
   "id": "f9fb7d60",
   "metadata": {},
   "source": [
    "#### Install PyAudio library"
   ]
  },
  {
   "cell_type": "code",
   "execution_count": 87,
   "id": "71b65d52",
   "metadata": {},
   "outputs": [],
   "source": [
    "#!pip install PyAudio"
   ]
  },
  {
   "cell_type": "markdown",
   "id": "aa17bb53",
   "metadata": {},
   "source": [
    "#### PyAudio library is helps for capture audio data from microphone and process the raw audio data"
   ]
  },
  {
   "cell_type": "markdown",
   "id": "6c1ad4a5",
   "metadata": {},
   "source": [
    "##### Import PyAudio in local jupyter notebook"
   ]
  },
  {
   "cell_type": "code",
   "execution_count": 92,
   "id": "cec0c10b",
   "metadata": {},
   "outputs": [],
   "source": [
    "import pyaudio"
   ]
  },
  {
   "cell_type": "code",
   "execution_count": 97,
   "id": "757d15d0",
   "metadata": {},
   "outputs": [
    {
     "name": "stdout",
     "output_type": "stream",
     "text": [
      "Please speak something to to convert into speech\n",
      "Your saying this : hello how are you I am good\n"
     ]
    }
   ],
   "source": [
    "recog = sr.Recognizer()  # recorgnizer() is class \n",
    "# recognize speech from audio sources like a microphone or audio files.\n",
    "# basically recognizer is recognize the audio\n",
    "\n",
    "\n",
    "# Microphone class allows you to capture audio from the microphone and use it as an input for \n",
    "# speech recognition.\n",
    "#basically microphone is allow to record / capture the audio\n",
    "with sr.Microphone() as source:\n",
    "    print('Please speak something to convert into speech')\n",
    "    audio = recog.listen(source)\n",
    "    # listen is function of recognizer class which is used to capture audio from microphone\n",
    "    # audio is actually audio of what we speak \n",
    "    \n",
    "    \n",
    "# we built the code with exception handling because if recognizer / microphone is not able to \n",
    "# record and convert the speech then it will throgh error to avoid it we just raise exception if\n",
    "# not process\n",
    "try : \n",
    "    \n",
    "    text = recog.recognize_google(audio)\n",
    "    print('Your saying this :' , text)\n",
    "    \n",
    "    # recognize_google is function of recognizer class where it converts audio into text by\n",
    "    # sending audio to google speech recognition API\n",
    "    \n",
    "except sr.UnknownValueError:\n",
    "    print('I am not able to hear you')\n",
    "    "
   ]
  }
 ],
 "metadata": {
  "kernelspec": {
   "display_name": "Python 3 (ipykernel)",
   "language": "python",
   "name": "python3"
  },
  "language_info": {
   "codemirror_mode": {
    "name": "ipython",
    "version": 3
   },
   "file_extension": ".py",
   "mimetype": "text/x-python",
   "name": "python",
   "nbconvert_exporter": "python",
   "pygments_lexer": "ipython3",
   "version": "3.11.4"
  }
 },
 "nbformat": 4,
 "nbformat_minor": 5
}

{
 "cells": [
  {
   "cell_type": "markdown",
   "id": "61d56835",
   "metadata": {},
   "source": [
    "## Natural Language Tool Kit"
   ]
  },
  {
   "cell_type": "markdown",
   "id": "94bb4aba",
   "metadata": {},
   "source": [
    "#### NLTK is primary library of python which is used for to processing and analysing the text data (Human language)"
   ]
  },
  {
   "cell_type": "markdown",
   "id": "211b29be",
   "metadata": {},
   "source": [
    "#### NLTK is provided some tools and resources to perform various NLP tasks like tonkenization(split text into words) , stemming (reduce words in base form like running into run) and pos(parts of speech) tagging (identify words according to gramatical role (noun , verb)) , "
   ]
  },
  {
   "cell_type": "markdown",
   "id": "1c20a9b5",
   "metadata": {},
   "source": [
    "#### NLTK makes easier for programs to work with text data in python . to avoid build everything from scratch"
   ]
  },
  {
   "cell_type": "markdown",
   "id": "ea7bb675",
   "metadata": {},
   "source": [
    "#### In simple words, NLTK is like a toolbox for text-related tasks."
   ]
  },
  {
   "cell_type": "markdown",
   "id": "d018e898",
   "metadata": {},
   "source": [
    "#### It includes everything you need to:\n",
    "\n",
    "#### Split text into words and sentences. (Tokenization)\n",
    "#### Find the meaning of words (synonyms, antonyms). (sementic analysis)\n",
    "#### Identify the grammatical structure of sentences.(syntetic analysis)\n",
    "#### Classify text (e.g., identifying whether a review is positive or negative). (sentimental analysis)"
   ]
  },
  {
   "cell_type": "markdown",
   "id": "b56a7dfd",
   "metadata": {},
   "source": [
    "### Features of NLTK: (We can perform this task by NLTK)\n",
    "\n",
    "#### 1.Tokenization : Split the text into words or sentences\n",
    "#### 2.Stemming or lemmatization : Reduce word into base for eg : like running reduce into run\n",
    "#### 3.POS tagging : Identifying the gramatical roles of  words  eg : like 'I' is pronoun , 'am' is verb\n",
    "#### 4.text classification : classify the into categories  like spam detection\n",
    "#### 5.Named Entity Recognition (NER) : Recognize name of people , places , dates\n",
    "#### 6.WordNet : It is lexical database it helps to find relationship between the words"
   ]
  },
  {
   "cell_type": "markdown",
   "id": "18681741",
   "metadata": {},
   "source": [
    "### Case study"
   ]
  },
  {
   "cell_type": "markdown",
   "id": "b090669d",
   "metadata": {},
   "source": [
    "#### We extract the data from pdf and apply regex on it to extract the words which having one comma and  space after that words"
   ]
  },
  {
   "cell_type": "markdown",
   "id": "3ac73b49",
   "metadata": {},
   "source": [
    "##### Import nltk"
   ]
  },
  {
   "cell_type": "code",
   "execution_count": 1,
   "id": "434b740b",
   "metadata": {},
   "outputs": [],
   "source": [
    "import nltk"
   ]
  },
  {
   "cell_type": "markdown",
   "id": "d5cecd21",
   "metadata": {},
   "source": [
    "#### Download all data resorces , collection , corpora , models , all packages from nltk"
   ]
  },
  {
   "cell_type": "code",
   "execution_count": 3,
   "id": "345bd2e0",
   "metadata": {},
   "outputs": [
    {
     "name": "stdout",
     "output_type": "stream",
     "text": [
      "showing info https://raw.githubusercontent.com/nltk/nltk_data/gh-pages/index.xml\n"
     ]
    },
    {
     "data": {
      "text/plain": [
       "True"
      ]
     },
     "execution_count": 3,
     "metadata": {},
     "output_type": "execute_result"
    }
   ],
   "source": [
    "nltk.download()"
   ]
  },
  {
   "cell_type": "markdown",
   "id": "238fa521",
   "metadata": {},
   "source": [
    "#### We want to extract the text data from pdf"
   ]
  },
  {
   "cell_type": "markdown",
   "id": "f89c7fe9",
   "metadata": {},
   "source": [
    "#### Install pdfminer (is library which extract the text data from pdf)"
   ]
  },
  {
   "cell_type": "code",
   "execution_count": 4,
   "id": "da8a4fc6",
   "metadata": {},
   "outputs": [
    {
     "name": "stdout",
     "output_type": "stream",
     "text": [
      "Defaulting to user installation because normal site-packages is not writeable\n",
      "Collecting pdfminer.six\n",
      "  Obtaining dependency information for pdfminer.six from https://files.pythonhosted.org/packages/67/7d/44d6b90e5a293d3a975cefdc4e12a932ebba814995b2a07e37e599dd27c6/pdfminer.six-20240706-py3-none-any.whl.metadata\n",
      "  Downloading pdfminer.six-20240706-py3-none-any.whl.metadata (4.1 kB)\n",
      "Requirement already satisfied: charset-normalizer>=2.0.0 in e:\\anaconda_navigator\\lib\\site-packages (from pdfminer.six) (2.0.4)\n",
      "Requirement already satisfied: cryptography>=36.0.0 in e:\\anaconda_navigator\\lib\\site-packages (from pdfminer.six) (41.0.2)\n",
      "Requirement already satisfied: cffi>=1.12 in e:\\anaconda_navigator\\lib\\site-packages (from cryptography>=36.0.0->pdfminer.six) (1.15.1)\n",
      "Requirement already satisfied: pycparser in e:\\anaconda_navigator\\lib\\site-packages (from cffi>=1.12->cryptography>=36.0.0->pdfminer.six) (2.21)\n",
      "Downloading pdfminer.six-20240706-py3-none-any.whl (5.6 MB)\n",
      "   ---------------------------------------- 0.0/5.6 MB ? eta -:--:--\n",
      "   - -------------------------------------- 0.1/5.6 MB 4.3 MB/s eta 0:00:02\n",
      "   -- ------------------------------------- 0.3/5.6 MB 3.5 MB/s eta 0:00:02\n",
      "   --- ------------------------------------ 0.6/5.6 MB 3.9 MB/s eta 0:00:02\n",
      "   ----- ---------------------------------- 0.8/5.6 MB 4.1 MB/s eta 0:00:02\n",
      "   ------- -------------------------------- 1.0/5.6 MB 4.5 MB/s eta 0:00:02\n",
      "   -------- ------------------------------- 1.2/5.6 MB 4.3 MB/s eta 0:00:02\n",
      "   ---------- ----------------------------- 1.4/5.6 MB 4.6 MB/s eta 0:00:01\n",
      "   ------------ --------------------------- 1.7/5.6 MB 4.7 MB/s eta 0:00:01\n",
      "   ------------- -------------------------- 1.9/5.6 MB 4.8 MB/s eta 0:00:01\n",
      "   --------------- ------------------------ 2.2/5.6 MB 4.7 MB/s eta 0:00:01\n",
      "   ----------------- ---------------------- 2.4/5.6 MB 4.8 MB/s eta 0:00:01\n",
      "   ------------------ --------------------- 2.6/5.6 MB 4.7 MB/s eta 0:00:01\n",
      "   ------------------- -------------------- 2.8/5.6 MB 4.7 MB/s eta 0:00:01\n",
      "   --------------------- ------------------ 3.0/5.6 MB 4.6 MB/s eta 0:00:01\n",
      "   ---------------------- ----------------- 3.2/5.6 MB 4.7 MB/s eta 0:00:01\n",
      "   ------------------------ --------------- 3.4/5.6 MB 4.6 MB/s eta 0:00:01\n",
      "   -------------------------- ------------- 3.7/5.6 MB 4.6 MB/s eta 0:00:01\n",
      "   ---------------------------- ----------- 3.9/5.6 MB 4.7 MB/s eta 0:00:01\n",
      "   ----------------------------- ---------- 4.2/5.6 MB 4.7 MB/s eta 0:00:01\n",
      "   ------------------------------- -------- 4.4/5.6 MB 4.8 MB/s eta 0:00:01\n",
      "   -------------------------------- ------- 4.6/5.6 MB 4.7 MB/s eta 0:00:01\n",
      "   ---------------------------------- ----- 4.8/5.6 MB 4.7 MB/s eta 0:00:01\n",
      "   ------------------------------------ --- 5.1/5.6 MB 4.8 MB/s eta 0:00:01\n",
      "   -------------------------------------- - 5.3/5.6 MB 4.8 MB/s eta 0:00:01\n",
      "   ---------------------------------------  5.6/5.6 MB 4.8 MB/s eta 0:00:01\n",
      "   ---------------------------------------  5.6/5.6 MB 4.7 MB/s eta 0:00:01\n",
      "   ---------------------------------------- 5.6/5.6 MB 4.6 MB/s eta 0:00:00\n",
      "Installing collected packages: pdfminer.six\n",
      "Successfully installed pdfminer.six-20240706\n"
     ]
    }
   ],
   "source": [
    "!pip install pdfminer.six"
   ]
  },
  {
   "cell_type": "code",
   "execution_count": 6,
   "id": "7f2bafeb",
   "metadata": {},
   "outputs": [],
   "source": [
    "from pdfminer.high_level import extract_text"
   ]
  },
  {
   "cell_type": "markdown",
   "id": "5779b2ae",
   "metadata": {},
   "source": [
    "##### pdfminer is the library where high_level is module and extract_text is built in function for extracting text from pdf"
   ]
  },
  {
   "cell_type": "code",
   "execution_count": 11,
   "id": "76e3f246",
   "metadata": {},
   "outputs": [],
   "source": [
    "text = extract_text('C:\\\\Users\\\\Lenovo\\\\Downloads\\\\2nd July\\\\Devdutt_Pattanaik.pdf')"
   ]
  },
  {
   "cell_type": "code",
   "execution_count": 12,
   "id": "5ce96f7c",
   "metadata": {},
   "outputs": [
    {
     "data": {
      "text/plain": [
       "'Devdutt Pattanaik\\n\\nDevdutt  Pattanaik  is  a  mythologist  and  writer  from  Mumbai,\\nIndia.  He  writes  on  mythology,  the  study  of  cultural  truths\\nrevealed  through  stories,  symbols  and  rituals.  He  lectures  on  the\\nrelevance  of  both  Indian  and  Western  myths  in  modern  life.  His\\nwork  focuses  largely  on  the  areas  of  religion,  mythology,  and\\nmanagement.  He  has  authored  and  illustrated  over  50  books,\\nincluding  ABC  Of  Hinduism,[1]  Bahubali  :  63  insights  into\\nJainism,[2] and Yoga Mythology: 64 Asanas and Their Stories.[3]\\n\\nPattanaik is a regular columnist for reputed newspapers like Mid-\\nday,[4] Times of India[5] and Dainik Bhaskar.[6] He is also known\\nfor  his  TED  talk[7]  and  Business  Sutra[8]  as  well  as  hosting  a\\nradio  show/podcast  for  Radio  Mirchi,  called  The  Devdutt\\nPattanaik Show.[9]\\n\\nA medical doctor by training, Pattanaik spent 15 years working in\\nthe  Pharma  and  healthcare  industry.  However,  his  study  on  the\\ncultural impact of mythology began three decades ago.\\n\\nEarly life and education\\n\\nPattanaik  was  born  brought  up  in  Mumbai.  He  spent  his\\nchildhood  and  student  life  in  Chembur,  Mumbai.[10]  He  studied\\nin Our Lady of Perpetual Succour High School in Chembur.[11]\\nPattanaik graduated in medicine (M.B.B.S.) from Grant Medical\\nCollege,  Mumbai,  and  subsequently  obtained  a  diploma  in\\nComparative Mythology from Mumbai University.[12]\\n\\nCareer\\n\\nPattanaik  worked  in  the  pharmaceutical  and  healthcare  industry\\n(Sanofi Aventis and Apollo Group of Hospitals,[13] respectively)\\nfor  14  years  and  spent  his  spare  time  writing  articles[14][15]  and\\nbooks  on  mythology,[16][17]  which  eventually  became  his  full-\\ntime  profession.  His  first  book  Shiva:  An  Introduction  was\\npublished  in  1997.[18]  Pattanaik  illustrates  most  of  his  own\\nbooks.[19]\\n\\nHe  was  a  speaker  at  the  first  TED  conference  in  India  held  in\\nNovember 2009.[20][21]\\n\\nDevdutt Pattanaik\\n\\nBorn\\n\\nDevdutt Pattanaik\\n\\n11 December 1970\\n(age 53)\\nMumbai, India\\n\\nNationality\\n\\nIndian\\n\\nEducation\\n\\nMBBS (Mumbai\\nUniversity)\\nPostgraduate\\nDiploma\\nComparative\\n\\nMythology (Mumbai\\nUniversity)\\n\\nOccupation(s) Mythologist, writer,\\n\\ncolumnist, illustrator\\n\\nKnown for\\n\\nParent(s)\\n\\nWorks on Indian\\nmythology\\n\\nPrafulla Kumar\\n(father)\\nSabitri Pattanaik\\n\\n(Das) (mother)\\n\\nDevdutt Pattanaik\\'s voice\\n\\n\\x0cPattanaik  has  consulted  Star  TV  network  on  mythological\\ntelevision series like Mahabharata and Siya Ke Ram; these serials\\nhave challenged conventional views of the narratives and opened\\nup new avenues of interpretation.[22][23][24]\\n\\nHe has also been the story consultant at Indian television network\\nStar  TV,  where  Devon  Ke  Dev...Mahadev  is  based  on  his\\nwork[25][26][27] and Epic channel, where he presents Devlok with\\nDevdutt Pattanaik.[28]\\n\\nIn  2015,  Pattanaik  presented  the  Hindi  television  series  Devlok\\nwith Devdutt Pattanaik on the \"EPIC ON\" channel. In the show,\\nhe  attempts  to  demystify  and  decode  the  folklore  and  traditions\\nthat accompanies Indian mythology. In December 2016, he made\\n\"his debut on the Forbes India Celeb 100 list, on the 93rd spot.\"[29]\\n\\nRecorded January 2018\\n\\nWebsite\\n\\nwww.Devdutt.com\\n(http://www.devdutt.\\n\\ncom)\\n\\nSignature\\n\\nPattanaik worked on Audible Originals (India)\\'s audiobook titled Suno Mahabharat Devdutt Pattanaik ke\\nSaath and Revisiting Mahabharata with Devdutt Pattanaik.[30][31] In his show he talks about the details of\\nthe war in the Mahabharata, how it affected the world, and what happened to India after the death of the\\nPandavas and the Kauravas. He also communicates the Vedic tenets which describes karma and dharma.[31]\\n\\nArt\\n\\nColumnist  Koral  Dasgupta  mentions,  \"Pattanaik’s  art  follows  a\\nparticular style and is dependent on expertly sketched lines but the\\nfocus  is  never  the  perfection  of  hands  and  limbs  and  props.  The\\npursuit is clearly that of beauty and depiction; not the grammatical\\ndetailing of a photograph!\"[32]\\n\\nViews\\n\\nMyth and Mythology\\n\\nPattanaik opines that \"no society can exist without myth as it creates\\nnotions of right and wrong, good and bad, heaven and hell, rights\\nand  duties\".[33]  To  him,  mythology  \"tells  people  how  they  should\\nsee  the  world...  Different  people  will  have  their  own  mythology,\\nreframing old ones or creating new ones.\"[34] His desire is \"to get\\nSaraswati out of the closet. Saraswati belongs everywhere, she has\\nto flow everywhere\" and his body of work is aimed \"to make knowledge accessible.\"[35]\\n\\nHanuman with Ram\\'s banner\\n\\nIn  Shiva  to  Shankara:  Giving  Form  to  the  Formless,[36]  Pattanaik  explores  the  layers  of  meanings\\nembedded in Shiva\\'s linga and the transformation of Shiva, the hermit, into Shankara, the householder by\\nthe  Goddess.  Culture:  50  Insights  from  Mythology  contextualises  mythology  and  proposes  that  myths  are\\nalive, dynamic, shaped by perception and the times one lives in.[37]\\n\\n0:000:00/ 0:00/ 0:00\\x0cWestern mythology, according to him, propagates the idea that the world is in need of changing, either by\\nGreek  heroes,  or  by  Abrahamic  prophets  and  kings,  or  by  scientists,  activists  and  capitalists.  \"Indic\\nmythology  presents  the  idea  that  the  world  is  constantly  changing,  human  intervention  notwithstanding.\\nThere  are  no  heroes  or  villains,  no  oppressor  or  oppressed,  no  saviour  or  martyr,  just  different  ways  of\\nlooking  at  reality...I  do  not  claim  objectivity;  I  am  comfortable  with  subjectivity  and  well  aware  of  my\\nIndian gaze,\" he says.[38]\\n\\nBusiness\\n\\nIn  his  book,  Business  Sutra:  An  Indian  Approach  to  Management,  \"the  central  theme  …  is  that  when\\nindividual beliefs come into conflict with corporate beliefs, problems surface in organisations. Conversely,\\nwhen institutional beliefs and individual beliefs are congruent, harmony is the resultant corporate climate. It\\nis when people are seen as mere resources meant to be managed [read: manipulated] through compensation\\nand  so-called  motivation;  it  is  when  they  are  treated  like  switches  in  a  circuit  board;  it  is  then  that\\ndisharmony descends causing disruption\".[39]\\n\\nPolitics\\n\\nPattanaik is wary of the influence of \"white saviours\" on liberals as well as religious radicals. He has been\\nrather  contemptuous  of  the  hyper-nationalism  of  a  section  of  American  Hindus  who  are  clueless  about\\nIndian realities.[40][41] He also frowns on secularists and atheists who deny their own missionary zeal and\\nmythic structure, and see themselves as \"rational\".[42] Devdutt says, \"Unlike fiction or history, mythology is\\na pluralistic truth with many interpretations, all of which needs to be respected.\"[38] He further states, “For\\npoliticians, dates are important. For human beings and devotees, God is everywhere, every time.”[43]\\n\\nSexuality\\nPattanaik has been frank about the LGBTQ revolution in India.[44] Pattnaik realised that he was gay in 10th\\nstandard  and  came  out  to  his  parents  when  he  was  30.[45]  After  the  2018  decriminalization  of\\nhomosexuality in India, Pattanaik came out as gay in a televised interview.[44][45][46] He has written about\\nthe presence, and at several instances, the celebration, of the queer within the Indian mythos. Elucidating\\nthat karmic faiths can be used to affirm the dignity of queer people, he speaks of how when one discovers\\nlove and appreciation for the world as it is, not the way one wants it to be, one develops wisdom.[47]\\n\\nReception\\nIn 2014, Pattanaik was listed in the top category of bestselling Indian authors.[48] His book Devlok, based\\non the television programme of the same name, was one of the year\\'s bestsellers in 2016.[49] Forbes India\\nhad ranked Pattanaik among the 100 celebrities of India in 2016.[50]\\n\\nFiction author Ashwin Sanghi has said that Pattanaik attempts to \"explain mythology in simple words\".[51]\\nPsychologist Urmi Chanda-Vaz, who calls Pattanaik \"India\\'s most beloved mythology explicator\", praised\\nhis  book  My  Gita.[52][53] Academic  Shiv  Visvanathan  has  praised  Pattanaik  by  saying  that  he  has  made\\nmyth-reading \"an open, playful, almost domestic game, like Chinese Checkers or Scrabble\".[54]\\n\\n\\x0cNeil  Gaiman  praised  Devdutt  Pattanaik  for  his  2016  book\\nOlympus: An Indian Retelling of the Greek Myth. \"I read a fantastic\\nIndian writer recently where he told Greek myth but from an Indian\\nperspective... He makes it so easy to understand but what is lovely\\nis that he does from a very proud Indian connect.\"[55]\\n\\nPublications\\n\\nMythology\\n\\n1. Shiva: An Introduction. Vakils, Feffer and Simons Ltd.,\\n1997. ISBN 978-81-8462-013-9. (Based on Shiva).\\n2. Vishnu: An Introduction. Vakils, Feffer and Simons Ltd.,\\n\\n1999. ISBN 81-87111-12-7. (Based on Vishnu).\\n3. Devi, The Mother-Goddess: An Introduction. Vakils,\\n\\nFeffer, and Simons Ltd., 2000. ISBN 978-81-87111-91-7.\\n(Based on the concept of Devi).\\n\\nDevdutt Pattanaik, mythologist and\\nauthor, with books written by him\\n\\n4. The Goddess in India: The Five Faces of the Eternal Feminine. Inner Traditions/ Bear &\\n\\nCompany, 2000. ISBN 978-0-89281-807-5. Translations: Hindi.\\n\\n5. Hanuman: An Introduction. Vakils, Feffer and Simons Ltd., 2001. ISBN 978-81-87111-94-8.\\n\\n(Based on Hanuman).\\n\\n6. The Man Who Was A Woman and Other Queer Tales from Hindu Lore. Harrington Park\\n\\nPress, 2002. ISBN 1560231815.\\n\\n7. Hindu India. Brijbasi Art Press, 2003. ISBN 8187902078.\\n8. Indian Mythology: Tales, Symbols, and Rituals from the Heart of the Subcontinent. Inner\\n\\nTraditions/ Bear & Company, 2003. ISBN 978-0-89281-870-9.\\n\\n9. Lakshmi, The Goddess of Wealth and Fortune: An Introduction. Vakils, Feffer, and Simons\\n\\nLtd., 2003. ISBN 978-81-8462-019-1. (Based on Lakshmi).\\n\\n10. Myth=Mithya: A Handbook of Hindu Mythology. Penguin Books India, 2006.\\n\\nISBN 9780143099703. Translations: Hindi, Marathi, Turkish.\\n\\n11. Shiva to Shankara: Decoding the Phallic Symbol. Indus Source, India. 2006. ISBN 81-\\n\\n88569-04-6. Translations: Czech, Hindi (Based on Shiva).\\n\\n12. The Book of Ram. Penguin Books India, 2009. ISBN 9780143065289. (Based on Ram) -\\n\\nPart of a book series on mythological figures published by Penguin.\\n\\n13. 7 Secrets from Hindu Calendar Art. Westland Ltd., 2009. ISBN 9788189975678.\\n\\nTranslations: Gujarati, Hindi (Based on Hindu Calendar art).\\n\\n14. Hanuman\\'s Ramayan. Tulika Publishers, 2010. ISBN 9788181467515. (Based on\\n\\nHanuman).\\n\\n15. Jaya: An Illustrated Retelling of the Mahabharata. Penguin Books India, 2010.\\n\\nISBN 9780143104254. Translations: Hindi, Kannada, Malayalam, Marathi, Tamil (Based on\\nthe Mahabharata).\\n\\n16. 7 Secrets of Shiva. Westland Ltd., 2011. ISBN 9789380658636. Translations: Gujarati,\\n\\nHindi, Kannada, Marathi, Russian, Telugu (Based on Shiva).\\n\\n17. 7 Secrets of Vishnu. Westland Ltd., 2011. ISBN 9789380658681. Translations: Hindi,\\n\\nKannada, Marathi, Russian (Based on Vishnu).\\n\\n18. 99 Thoughts on Ganesha: Stories, Symbols and Rituals of India\\'s Beloved Elephant-headed\\nDeity. Jaico Publishing House, 2011. ISBN 978-81-8495-152-3. Translations: Gujarati,\\nHindi, Malayalam, Marathi, Telugu (Based on Ganesha).\\n\\n\\x0c19. Sita: An Illustrated Retelling of the Ramayana. Penguin Books India, 2013\\n\\nISBN 9780143064329. Translations: Hindi, Marathi, Tamil (Based on the Ramayana).\\n20. Shikhandi: And Other Tales They Don\\'t Tell You. Zubaan Books & Penguin Books India,\\n\\n2014. ISBN 978-9383074846. Translations: Hindi, Marathi.\\n\\n21. 7 Secrets of the Goddess. Westland Ltd., 2014. ISBN 9789384030582. Translations: Hindi,\\n\\nItalian, Marathi, Russian (Based on the Goddess).\\n\\n22. My Gita. Rupa Publications India, 2015. ISBN 9788129137708. Translations: Hindi, Marathi\\n\\n(Based on The Gita).\\n\\n23. Devlok with Devdutt Pattanaik. Penguin Random House India, 2016. ISBN 9780143427421.\\n24. Olympus – An Indian Retelling of Greek Mythology. Penguin Random House India, 2016.\\n\\nISBN 9780143428299 (Based on Greek mythology).\\n\\n25. Devlok with Devdutt Pattanaik (Book 2) – Publisher: Penguin Random House, 2017\\n\\nISBN 978-0143428435 Translations: Hindi ISBN 978-0143440468\\n\\n26. Shiva to Shankara: Giving Form to the Formless. HarperCollins India, Indus Source 2017.\\n\\nISBN 978-9352641956. – Based on Older Book / Reprint\\n\\n27. My Hanuman Chalisa. Rupa Publications, 2017. ISBN 9788129147950 (Based in the\\n\\nHanuman Chalisa).\\n\\n28. Devlok with Devdutt Pattanaik (Book 3) – Publisher: Penguin Random House, 2017\\n\\nISBN 978-0143442790.\\n\\n29. Shyam: An Illustrated Retelling of the Bhagavata. Penguin, 2018 ISBN 9780670084463\\n\\n(Based on the Bhagavata).\\n\\n30. Ramayana Versus Mahabharata: My Playful Comparison. Rupa Publications India, 2018\\n\\nISBN 9789353332303 (Based on the Ramayana & Mahabharata).\\n\\n31. Hindu Trinity: 21 Life-enhancing Secrets Revealed Through Stories and Art. Westland India\\n\\n2019. ISBN 978-9388754712. – Based on Older Books / Reprint\\n\\n32. Wisdom of the Gods for You and Me: My Gita and My Hanuman Chalisa. Rupa Publications\\n\\nIndia 2019. ISBN 978-9353335113. – Based on Older Books / Reprint\\n\\n33. Faith: 40 Insights into Hinduism – Publisher: HarperCollins, 2019 ISBN 978-9353025960.\\n34. Pilgrim Nation: The Making of Bharatvarsh - Aleph Book Company, 2020 ISBN 978-\\n\\n9389836004.\\n\\n35. Dharma Artha Kama Moksha: 40 Insights into Happiness - HarperCollins, India, 2021\\n\\nISBN 978-9354224447.\\n\\n36. Marriage: 100 Stories Around India\\'s Favourite Ritual - Rupa Publications India, 2021\\n\\nISBN 9353338441.\\n\\n37. Adi Purana: Entire Veda as a Single Story - Westland, 2021 ASIN B099ZWDLFH (https://ww\\n\\nw.amazon.com/dp/B099ZWDLFH) - quick read\\n\\n38. Hope: Wisdom to Survive in a Hopeless World - Juggernaut, 2021 ISBN 978-9391165529.\\n39. Eden: An Indian Exploration of Jewish, Christian and Islamic Lore - Penguin Random\\n\\nHouse, 2021 ISBN 978-0670095407.\\n\\n40. The Stories We Tell: Mythology to Make Sense of Modern Lives - Aleph Book Company,\\n\\n2022 ISBN 978-9391047825.\\n\\n41. Dharm Aur Samlaingikta/धम\\x00 और समल\\x00\\x00गकता - Penguin India, 2022 ISBN 978-0143454755.\\n42. Garuda Purana and Other Hindu Ideas On Death, Rebirth and Immortality - Westland Books,\\n\\n2022 ISBN 978-9395073448.\\n\\n43. Tales From the Land of Jagannatha - Odia Media Private Limited, 2023 ISBN 978-\\n\\n9395150088.\\n\\n44. Bahubali : 63 Insights into Jainism - Harper Collins, India, 2023 ISBN 978-9356993457.\\n45. Tirthankar: Jain Dharm Par 63 Vichar - HarperHindi, India, 2023 ASIN B0CNSCZZKC (http\\n\\ns://www.amazon.com/dp/B0CNSCZZKC).\\n\\n\\x0c46. Sati Savitri - Penguin, 2024 ISBN 978-0143467588.\\n\\nManagement\\n\\n1. Business Sutra: A Very Indian Approach to Management. Aleph Book Company, 2013.\\nISBN 9788192328072. Translations: French, German, Hindi, Italian, Marathi, Tamil.\\n\\n2. The Success Sutra: An Indian Approach to Wealth. Aleph Book Company, 2015.\\n\\nISBN 9789384067410. – Based on Older Book\\n\\n3. The Leadership Sutra: An Indian Approach to Power. Aleph Book Company, 2016.\\n\\nISBN 9789384067465. – Based on Older Book\\n\\n4. The Talent Sutra: An Indian Approach to Learning. Aleph Book Company, 2016,\\n\\nISBN 9789383064274 – Based on Older Book\\n\\n5. Culture: 50 Insights from Mythology. HarperCollins India, Indus Source 2017. ISBN 978-\\n\\n9352644971.\\n\\n6. Leader: 50 Insights from Mythology. HarperCollins India, Indus Source 2017. ISBN 978-\\n\\n9352644957.\\n\\n7. How to Become Rich: 12 Lessons I Learnt from Vedic and Puranic Stories – Publisher: Rupa\\n\\nPublications India, 2019 ISBN 978-9353336899.\\n\\nFiction\\n\\n1. The Pregnant King. Penguin Books India, 2008. ISBN 9780143063476. Translations: Hindi,\\n\\nMarathi\\n\\n2. Is He Fresh?: Aka Kaula Hai? (Penguin Petit). Penguin UK, 2015. ISBN 9789351187585\\n\\nChildren\\'s books\\n\\n1. Fun in Devlok: An Identity Card for Krishna. Puffin India, 2011. ISBN 978-0143331674.\\n2. Fun in Devlok: Gauri and the Talking Cow. Puffin India, 2011. ISBN 978-0143331704.\\n3. Fun in Devlok: Indra Finds Happiness. Puffin India, 2011. ISBN 978-0143331681.\\n4. Fun in Devlok: Kama vs Yama. Puffin India, 2011. ISBN 9780143331957.\\n5. Fun in Devlok: Saraswati\\'s Secret River. Puffin India, 2011. ISBN 9780143331964.\\n6. Fun in Devlok: Shiva Plays Dumb Charades. Puffin India, 2011. ISBN 9780143331698.\\n7. Fun in Devlok Omnibus. Puffin India, 2014. ISBN 9780143333449. – Reprint (Compilation)\\n8. Pashu: Animal Tales from Hindu Mythology. Penguin Books India, 2014.\\n\\nISBN 9780143332473. Translations: Hindi.\\n\\n9. The Girl Who Chose: A New Way of Narrating the Ramayana. Puffin Books, 2016.\\n\\nISBN 9780143334637 (Based on the Ramayana).\\n\\n10. The Jaya Colouring Book. Penguin Random House India, 2016. ISBN 9780143426479. –\\n\\nBased on Older Book\\n\\n11. The Sita Colouring Book. Penguin Random House India, 2016. ISBN 9780143426462. –\\n\\nBased on Older Book\\n\\n12. The Boys Who Fought: The Mahabharata for Children. Puffin, 2017 ISBN 9789386815873\\n\\n(Based on the Mahabharata).\\n\\n13. Vahana: Gods and Their Favourite Animals - Rupa Publications India, 2020 ISBN 978-\\n\\n9390356065.\\n\\n14. Shyam: Our Little Krishna - Puffin, 2021 ISBN 978-0143453697. - Based on Older Book\\n\\n\\x0c15. Greek Gods, Monsters and Heroes: Read and Colour - Puffin, 2023 ISBN 978-0143453703.\\n\\n- Based on Older Book\\n\\n16. ABC of Hinduism for Kids - Aleph Book Company, 2024 ISBN 978-8119635740.\\n\\nTextbook\\n\\n1. Indian Culture, Art and Heritage For Civil Services Exam – Publisher: Pearson India, 2021\\n\\n(1st Edition) ISBN 978-9390531615.\\n\\nForeword/Contribution\\n\\n1. Close, Too Close: The Tranquebar Book of Queer Erotica. Westland, 2012. ISBN 978-\\n\\n9386036919\\n\\n2. Celebrating Public Spaces of India. Mapin Publishing, 2016. ISBN 978-9385360084.\\n3. The Illustrated Mahabharata: The Definitive Guide to India’s Greatest Epic. DK Publishing\\n\\n(Dorling Kindersley), 2017. ISBN 978-0241264348\\n\\n4. I Am Divine. So Are You: How Buddhism, Jainism, Sikhism and Hinduism Affirm the Dignity\\n\\nof Queer Identities and Sexualities. HarperCollins, 2017 ISBN 9789352774869.\\n\\n5. Padmavat: An Epic Love Story. Rupa Publications, 2018. ISBN 978-9353040239. -Illustrator\\n6. Behold, I Make All Things New: How Judaism, Christianity and Islam affirm the dignity of\\n\\nqueer identities and sexualities. HarperCollins, 2019 ISBN 9789353574550.\\n\\n7. Kabir, Kabir: The life and work of the early modern poet-philosopher. Westland, 2021\\n\\nISBN 978-9390679157. -Illustrator\\n\\n8. Urban Sadhu Yoga™ Chant Book: A Collection of Chants, Kirtans, Prayers, Sutras, Shlokas,\\n\\nShastras, Devotional Songs, and Inspirational Texts for the Modern Yoga Practitioner.\\nISBN 979-8492000349 -Illustrator\\n\\nCo-authored\\n\\n1. Yoga Mythology: 64 Asanas and Their Stories – Publisher: HarperCollins, 2019 ISBN 978-\\n\\n9353570842.\\n\\n2. Aranyaka: Book of the Forest – Publisher: Westland, 2019 ISBN 978-9388754576.\\n\\nReferences\\n\\n1. Pattanaik, Devdutt (2024). ABC Of Hinduism. Aleph Book Company. ISBN 978-8119635740.\\n2. Pattanaik, Devdutt (2023). Bahubali: 63 Insights into Jainism. Harper Collins. ISBN 978-\\n\\n8119635740.\\n\\n3. Pattanaik, Devdutt (2019). Yoga Mythology: 64 Asanas and Their Stories. Harper Collins.\\n\\nISBN 978-8119635740.\\n\\n4. https://www.mid-day.com/author-detail/devdutt-pattanaik-86\\n5. https://timesofindia.indiatimes.com/toi-plus/author-devduttpattanaik-16385\\n6. https://www.bhaskar.com/bih-pat-hmu-mat-latest-patna-news-031003-3048545-nor.html/\\n7. https://www.ted.com/speakers/devdutt_pattanaik\\n8. https://www.youtube.com/watch?v=HtofACChFQc&ab_channel=CNBC-TV18\\n9. https://mirchi.in/podcast/culture/the-devdutt-pattanaik-show-mirchi\\n\\n\\x0c10. Sharma, Sanjukta (16 September 2010). \"The mythologist\" (https://www.livemint.com/Leisur\\n\\ne/7Ie4rwesj5V6KkA3VHtL1H/The-mythologist.html). Mint.\\n\\n11. \"Devdutt Pattanaik: Ramayana in OLPS\" (http://www.mid-day.com/articles/devdutt-pattanaik-\\n\\nramayana-in-olps/17326190). Mid-Day. 12 June 2016. Retrieved 23 September 2017.\\n12. Bali, Shinmin (25 May 2003). \"Teaching Old Heads New Tricks\" (http://www.financialexpres\\n\\ns.com/printer/news/77330/). Financial Express. The Indian Express.\\n\\n13. \"Devdutt Pattanaik, Chief Belief Officer, Future Group | NASSCOM\" (https://web.archive.org/\\nweb/20150209143409/http://www.nasscom.in/devdutt-pattanaik-chief-belief-officer-future-gro\\nup). Archived from the original (http://www.nasscom.in/devdutt-pattanaik-chief-belief-officer-fu\\nture-group) on 9 February 2015. Retrieved 9 February 2015.\\n\\n14. Pattanaik, Devdutt (31 October 2015). \"Devdutt Pattanaik on 14 things historians taught him\"\\n(https://www.dailyo.in/politics/historians-mythology-india-awardwapsi-mahabharata-ramayan\\na-ashoka-brahmi-pali-jainism-buddhism/story/1/7097.html). dailyo.in.\\n\\n15. Pattnaik, Devdutt (17 November 2018). \"#MeToo in Mahabharata: Political needs were\\n\\nplaced over Draupadi\\'s security\" (https://economictimes.indiatimes.com/blogs/et-commentar\\ny/metoo-in-mahabharata-political-needs-were-placed-over-draupadis-security/). Economic\\nTimes Blog.\\n\\n16. Pattanaik, Devdutt (19 January 2014). \"5151 years of Gita\" (https://www.mid-day.com/article\\n\\ns/5151-years-of-gita/15033045). Mid-day.\\n\\n17. Pattanaik, Devdutt (27 December 2015). \"The complete man\" (https://www.theweek.in/thewe\\n\\nek/cover/krishna-the-complete-man.html). TheWeek.in.\\n\\n18. Pattanaik, Devdutt (20 August 1997). Shiva: an introduction (https://books.google.com/book\\ns?id=LGbXAAAAMAAJ). Vakils, Feffer and Simons Ltd. ISBN 9780863110085 – via Google\\nBooks.\\n\\n19. Krishnamachari, Suganthy (24 April 2009). \"Demystifying mythology: A conversation with\\n\\nDevdutt Pattanaik\" (https://web.archive.org/web/20090429012100/http://www.hindu.com/fr/2\\n009/04/24/stories/2009042451310400.htm). The Hindu. Archived from the original (http://ww\\nw.hindu.com/fr/2009/04/24/stories/2009042451310400.htm) on 29 April 2009.\\n\\n20. \"Great response to first TED meet in India\" (https://web.archive.org/web/20091105062442/htt\\np://www.hindu.com/2009/11/01/stories/2009110154420400.htm). The Hindu. 1 November\\n2009. Archived from the original (http://www.hindu.com/2009/11/01/stories/20091101544204\\n00.htm) on 5 November 2009.\\n\\n21. \"Devdutt Pattanaik: East vs. West -- the myths that mystify, TEDIndia 2009\" (https://web.archi\\nve.org/web/20140213031405/http://www.ted.com:80/talks/devdutt_pattanaik.html?). ted.com.\\nNovember 2009. Archived from the original (http://www.ted.com/talks/devdutt_pattanaik.html)\\non 13 February 2014.\\n\\n22. Sen, Debarati S (3 September 2013). \"Devdutt Patnaik roped for Mahabharat\" (http://timesofi\\nndia.indiatimes.com/tv/news/hindi/Renowned-author-Devdutt-is-all-set-to-make-his-off-scree\\nn-TV-debut-with-Mahabharat-/articleshow/22255263.cms). The Times of India. Retrieved\\n21 August 2017.\\n\\n23. \"Best of Radio Mirchi : Devdutt Pattanaik speaks about Siya Ke Ram saath Jeeturaaj\" (http\\n\\ns://www.radiomirchi.com/bestofmirchi/editorpick/devdutt-pattanaik-speaks-about-siya-ke-ram\\n-saath-jeeturaaj/31057/260). radiomirchi.com. Retrieved 21 August 2017.\\n\\n24. \"Exclusive | Mahabharat will stir lot of curiosity: Devdutt Pattanaik\" (https://www.adgully.com/\\nexclusive-mahabharat-will-stir-lot-of-curiosity-devdutt-pattanaik-55522.html). adgully.com. 16\\nSeptember 2013. Retrieved 21 August 2017.\\n\\n25. Yadav, Sangeeta (16 July 2017). \"God of small screen\" (https://www.dailypioneer.com/sunda\\n\\ny-edition/sunday-pioneer/special/god-of-small-screen.html). The Pioneer. Retrieved\\n6 October 2022.\\n\\n\\x0c26. \"MindRush. Event Speakers. Devdutt Pattanaik\" (https://web.archive.org/web/20200810194\\n\\n617/https://www.businesstoday.in/bt-mindrush/speaker-Devdutt-Pattanaik.jsp).\\nbusinesstoday.in. 2013. Archived from the original (https://www.businesstoday.in/bt-mindrus\\nh/speaker-Devdutt-Pattanaik.jsp) on 10 August 2020.\\n\\n27. \"Devon ke Dev Mahadev – Review\" (https://web.archive.org/web/20171106183818/http://ind\\n\\niaopines.com/devon-ke-dev-mahadev-review/). India Opines. Archived from the original (htt\\np://indiaopines.com/devon-ke-dev-mahadev-review/) on 6 November 2017. Retrieved\\n15 February 2018.\\n\\n28. \"An eclectic set of speakers announced for Goafest 2014\" (http://www.indiantelevision.com/\\nmam/marketing/an-eclectic-set-of-speakers-announced-for-goafest-2014-140402). Indian\\nTelevision Dot Com. 2 April 2014.\\n\\n29. Abrol, Somya (23 December 2016). \"Seeing Chetan Bhagat and Devdutt Pattanaik in the\\n\\nForbes India Celeb 100 list is confusing us no end\" (https://www.indiatoday.in/lifestyle/cultur\\ne/story/chetan-bhagat-devdutt-pattanaik-forbes-india-celebrity-100-2016-lifest-359231-2016-\\n12-23). India Today.\\n\\n30. Majumdar, Meghna (25 May 2020). \"Devdutt Pattanaik narrates The Mahabharata as a six-\\n\\nhour audio tale\" (https://www.thehindu.com/books/books-authors/devdutt-pattanaik-narrates-t\\nhe-mahabharata-as-a-six-hour-audio-tale/article31670737.ece). The Hindu. ISSN 0971-\\n751X (https://www.worldcat.org/issn/0971-751X). Retrieved 22 June 2020.\\n\\n31. Ghosal, Sharmistha (29 May 2020). \"Audible Suno launches Suno Mahabharata Devdutt\\n\\nPattanaik Ke Saath\" (https://www.indulgexpress.com/culture/books/2020/may/29/audible-su\\nno-launches-suno-mahabharata-devdutt-pattanaik-ke-saath-25350.html).\\nindulgexpress.com. The Indian Express. Retrieved 22 June 2020.\\n\\n32. Dasgupta, Koral (7 October 2015). \"Beyond the writer: Devdutt Pattanaik\" (https://www.news\\n18.com/blogs/books/koral-dasgupta/beyond-the-writer-devdutt-pattanaik-14361-1147624.ht\\nml). News18. Blog.\\n\\n33. Sinha, Namya (4 July 2016). \"No society can exist without myth, says Devdutt Pattanaik\" (htt\\nps://www.hindustantimes.com/books/no-society-can-exist-without-myth-says-devdutt-pattana\\nik/story-PG1v4iB17j07dV5Vyv86QN.html). Hindustan Times.\\n\\n34. Chakrabarty, Roshni (7 July 2017). \"Devdutt Pattanaik explains how understanding the\\n\\nsymbolism behind Indian mythology can entirely change the way we view life\" (https://www.i\\nndiatoday.in/education-today/featurephilia/story/devdutt-pattanaik-mythology-importance-inte\\nrview-1023028-2017-07-07). India Today.\\n\\n35. \"Modern people want to feel liberal, so they construct a past that\\'s conservative\" (https://india\\nnexpress.com/article/india/devdutt-pattanaik-modern-people-want-to-feel-liberal-so-they-con\\nstruct-a-past-thats-conservative-5420504/). The Indian Express. Devdutt Pattanaik in\\nconversation with The Indian Express Literary Editor Pratik Kanjilal. Express Adda, New\\nDelhi. 27 October 2018.\\n\\n36. Pattanaik, Devdutt (30 January 2018). Shiva to Shankara : giving form to the formless.\\n\\nNoida, Uttar Pradesh, India. ISBN 9789352641956. OCLC 985916928 (https://www.worldca\\nt.org/oclc/985916928).\\n\\n37. Pattanaik, Devdutt (2018). CULTURE : 50 insights from mythology. [S.l.]: Harper360.\\n\\nISBN 9789352644971. OCLC 990971229 (https://www.worldcat.org/oclc/990971229).\\n38. https://www.indiatoday.in/pti-feed/story/devdutt-pattanaik-retells-greek-myths-718037-2016-\\n\\n11-03\\n\\n39. Devarajan, R. (6 May 2013). \"An Indian view of management\" (https://www.thehindu.com/bo\\noks/books-reviews/an-indian-view-of-management/article4689764.ece). The Hindu – via\\nwww.thehindu.com.\\n\\n\\x0c40. Pattanaik, Devdutt (24 December 2016). \"From Macaulay to Frawley, from Doniger to Elst:\\n\\nWhy do many Indians need White saviours?\" (https://scroll.in/article/824732/from-macaulay-t\\no-frawley-from-doniger-to-elst-why-do-many-indians-need-white-saviours). Scroll.in.\\n\\n41. Pattanaik, Devdutt (17 September 2017). \"Devdutt Pattanaik: Brahmins who rejected Ram\"\\n(https://www.mid-day.com/articles/devdutt-pattanaik-brahmins-who-rejected-ram/18585174).\\nMid-Day.\\n\\n42. Pattanaik, Devdutt (6 August 2017). \"Devdutt Pattanaik: Atheist and secular mythologies\" (htt\\nps://www.mid-day.com/articles/devdutt-pattanaik-atheist-and-secular-mythologies/1848315\\n8). Mid-day.\\n\\n43. https://theprint.in/india/ram-remains-in-soul-of-devotee-at-all-times-writer-debdutt-\\n\\npattanaik/1922747/\\n\\n44. \"Devdutt Pattanaik comes out of the closet\" (https://timesofindia.indiatimes.com/life-style/boo\\nks/features/devdutt-pattanaik-comes-out-of-the-closet/articleshow/65872282.cms). The\\nTimes of India. 20 September 2018.\\n\\n45. \"Mythologist and Author Devdutt Pattanaik Comes Out as \\'Gay\\' in Interview for the First Time\\nAfter Section 377 Abolition - ED Times\" (https://m.dailyhunt.in/news/bangladesh/english/ed+t\\nimes-epaper-edtimes/mythologist+and+author+devdutt+pattanaik+comes+out+as+gay+in+in\\nterview+for+the+first+time+after+section+377+abolition-newsid-97241121).\\n\\n46. \"Proud to be gay\" (https://timesofindia.indiatimes.com/home/sunday-times/proud-to-be-gay/a\\n\\nrticleshow/65088845.cms). The Times of India. 22 July 2018.\\n\\n47. Pattanaik, Devdutt (7 September 2018). \"India\\'s ancient religions are actually very accepting\\nof gay people\" (https://qz.com/india/1382039/section-377-indias-devdutt-pattanaik-on-gay-rig\\nhts-and-karma/). Quartz India.\\n\\n48. Nerurkar, Sonal (10 August 2014). \"Bang for the book\" (http://timesofindia.indiatimes.com/ho\\nme/sunday-times/deep-focus/Bang-for-the-book/articleshow/39979332.cms). The Times of\\nIndia. Retrieved 25 August 2017.\\n\\n49. \"Bestseller books of 2016: Indian authors beat international writers\" (http://economictimes.in\\ndiatimes.com/magazines/panache/bestseller-books-of-2016-indian-authors-beat-internation\\nal-writers/articleshow/55914787.cms). The Economic Times. 11 December 2016. Retrieved\\n25 August 2017.\\n\\n50. Abrol, Somya (23 December 2016). \"Seeing Chetan Bhagat and Devdutt Pattanaik in the\\n\\nForbes India Celeb 100 list is confusing us no end\" (https://www.indiatoday.in/lifestyle/cultur\\ne/story/chetan-bhagat-devdutt-pattanaik-forbes-india-celebrity-100-2016-lifest-359231-2016-\\n12-23). India Today. Retrieved 16 February 2019.\\n\\n51. Rao, Namrata (5 February 2017). \" \\'Writing is an art, crime writing is a craft\\': Ashwin Sanghi\"\\n\\n(http://www.financialexpress.com/lifestyle/writing-is-an-art-crime-writing-is-a-craft-ashwin-san\\nghi/538055/). Financial Express. Retrieved 9 February 2017.\\n\\n52. Chanda-Vaz, Urmi (5 February 2017). \"Indian mythology is a new medium of choice for\\n\\nfeminist narratives (and it\\'s working)\" (https://scroll.in/article/828515/indian-mythology-is-a-n\\new-medium-of-choice-for-feminist-narratives-and-its-working). Scroll.in. Retrieved\\n9 February 2017.\\n\\n53. Chanda-Vaz, Urmi (22 November 2015). \"Why reading Devdutt Pattanaik\\'s My Gita makes\\n\\nsense but does not mean you\\'re reading the Gita\" (https://scroll.in/article/770902/why-readin\\ng-devdutt-pattanaiks-my-gita-makes-sense-but-does-not-mean-youre-reading-the-gita).\\nScroll.in. Retrieved 9 February 2017.\\n\\n54. Visvanathan, Shiv (16 December 2016). \"Shiv Visvanathan on the importance of being (and\\nthinking like) Devdutt Pattanaik\" (https://scroll.in/article/823924/shiv-visvanathan-on-the-imp\\nortance-of-being-and-thinking-like-devdutt-pattanaik). Scroll.in.\\n\\n\\x0c55. \"Good Omens gives people different way to imagine what heaven and hell may look like:\\n\\nNeil Gaiman\" (https://indianexpress.com/article/entertainment/web-series/neil-gaiman-good-\\nomens-5758173/). The Indian Express. PTI. 31 May 2019.\\n\\nExternal links\\n\\nOfficial website (http://www.devdutt.com/) \\nDevdutt Pattanaik (https://www.ted.com/speakers/devdutt_pattanaik) at TED\\nDevlok with Devdutt Pattanaik (https://www.epicon.in/en/tv-shows/devlok-with-devdutt-pattan\\naik/season-1) at EPIC ON\\n\\nRetrieved from \"https://en.wikipedia.org/w/index.php?title=Devdutt_Pattanaik&oldid=1222986344\"\\n\\n\\x0c'"
      ]
     },
     "execution_count": 12,
     "metadata": {},
     "output_type": "execute_result"
    }
   ],
   "source": [
    "text"
   ]
  },
  {
   "cell_type": "markdown",
   "id": "1e1d6151",
   "metadata": {},
   "source": [
    "#### Import regex"
   ]
  },
  {
   "cell_type": "code",
   "execution_count": 13,
   "id": "2657a9c3",
   "metadata": {},
   "outputs": [],
   "source": [
    "import re"
   ]
  },
  {
   "cell_type": "markdown",
   "id": "bcefd38b",
   "metadata": {},
   "source": [
    "#### set pattern for extracting the words"
   ]
  },
  {
   "cell_type": "code",
   "execution_count": 14,
   "id": "0209edd9",
   "metadata": {},
   "outputs": [],
   "source": [
    "pattern = re.compile(r'[A-Za-z]+, \\s')"
   ]
  },
  {
   "cell_type": "markdown",
   "id": "ecdbe9ae",
   "metadata": {},
   "source": [
    "##### In pattern we want those , the character which started with upper as well as lower characters and from a to z and + indicates one or more characters and , indicates after the word comma is there and after the comma it followed by one space ' '  and \\s matches white space characters like space ,  tabs , new line"
   ]
  },
  {
   "cell_type": "markdown",
   "id": "85bd437f",
   "metadata": {},
   "source": [
    "#### In simple words [A-za-z] indicates from A-z or a-z any character is allow and + says one more characters so it become word... now after word immeditely comma (',') and after comma there is should single space and after space \\s it says whitespace or new line or tab"
   ]
  },
  {
   "cell_type": "markdown",
   "id": "7040fed4",
   "metadata": {},
   "source": [
    "#### [A-Za-z]+:\n",
    "\n",
    "##### [A-Za-z]: This means any letter from A to Z (uppercase) or a to z (lowercase).\n",
    "##### +: This means one or more of those letters. So, it matches words that are made up of letters only (like \"Hello\", \"abc\", etc.).\n",
    "#### , :\n",
    "\n",
    "##### This is simply a comma followed by a space. It expects a comma and then exactly one space after the word. For example, \"Hello, \" or \"abc, \".\n",
    "\n",
    "##### ' ' : This is one space after comma\n",
    "\n",
    "#### \\s:\n",
    "\n",
    "##### This matches any whitespace character, including spaces, tabs, or newlines.\n"
   ]
  },
  {
   "cell_type": "code",
   "execution_count": 17,
   "id": "e5ed75ba",
   "metadata": {},
   "outputs": [],
   "source": [
    "match = pattern.findall(text)"
   ]
  },
  {
   "cell_type": "code",
   "execution_count": 19,
   "id": "fe9067f6",
   "metadata": {},
   "outputs": [
    {
     "name": "stdout",
     "output_type": "stream",
     "text": [
      "['mythology,  ', 'stories,  ', 'religion,  ', 'mythology,  ', 'Mirchi,  ', 'However,  ', 'Chembur,  ', 'College,  ', 'Mumbai,  ', 'TV,  ', 'mentions,  ', 'him,  ', 'heroes,  ', 'kings,  ', 'scientists,  ', 'changing,  ', 'villains,  ', 'oppressed,  ', 'martyr,  ', 'book,  ', 'Management,  ']\n"
     ]
    }
   ],
   "source": [
    "print(match)"
   ]
  },
  {
   "cell_type": "markdown",
   "id": "f05feb28",
   "metadata": {},
   "source": [
    "##### We noticed all words have comma fter it and space "
   ]
  }
 ],
 "metadata": {
  "kernelspec": {
   "display_name": "Python 3 (ipykernel)",
   "language": "python",
   "name": "python3"
  },
  "language_info": {
   "codemirror_mode": {
    "name": "ipython",
    "version": 3
   },
   "file_extension": ".py",
   "mimetype": "text/x-python",
   "name": "python",
   "nbconvert_exporter": "python",
   "pygments_lexer": "ipython3",
   "version": "3.11.4"
  }
 },
 "nbformat": 4,
 "nbformat_minor": 5
}

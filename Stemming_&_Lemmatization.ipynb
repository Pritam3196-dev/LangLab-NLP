{
 "cells": [
  {
   "cell_type": "markdown",
   "id": "8dde14c5",
   "metadata": {},
   "source": [
    "## Stemming"
   ]
  },
  {
   "cell_type": "markdown",
   "id": "84411358",
   "metadata": {},
   "source": [
    "#### Stemming is reduce words into base or root words . basically it remove or strip suffix and prefix from word to root word but most of times it not valid results. means its don't have meaning or its not valid which is not exist in dictionaries. It is faster but not valid."
   ]
  },
  {
   "cell_type": "code",
   "execution_count": 1,
   "id": "f40f6fe1",
   "metadata": {},
   "outputs": [],
   "source": [
    "import nltk"
   ]
  },
  {
   "cell_type": "markdown",
   "id": "cd30cc4b",
   "metadata": {},
   "source": [
    "#### stemming is performed by algorithm its name is porter stemmer and but actually stemming is implemented by PorterStemmer class so we import one class from nltk.stem module called PorterStemmer."
   ]
  },
  {
   "cell_type": "markdown",
   "id": "b8aaae33",
   "metadata": {},
   "source": [
    "#### porter stemmer(algorithm) defines rules for stemming and porterstemmer class actually implements the rules of stemming"
   ]
  },
  {
   "cell_type": "code",
   "execution_count": 8,
   "id": "4f4fe4f2",
   "metadata": {},
   "outputs": [],
   "source": [
    "from nltk.stem import PorterStemmer   # class"
   ]
  },
  {
   "cell_type": "code",
   "execution_count": 14,
   "id": "c48bd1ac",
   "metadata": {},
   "outputs": [],
   "source": [
    "stemming_ = PorterStemmer()"
   ]
  },
  {
   "cell_type": "markdown",
   "id": "3397d6ed",
   "metadata": {},
   "source": [
    "#### We take some sample of data to perform stemming"
   ]
  },
  {
   "cell_type": "code",
   "execution_count": 15,
   "id": "27d44e10",
   "metadata": {},
   "outputs": [],
   "source": [
    "words = ['studying', 'ninez', 'care','fairly', 'easily', 'run','running','runner','ran','runs','going','goes','gone','go','history','historical']"
   ]
  },
  {
   "cell_type": "code",
   "execution_count": 16,
   "id": "93db3cc4",
   "metadata": {},
   "outputs": [
    {
     "name": "stdout",
     "output_type": "stream",
     "text": [
      "['studying', 'ninez', 'care', 'fairly', 'easily', 'run', 'running', 'runner', 'ran', 'runs', 'going', 'goes', 'gone', 'go', 'history', 'historical']\n"
     ]
    }
   ],
   "source": [
    "print(words)"
   ]
  },
  {
   "cell_type": "markdown",
   "id": "d264fa7e",
   "metadata": {},
   "source": [
    "#### This words are extending words(not root words) so we will perform stemming onit "
   ]
  },
  {
   "cell_type": "code",
   "execution_count": 17,
   "id": "918824f5",
   "metadata": {},
   "outputs": [
    {
     "data": {
      "text/plain": [
       "<PorterStemmer>"
      ]
     },
     "execution_count": 17,
     "metadata": {},
     "output_type": "execute_result"
    }
   ],
   "source": [
    "stemming_"
   ]
  },
  {
   "cell_type": "markdown",
   "id": "2ad4e326",
   "metadata": {},
   "source": [
    "#### stem is actually function which take only one attribute or word at single time as input so we will pass in loop and we give single word at single time on basis of for loop iteration"
   ]
  },
  {
   "cell_type": "code",
   "execution_count": 29,
   "id": "b821a51a",
   "metadata": {},
   "outputs": [
    {
     "name": "stdout",
     "output_type": "stream",
     "text": [
      "studying ----> studi\n",
      "ninez ----> ninez\n",
      "care ----> care\n",
      "fairly ----> fairli\n",
      "easily ----> easili\n",
      "run ----> run\n",
      "running ----> run\n",
      "runner ----> runner\n",
      "ran ----> ran\n",
      "runs ----> run\n",
      "going ----> go\n",
      "goes ----> goe\n",
      "gone ----> gone\n",
      "go ----> go\n",
      "history ----> histori\n",
      "historical ----> histor\n"
     ]
    }
   ],
   "source": [
    "for word in words:\n",
    "    print(word, '---->' , stemming_.stem(word ,to_lowercase = True))"
   ]
  },
  {
   "cell_type": "markdown",
   "id": "e69e4b69",
   "metadata": {},
   "source": [
    "#### After stemming , we get some results out of that some are correct by meaning and by spelling also like run , runner , ran ,gone  ,  go ,care but there are some words are not correct by spell and not correct by meaning also like studi , fairli , easili , goe , histori , histor"
   ]
  },
  {
   "cell_type": "markdown",
   "id": "78dd0f14",
   "metadata": {},
   "source": [
    "### Lemmatization"
   ]
  },
  {
   "cell_type": "markdown",
   "id": "8f671495",
   "metadata": {},
   "source": [
    "#### Lemmatization is reduce the words into meaningful base/root word on basis of its context.so we always prefer it because it gives wors into meaningful base / root word in its context which is valid or exist in dictionaries. It is slower but it gives more accurate"
   ]
  },
  {
   "cell_type": "code",
   "execution_count": 32,
   "id": "244e9e99",
   "metadata": {},
   "outputs": [],
   "source": [
    "from nltk.stem import WordNetLemmatizer"
   ]
  },
  {
   "cell_type": "markdown",
   "id": "920970df",
   "metadata": {},
   "source": [
    "#### WordNetLemmatizer is class"
   ]
  },
  {
   "cell_type": "code",
   "execution_count": 33,
   "id": "9d9e784e",
   "metadata": {},
   "outputs": [],
   "source": [
    "word_lemmatizer = WordNetLemmatizer()"
   ]
  },
  {
   "cell_type": "markdown",
   "id": "213ac2a5",
   "metadata": {},
   "source": [
    "#### so WordNtlemmatizer class contains function called lemmatize it take single word at a time so we pass this function in for loop and per iteration it take single word "
   ]
  },
  {
   "cell_type": "code",
   "execution_count": 37,
   "id": "373c10ea",
   "metadata": {},
   "outputs": [
    {
     "name": "stdout",
     "output_type": "stream",
     "text": [
      "studying ----> studying\n",
      "ninez ----> ninez\n",
      "care ----> care\n",
      "fairly ----> fairly\n",
      "easily ----> easily\n",
      "run ----> run\n",
      "running ----> running\n",
      "runner ----> runner\n",
      "ran ----> ran\n",
      "runs ----> run\n",
      "going ----> going\n",
      "goes ----> go\n",
      "gone ----> gone\n",
      "go ----> go\n",
      "history ----> history\n",
      "historical ----> historical\n"
     ]
    }
   ],
   "source": [
    "for word in words:\n",
    "    print( word , '---->', word_lemmatizer.lemmatize(word))"
   ]
  },
  {
   "cell_type": "markdown",
   "id": "8223d627",
   "metadata": {},
   "source": [
    "##### We noticed all words are meaningful and In stemming goes is returned as 'goe' (which not having any meaning) and in lemmatization it returns as go."
   ]
  },
  {
   "cell_type": "markdown",
   "id": "e07927cf",
   "metadata": {},
   "source": [
    "#### Whereever changes are required they make changes it like goes ---> go as base word . wherever changes are not required they are not make any changes they taken as base words only"
   ]
  },
  {
   "cell_type": "markdown",
   "id": "b4a71a4e",
   "metadata": {},
   "source": [
    "## Here We perform word tokenization , stemming and we want only those tokens which does not contains stopwords"
   ]
  },
  {
   "cell_type": "markdown",
   "id": "1e9a87c9",
   "metadata": {},
   "source": [
    "#### We take text for processing"
   ]
  },
  {
   "cell_type": "code",
   "execution_count": 39,
   "id": "1dcfe72f",
   "metadata": {},
   "outputs": [],
   "source": [
    "text = \"Bhole Baba is absconding, after over a hundred people died in a stampede at his Hathras congregation. One response to this tragedy is to ask if this baba is ‘real’ or ‘fake’. But this is a false binary. All gurus or babas work on our emotions, not logic. Only, some abuse their power and collapse, some get institutionalised over generations as gods and prophets.And they do not flourish in India alone. In America, they are called the Charismatics who tell you how the Holy Spirit works miracles in human lives. Blind will see. Lame will walk. Poor will be prosperous. They are so powerful that they now fund politicians, who ensure their voice shapes legislation, and they receive tax benefits and protection from law. They have convinced Americans that Jesus wants them to carry guns, hate homosexuals, and deny women reproductive rights.\""
   ]
  },
  {
   "cell_type": "code",
   "execution_count": 40,
   "id": "921c2310",
   "metadata": {},
   "outputs": [
    {
     "name": "stdout",
     "output_type": "stream",
     "text": [
      "Bhole Baba is absconding, after over a hundred people died in a stampede at his Hathras congregation. One response to this tragedy is to ask if this baba is ‘real’ or ‘fake’. But this is a false binary. All gurus or babas work on our emotions, not logic. Only, some abuse their power and collapse, some get institutionalised over generations as gods and prophets.And they do not flourish in India alone. In America, they are called the Charismatics who tell you how the Holy Spirit works miracles in human lives. Blind will see. Lame will walk. Poor will be prosperous. They are so powerful that they now fund politicians, who ensure their voice shapes legislation, and they receive tax benefits and protection from law. They have convinced Americans that Jesus wants them to carry guns, hate homosexuals, and deny women reproductive rights.\n"
     ]
    }
   ],
   "source": [
    "print(text)"
   ]
  },
  {
   "cell_type": "markdown",
   "id": "78a28199",
   "metadata": {},
   "source": [
    "#### First we perform sentence tokenization  means text into individual sentences"
   ]
  },
  {
   "cell_type": "code",
   "execution_count": 96,
   "id": "f7bd0f0a",
   "metadata": {},
   "outputs": [],
   "source": [
    "from nltk.tokenize import sent_tokenize"
   ]
  },
  {
   "cell_type": "code",
   "execution_count": 121,
   "id": "c5c3b539",
   "metadata": {},
   "outputs": [],
   "source": [
    "sentences = sent_tokenize(text)"
   ]
  },
  {
   "cell_type": "code",
   "execution_count": 122,
   "id": "60e9cdf5",
   "metadata": {},
   "outputs": [
    {
     "name": "stdout",
     "output_type": "stream",
     "text": [
      "['Bhole Baba is absconding, after over a hundred people died in a stampede at his Hathras congregation.', 'One response to this tragedy is to ask if this baba is ‘real’ or ‘fake’.', 'But this is a false binary.', 'All gurus or babas work on our emotions, not logic.', 'Only, some abuse their power and collapse, some get institutionalised over generations as gods and prophets.And they do not flourish in India alone.', 'In America, they are called the Charismatics who tell you how the Holy Spirit works miracles in human lives.', 'Blind will see.', 'Lame will walk.', 'Poor will be prosperous.', 'They are so powerful that they now fund politicians, who ensure their voice shapes legislation, and they receive tax benefits and protection from law.', 'They have convinced Americans that Jesus wants them to carry guns, hate homosexuals, and deny women reproductive rights.']\n"
     ]
    }
   ],
   "source": [
    "print(sentences)"
   ]
  },
  {
   "cell_type": "code",
   "execution_count": 123,
   "id": "f1176eb8",
   "metadata": {},
   "outputs": [
    {
     "name": "stdout",
     "output_type": "stream",
     "text": [
      "11\n"
     ]
    }
   ],
   "source": [
    "print(len(sentences))"
   ]
  },
  {
   "cell_type": "code",
   "execution_count": 124,
   "id": "2d41bc8f",
   "metadata": {},
   "outputs": [],
   "source": [
    "from nltk.tokenize import word_tokenize  # word tokenization\n",
    "from nltk.corpus import stopwords    # stopwords"
   ]
  },
  {
   "cell_type": "markdown",
   "id": "f718831f",
   "metadata": {},
   "source": [
    "#### We are ready with snetences"
   ]
  },
  {
   "cell_type": "markdown",
   "id": "8060ff26",
   "metadata": {},
   "source": [
    "#### Now we perform word tokenization"
   ]
  },
  {
   "cell_type": "code",
   "execution_count": 127,
   "id": "63918242",
   "metadata": {
    "scrolled": false
   },
   "outputs": [],
   "source": [
    "for sentence in range(len(sentences)):\n",
    "    \n",
    "    word_tokens = word_tokenize(sentences[sentence])\n",
    "    \n",
    "    \n",
    "    stem_sent = []\n",
    "    \n",
    "    for word in word_tokens:   # iteration on word tokenization \n",
    "        \n",
    "        if word not in set(stopwords.words('english')): # set is for unique stop words\n",
    "            # Here we want only those words from text data which are not stop words or not\n",
    "            # present in stopwords\n",
    "            \n",
    "            stem_word = PorterStemmer().stem(word)   # single stem word\n",
    "            #print(stem_word)\n",
    "            \n",
    "            stem_sent.append(stem_word)   # stem word append in list \n",
    "        #stem_sent is a list it contains tokens stem words and we are in for loop means it create\n",
    "        #that much list equal to your length of sentence tokens (11) means it create 11 lists here\n",
    "        \n",
    "            \n",
    "    #print(stem_sent)  \n",
    "    sentences[sentence] = ' '.join(stem_sent)  # we join a list to a string and we are at \n",
    "    #out of inner for loop means it will join till outer for loop naturally  get exhaust means \n",
    "    #its len(11) i.e. 0 to 10. means it will add all lists to sentences variable and we track\n",
    "    # it(index) on sentence (iterating variable)."
   ]
  },
  {
   "cell_type": "code",
   "execution_count": 128,
   "id": "d5419ccb",
   "metadata": {},
   "outputs": [
    {
     "name": "stdout",
     "output_type": "stream",
     "text": [
      "['bhole baba abscond , hundr peopl die stamp hathra congreg .', 'one respon tragedi ask baba ‘ real ’ ‘ fake ’ .', 'fal binari .', 'guru baba work emot , logic .', 'onli , abu power collap , get institutionali gener god prophets.and flourish india alon .', 'america , call charismat tell holi spirit work miracl human live .', 'blind see .', 'lame walk .', 'poor prosper .', 'power fund politician , ensur voic shape legisl , receiv tax benefit protect law .', 'convinc american jesu want carri gun , hate homosexu , deni women reproduct right .']\n"
     ]
    }
   ],
   "source": [
    "print(sentences)"
   ]
  },
  {
   "cell_type": "markdown",
   "id": "34ac2b68",
   "metadata": {},
   "source": [
    "### Here We perform word tokenization , lammitization and we want only those tokens which does not contains stopwords"
   ]
  },
  {
   "cell_type": "markdown",
   "id": "0fa8084f",
   "metadata": {},
   "source": [
    "#### sentence tokenize over text data"
   ]
  },
  {
   "cell_type": "code",
   "execution_count": 136,
   "id": "b3077b2c",
   "metadata": {},
   "outputs": [],
   "source": [
    "sentences = sent_tokenize(text)"
   ]
  },
  {
   "cell_type": "code",
   "execution_count": 137,
   "id": "6ca82bc4",
   "metadata": {},
   "outputs": [
    {
     "name": "stdout",
     "output_type": "stream",
     "text": [
      "['Bhole Baba is absconding, after over a hundred people died in a stampede at his Hathras congregation.', 'One response to this tragedy is to ask if this baba is ‘real’ or ‘fake’.', 'But this is a false binary.', 'All gurus or babas work on our emotions, not logic.', 'Only, some abuse their power and collapse, some get institutionalised over generations as gods and prophets.And they do not flourish in India alone.', 'In America, they are called the Charismatics who tell you how the Holy Spirit works miracles in human lives.', 'Blind will see.', 'Lame will walk.', 'Poor will be prosperous.', 'They are so powerful that they now fund politicians, who ensure their voice shapes legislation, and they receive tax benefits and protection from law.', 'They have convinced Americans that Jesus wants them to carry guns, hate homosexuals, and deny women reproductive rights.']\n"
     ]
    }
   ],
   "source": [
    "print(sentences)"
   ]
  },
  {
   "cell_type": "code",
   "execution_count": 138,
   "id": "ea1aee0c",
   "metadata": {},
   "outputs": [],
   "source": [
    "for sentence in range(len(sentences)):\n",
    "    \n",
    "    word_tokens = word_tokenize(sentences[sentence])  # word tokenize over sentence\n",
    "    \n",
    "    \n",
    "    lemmatize_sent = []\n",
    "    \n",
    "    for word in word_tokens:   # iteration on word tokenization \n",
    "        \n",
    "        if word not in set(stopwords.words('english')): # set is for unique stop words\n",
    "            # Here we want only those words from text data which are not stop words or not\n",
    "            # present in stopwords\n",
    "            \n",
    "            lemmatize_word = WordNetLemmatizer().lemmatize(word)   # single lemmatize word\n",
    "\n",
    "            \n",
    "            lemmatize_sent.append(lemmatize_word)   # lemmatize word append in list \n",
    "        #lemmatize_sent is a list it contains tokens lemmatize words and we are in for loop means \n",
    "        #it createthat much list equal to your length of sentence tokens (11) means it create \n",
    "        #11 lists here one list is made till your last word of sentences(sentence tokenize of \n",
    "        #per sentence) when your single sentence (by sentence_tokenizer) get naturally \n",
    "        #exhausted then it create for anotherlist till your all 11 sentences is not covered\n",
    "        # in lemmatize sentence it append only those lemmatize word which are actually part of\n",
    "        # that perticular lemmatize sentence eg : 1st lemmatize sentence contains only those \n",
    "        # words append which is part of 1st lammitizr sentence . in 2nd lemmatize sentence append\n",
    "        # only those words whose actually part of 2nd lemmatize sentence. so like that it will\n",
    "        # complete 11 lists or 11 lemmatize sentence.\n",
    "        \n",
    "    sentences[sentence] = ' '.join(lemmatize_sent)  # we join a list to a string and we are at \n",
    "    #out of inner for loop means it will join till outer for loop naturally  get exhaust means \n",
    "    #its len(11) i.e. 0 to 10. means it will add all lists to sentences variable and we track\n",
    "    # it(index) on sentence (iterating variable)."
   ]
  },
  {
   "cell_type": "code",
   "execution_count": 139,
   "id": "195d86b5",
   "metadata": {},
   "outputs": [
    {
     "name": "stdout",
     "output_type": "stream",
     "text": [
      "['Bhole Baba absconding , hundred people died stampede Hathras congregation .', 'One response tragedy ask baba ‘ real ’ ‘ fake ’ .', 'But false binary .', 'All guru baba work emotion , logic .', 'Only , abuse power collapse , get institutionalised generation god prophets.And flourish India alone .', 'In America , called Charismatics tell Holy Spirit work miracle human life .', 'Blind see .', 'Lame walk .', 'Poor prosperous .', 'They powerful fund politician , ensure voice shape legislation , receive tax benefit protection law .', 'They convinced Americans Jesus want carry gun , hate homosexual , deny woman reproductive right .']\n"
     ]
    }
   ],
   "source": [
    "print(sentences)"
   ]
  },
  {
   "cell_type": "code",
   "execution_count": 140,
   "id": "46a4015a",
   "metadata": {},
   "outputs": [
    {
     "name": "stdout",
     "output_type": "stream",
     "text": [
      "11\n"
     ]
    }
   ],
   "source": [
    "print(len(sentences))"
   ]
  },
  {
   "cell_type": "code",
   "execution_count": 141,
   "id": "bddf648a",
   "metadata": {},
   "outputs": [
    {
     "data": {
      "text/plain": [
       "['Bhole Baba absconding , hundred people died stampede Hathras congregation .',\n",
       " 'One response tragedy ask baba ‘ real ’ ‘ fake ’ .',\n",
       " 'But false binary .',\n",
       " 'All guru baba work emotion , logic .',\n",
       " 'Only , abuse power collapse , get institutionalised generation god prophets.And flourish India alone .',\n",
       " 'In America , called Charismatics tell Holy Spirit work miracle human life .',\n",
       " 'Blind see .',\n",
       " 'Lame walk .',\n",
       " 'Poor prosperous .',\n",
       " 'They powerful fund politician , ensure voice shape legislation , receive tax benefit protection law .',\n",
       " 'They convinced Americans Jesus want carry gun , hate homosexual , deny woman reproductive right .']"
      ]
     },
     "execution_count": 141,
     "metadata": {},
     "output_type": "execute_result"
    }
   ],
   "source": [
    "sentences"
   ]
  },
  {
   "cell_type": "markdown",
   "id": "1308d0a3",
   "metadata": {},
   "source": [
    "### Regex"
   ]
  },
  {
   "cell_type": "code",
   "execution_count": 142,
   "id": "088a432d",
   "metadata": {},
   "outputs": [],
   "source": [
    "import re"
   ]
  },
  {
   "cell_type": "code",
   "execution_count": 143,
   "id": "4ea32637",
   "metadata": {},
   "outputs": [],
   "source": [
    "input_str = \"thhhhhe film Titanic wasssss released in 1988\""
   ]
  },
  {
   "cell_type": "code",
   "execution_count": 144,
   "id": "11a6199f",
   "metadata": {},
   "outputs": [
    {
     "name": "stdout",
     "output_type": "stream",
     "text": [
      "<re.Match object; span=(0, 7), match='thhhhhe'>\n"
     ]
    }
   ],
   "source": [
    "match_ = re.match(r'[A-Za-z]+' , input_str)\n",
    "print(match_)"
   ]
  },
  {
   "cell_type": "markdown",
   "id": "4ae4675b",
   "metadata": {},
   "source": [
    "#### match : match is the finding or matching very first word with your pattern if your very first word matches with your pattern then it retrive the object means match object and index of match object"
   ]
  },
  {
   "cell_type": "code",
   "execution_count": 145,
   "id": "6fabb7a8",
   "metadata": {},
   "outputs": [],
   "source": [
    "input_str= \"1998 thhhhhe film Titanic wasssss released in\""
   ]
  },
  {
   "cell_type": "code",
   "execution_count": 146,
   "id": "892ecc8c",
   "metadata": {},
   "outputs": [
    {
     "name": "stdout",
     "output_type": "stream",
     "text": [
      "None\n"
     ]
    }
   ],
   "source": [
    "match__ = re.match(r'[A-za-z]+' , input_str)\n",
    "print(match__)"
   ]
  },
  {
   "cell_type": "markdown",
   "id": "6db3a363",
   "metadata": {},
   "source": [
    "#### Becasue match object is not able to find the string in very first word"
   ]
  },
  {
   "cell_type": "code",
   "execution_count": 153,
   "id": "7a4df772",
   "metadata": {},
   "outputs": [],
   "source": [
    "match___ = re.match(r'dog' , 'dog cat dog')"
   ]
  },
  {
   "cell_type": "code",
   "execution_count": 156,
   "id": "88738284",
   "metadata": {},
   "outputs": [
    {
     "name": "stdout",
     "output_type": "stream",
     "text": [
      "dog\n"
     ]
    }
   ],
   "source": [
    "print(match___.group(0))"
   ]
  },
  {
   "cell_type": "code",
   "execution_count": 158,
   "id": "57df1e8e",
   "metadata": {},
   "outputs": [
    {
     "name": "stdout",
     "output_type": "stream",
     "text": [
      "dog\n"
     ]
    }
   ],
   "source": [
    "print(match___.group())"
   ]
  },
  {
   "cell_type": "markdown",
   "id": "fda1118d",
   "metadata": {},
   "source": [
    "### Accessing corpus text - Mini Project"
   ]
  },
  {
   "cell_type": "markdown",
   "id": "2623d30d",
   "metadata": {},
   "source": [
    "#### We perform a mini project on inbuilt data which is availabel in corpus library"
   ]
  },
  {
   "cell_type": "code",
   "execution_count": 160,
   "id": "21086a9f",
   "metadata": {},
   "outputs": [
    {
     "name": "stdout",
     "output_type": "stream",
     "text": [
      "showing info https://raw.githubusercontent.com/nltk/nltk_data/gh-pages/index.xml\n"
     ]
    },
    {
     "data": {
      "text/plain": [
       "True"
      ]
     },
     "execution_count": 160,
     "metadata": {},
     "output_type": "execute_result"
    }
   ],
   "source": [
    "import nltk\n",
    "nltk.download()"
   ]
  },
  {
   "cell_type": "markdown",
   "id": "7e9a9c5d",
   "metadata": {},
   "source": [
    "#### We import data from corpus library (it will show in pop up after nltk.downlaod()) so we will import movie_reviews ,product review_1 , product review_2 "
   ]
  },
  {
   "cell_type": "code",
   "execution_count": 205,
   "id": "c5da2bdc",
   "metadata": {},
   "outputs": [],
   "source": [
    "from nltk.corpus import movie_reviews , product_reviews_1 , product_reviews_2"
   ]
  },
  {
   "cell_type": "markdown",
   "id": "7362348d",
   "metadata": {},
   "source": [
    "#### movie_reviews"
   ]
  },
  {
   "cell_type": "code",
   "execution_count": 206,
   "id": "910dfc46",
   "metadata": {},
   "outputs": [
    {
     "name": "stdout",
     "output_type": "stream",
     "text": [
      "2000\n"
     ]
    }
   ],
   "source": [
    "print(len(movie_reviews.fileids()))"
   ]
  },
  {
   "cell_type": "markdown",
   "id": "0e51d664",
   "metadata": {},
   "source": [
    "#### product_reviews_1"
   ]
  },
  {
   "cell_type": "code",
   "execution_count": 207,
   "id": "24631eb5",
   "metadata": {},
   "outputs": [
    {
     "name": "stdout",
     "output_type": "stream",
     "text": [
      "6\n"
     ]
    }
   ],
   "source": [
    "print(len(product_reviews_1.fileids()))"
   ]
  },
  {
   "cell_type": "markdown",
   "id": "6f2a71ad",
   "metadata": {},
   "source": [
    "#### product_reviews_2"
   ]
  },
  {
   "cell_type": "code",
   "execution_count": 208,
   "id": "d0c4ef1e",
   "metadata": {},
   "outputs": [
    {
     "name": "stdout",
     "output_type": "stream",
     "text": [
      "10\n"
     ]
    }
   ],
   "source": [
    "print(len(product_reviews_2.fileids()))"
   ]
  },
  {
   "cell_type": "markdown",
   "id": "af4892e6",
   "metadata": {},
   "source": [
    "#### That no . of text data into that reviews file"
   ]
  },
  {
   "cell_type": "code",
   "execution_count": 209,
   "id": "546b64e9",
   "metadata": {},
   "outputs": [
    {
     "name": "stdout",
     "output_type": "stream",
     "text": [
      "['neg/cv000_29416.txt', 'neg/cv001_19502.txt', 'neg/cv002_17424.txt', 'neg/cv003_12683.txt', 'neg/cv004_12641.txt', 'neg/cv005_29357.txt', 'neg/cv006_17022.txt', 'neg/cv007_4992.txt', 'neg/cv008_29326.txt', 'neg/cv009_29417.txt', 'neg/cv010_29063.txt', 'neg/cv011_13044.txt', 'neg/cv012_29411.txt', 'neg/cv013_10494.txt', 'neg/cv014_15600.txt', 'neg/cv015_29356.txt', 'neg/cv016_4348.txt', 'neg/cv017_23487.txt', 'neg/cv018_21672.txt', 'neg/cv019_16117.txt', 'neg/cv020_9234.txt', 'neg/cv021_17313.txt', 'neg/cv022_14227.txt', 'neg/cv023_13847.txt', 'neg/cv024_7033.txt', 'neg/cv025_29825.txt', 'neg/cv026_29229.txt', 'neg/cv027_26270.txt', 'neg/cv028_26964.txt', 'neg/cv029_19943.txt', 'neg/cv030_22893.txt', 'neg/cv031_19540.txt', 'neg/cv032_23718.txt', 'neg/cv033_25680.txt', 'neg/cv034_29446.txt', 'neg/cv035_3343.txt', 'neg/cv036_18385.txt', 'neg/cv037_19798.txt', 'neg/cv038_9781.txt', 'neg/cv039_5963.txt', 'neg/cv040_8829.txt', 'neg/cv041_22364.txt', 'neg/cv042_11927.txt', 'neg/cv043_16808.txt', 'neg/cv044_18429.txt', 'neg/cv045_25077.txt', 'neg/cv046_10613.txt', 'neg/cv047_18725.txt', 'neg/cv048_18380.txt', 'neg/cv049_21917.txt', 'neg/cv050_12128.txt', 'neg/cv051_10751.txt', 'neg/cv052_29318.txt', 'neg/cv053_23117.txt', 'neg/cv054_4101.txt', 'neg/cv055_8926.txt', 'neg/cv056_14663.txt', 'neg/cv057_7962.txt', 'neg/cv058_8469.txt', 'neg/cv059_28723.txt', 'neg/cv060_11754.txt', 'neg/cv061_9321.txt', 'neg/cv062_24556.txt', 'neg/cv063_28852.txt', 'neg/cv064_25842.txt', 'neg/cv065_16909.txt', 'neg/cv066_11668.txt', 'neg/cv067_21192.txt', 'neg/cv068_14810.txt', 'neg/cv069_11613.txt', 'neg/cv070_13249.txt', 'neg/cv071_12969.txt', 'neg/cv072_5928.txt', 'neg/cv073_23039.txt', 'neg/cv074_7188.txt', 'neg/cv075_6250.txt', 'neg/cv076_26009.txt', 'neg/cv077_23172.txt', 'neg/cv078_16506.txt', 'neg/cv079_12766.txt', 'neg/cv080_14899.txt', 'neg/cv081_18241.txt', 'neg/cv082_11979.txt', 'neg/cv083_25491.txt', 'neg/cv084_15183.txt', 'neg/cv085_15286.txt', 'neg/cv086_19488.txt', 'neg/cv087_2145.txt', 'neg/cv088_25274.txt', 'neg/cv089_12222.txt', 'neg/cv090_0049.txt', 'neg/cv091_7899.txt', 'neg/cv092_27987.txt', 'neg/cv093_15606.txt', 'neg/cv094_27868.txt', 'neg/cv095_28730.txt', 'neg/cv096_12262.txt', 'neg/cv097_26081.txt', 'neg/cv098_17021.txt', 'neg/cv099_11189.txt', 'neg/cv100_12406.txt', 'neg/cv101_10537.txt', 'neg/cv102_8306.txt', 'neg/cv103_11943.txt', 'neg/cv104_19176.txt', 'neg/cv105_19135.txt', 'neg/cv106_18379.txt', 'neg/cv107_25639.txt', 'neg/cv108_17064.txt', 'neg/cv109_22599.txt', 'neg/cv110_27832.txt', 'neg/cv111_12253.txt', 'neg/cv112_12178.txt', 'neg/cv113_24354.txt', 'neg/cv114_19501.txt', 'neg/cv115_26443.txt', 'neg/cv116_28734.txt', 'neg/cv117_25625.txt', 'neg/cv118_28837.txt', 'neg/cv119_9909.txt', 'neg/cv120_3793.txt', 'neg/cv121_18621.txt', 'neg/cv122_7891.txt', 'neg/cv123_12165.txt', 'neg/cv124_3903.txt', 'neg/cv125_9636.txt', 'neg/cv126_28821.txt', 'neg/cv127_16451.txt', 'neg/cv128_29444.txt', 'neg/cv129_18373.txt', 'neg/cv130_18521.txt', 'neg/cv131_11568.txt', 'neg/cv132_5423.txt', 'neg/cv133_18065.txt', 'neg/cv134_23300.txt', 'neg/cv135_12506.txt', 'neg/cv136_12384.txt', 'neg/cv137_17020.txt', 'neg/cv138_13903.txt', 'neg/cv139_14236.txt', 'neg/cv140_7963.txt', 'neg/cv141_17179.txt', 'neg/cv142_23657.txt', 'neg/cv143_21158.txt', 'neg/cv144_5010.txt', 'neg/cv145_12239.txt', 'neg/cv146_19587.txt', 'neg/cv147_22625.txt', 'neg/cv148_18084.txt', 'neg/cv149_17084.txt', 'neg/cv150_14279.txt', 'neg/cv151_17231.txt', 'neg/cv152_9052.txt', 'neg/cv153_11607.txt', 'neg/cv154_9562.txt', 'neg/cv155_7845.txt', 'neg/cv156_11119.txt', 'neg/cv157_29302.txt', 'neg/cv158_10914.txt', 'neg/cv159_29374.txt', 'neg/cv160_10848.txt', 'neg/cv161_12224.txt', 'neg/cv162_10977.txt', 'neg/cv163_10110.txt', 'neg/cv164_23451.txt', 'neg/cv165_2389.txt', 'neg/cv166_11959.txt', 'neg/cv167_18094.txt', 'neg/cv168_7435.txt', 'neg/cv169_24973.txt', 'neg/cv170_29808.txt', 'neg/cv171_15164.txt', 'neg/cv172_12037.txt', 'neg/cv173_4295.txt', 'neg/cv174_9735.txt', 'neg/cv175_7375.txt', 'neg/cv176_14196.txt', 'neg/cv177_10904.txt', 'neg/cv178_14380.txt', 'neg/cv179_9533.txt', 'neg/cv180_17823.txt', 'neg/cv181_16083.txt', 'neg/cv182_7791.txt', 'neg/cv183_19826.txt', 'neg/cv184_26935.txt', 'neg/cv185_28372.txt', 'neg/cv186_2396.txt', 'neg/cv187_14112.txt', 'neg/cv188_20687.txt', 'neg/cv189_24248.txt', 'neg/cv190_27176.txt', 'neg/cv191_29539.txt', 'neg/cv192_16079.txt', 'neg/cv193_5393.txt', 'neg/cv194_12855.txt', 'neg/cv195_16146.txt', 'neg/cv196_28898.txt', 'neg/cv197_29271.txt', 'neg/cv198_19313.txt', 'neg/cv199_9721.txt', 'neg/cv200_29006.txt', 'neg/cv201_7421.txt', 'neg/cv202_11382.txt', 'neg/cv203_19052.txt', 'neg/cv204_8930.txt', 'neg/cv205_9676.txt', 'neg/cv206_15893.txt', 'neg/cv207_29141.txt', 'neg/cv208_9475.txt', 'neg/cv209_28973.txt', 'neg/cv210_9557.txt', 'neg/cv211_9955.txt', 'neg/cv212_10054.txt', 'neg/cv213_20300.txt', 'neg/cv214_13285.txt', 'neg/cv215_23246.txt', 'neg/cv216_20165.txt', 'neg/cv217_28707.txt', 'neg/cv218_25651.txt', 'neg/cv219_19874.txt', 'neg/cv220_28906.txt', 'neg/cv221_27081.txt', 'neg/cv222_18720.txt', 'neg/cv223_28923.txt', 'neg/cv224_18875.txt', 'neg/cv225_29083.txt', 'neg/cv226_26692.txt', 'neg/cv227_25406.txt', 'neg/cv228_5644.txt', 'neg/cv229_15200.txt', 'neg/cv230_7913.txt', 'neg/cv231_11028.txt', 'neg/cv232_16768.txt', 'neg/cv233_17614.txt', 'neg/cv234_22123.txt', 'neg/cv235_10704.txt', 'neg/cv236_12427.txt', 'neg/cv237_20635.txt', 'neg/cv238_14285.txt', 'neg/cv239_29828.txt', 'neg/cv240_15948.txt', 'neg/cv241_24602.txt', 'neg/cv242_11354.txt', 'neg/cv243_22164.txt', 'neg/cv244_22935.txt', 'neg/cv245_8938.txt', 'neg/cv246_28668.txt', 'neg/cv247_14668.txt', 'neg/cv248_15672.txt', 'neg/cv249_12674.txt', 'neg/cv250_26462.txt', 'neg/cv251_23901.txt', 'neg/cv252_24974.txt', 'neg/cv253_10190.txt', 'neg/cv254_5870.txt', 'neg/cv255_15267.txt', 'neg/cv256_16529.txt', 'neg/cv257_11856.txt', 'neg/cv258_5627.txt', 'neg/cv259_11827.txt', 'neg/cv260_15652.txt', 'neg/cv261_11855.txt', 'neg/cv262_13812.txt', 'neg/cv263_20693.txt', 'neg/cv264_14108.txt', 'neg/cv265_11625.txt', 'neg/cv266_26644.txt', 'neg/cv267_16618.txt', 'neg/cv268_20288.txt', 'neg/cv269_23018.txt', 'neg/cv270_5873.txt', 'neg/cv271_15364.txt', 'neg/cv272_20313.txt', 'neg/cv273_28961.txt', 'neg/cv274_26379.txt', 'neg/cv275_28725.txt', 'neg/cv276_17126.txt', 'neg/cv277_20467.txt', 'neg/cv278_14533.txt', 'neg/cv279_19452.txt', 'neg/cv280_8651.txt', 'neg/cv281_24711.txt', 'neg/cv282_6833.txt', 'neg/cv283_11963.txt', 'neg/cv284_20530.txt', 'neg/cv285_18186.txt', 'neg/cv286_26156.txt', 'neg/cv287_17410.txt', 'neg/cv288_20212.txt', 'neg/cv289_6239.txt', 'neg/cv290_11981.txt', 'neg/cv291_26844.txt', 'neg/cv292_7804.txt', 'neg/cv293_29731.txt', 'neg/cv294_12695.txt', 'neg/cv295_17060.txt', 'neg/cv296_13146.txt', 'neg/cv297_10104.txt', 'neg/cv298_24487.txt', 'neg/cv299_17950.txt', 'neg/cv300_23302.txt', 'neg/cv301_13010.txt', 'neg/cv302_26481.txt', 'neg/cv303_27366.txt', 'neg/cv304_28489.txt', 'neg/cv305_9937.txt', 'neg/cv306_10859.txt', 'neg/cv307_26382.txt', 'neg/cv308_5079.txt', 'neg/cv309_23737.txt', 'neg/cv310_14568.txt', 'neg/cv311_17708.txt', 'neg/cv312_29308.txt', 'neg/cv313_19337.txt', 'neg/cv314_16095.txt', 'neg/cv315_12638.txt', 'neg/cv316_5972.txt', 'neg/cv317_25111.txt', 'neg/cv318_11146.txt', 'neg/cv319_16459.txt', 'neg/cv320_9693.txt', 'neg/cv321_14191.txt', 'neg/cv322_21820.txt', 'neg/cv323_29633.txt', 'neg/cv324_7502.txt', 'neg/cv325_18330.txt', 'neg/cv326_14777.txt', 'neg/cv327_21743.txt', 'neg/cv328_10908.txt', 'neg/cv329_29293.txt', 'neg/cv330_29675.txt', 'neg/cv331_8656.txt', 'neg/cv332_17997.txt', 'neg/cv333_9443.txt', 'neg/cv334_0074.txt', 'neg/cv335_16299.txt', 'neg/cv336_10363.txt', 'neg/cv337_29061.txt', 'neg/cv338_9183.txt', 'neg/cv339_22452.txt', 'neg/cv340_14776.txt', 'neg/cv341_25667.txt', 'neg/cv342_20917.txt', 'neg/cv343_10906.txt', 'neg/cv344_5376.txt', 'neg/cv345_9966.txt', 'neg/cv346_19198.txt', 'neg/cv347_14722.txt', 'neg/cv348_19207.txt', 'neg/cv349_15032.txt', 'neg/cv350_22139.txt', 'neg/cv351_17029.txt', 'neg/cv352_5414.txt', 'neg/cv353_19197.txt', 'neg/cv354_8573.txt', 'neg/cv355_18174.txt', 'neg/cv356_26170.txt', 'neg/cv357_14710.txt', 'neg/cv358_11557.txt', 'neg/cv359_6751.txt', 'neg/cv360_8927.txt', 'neg/cv361_28738.txt', 'neg/cv362_16985.txt', 'neg/cv363_29273.txt', 'neg/cv364_14254.txt', 'neg/cv365_12442.txt', 'neg/cv366_10709.txt', 'neg/cv367_24065.txt', 'neg/cv368_11090.txt', 'neg/cv369_14245.txt', 'neg/cv370_5338.txt', 'neg/cv371_8197.txt', 'neg/cv372_6654.txt', 'neg/cv373_21872.txt', 'neg/cv374_26455.txt', 'neg/cv375_9932.txt', 'neg/cv376_20883.txt', 'neg/cv377_8440.txt', 'neg/cv378_21982.txt', 'neg/cv379_23167.txt', 'neg/cv380_8164.txt', 'neg/cv381_21673.txt', 'neg/cv382_8393.txt', 'neg/cv383_14662.txt', 'neg/cv384_18536.txt', 'neg/cv385_29621.txt', 'neg/cv386_10229.txt', 'neg/cv387_12391.txt', 'neg/cv388_12810.txt', 'neg/cv389_9611.txt', 'neg/cv390_12187.txt', 'neg/cv391_11615.txt', 'neg/cv392_12238.txt', 'neg/cv393_29234.txt', 'neg/cv394_5311.txt', 'neg/cv395_11761.txt', 'neg/cv396_19127.txt', 'neg/cv397_28890.txt', 'neg/cv398_17047.txt', 'neg/cv399_28593.txt', 'neg/cv400_20631.txt', 'neg/cv401_13758.txt', 'neg/cv402_16097.txt', 'neg/cv403_6721.txt', 'neg/cv404_21805.txt', 'neg/cv405_21868.txt', 'neg/cv406_22199.txt', 'neg/cv407_23928.txt', 'neg/cv408_5367.txt', 'neg/cv409_29625.txt', 'neg/cv410_25624.txt', 'neg/cv411_16799.txt', 'neg/cv412_25254.txt', 'neg/cv413_7893.txt', 'neg/cv414_11161.txt', 'neg/cv415_23674.txt', 'neg/cv416_12048.txt', 'neg/cv417_14653.txt', 'neg/cv418_16562.txt', 'neg/cv419_14799.txt', 'neg/cv420_28631.txt', 'neg/cv421_9752.txt', 'neg/cv422_9632.txt', 'neg/cv423_12089.txt', 'neg/cv424_9268.txt', 'neg/cv425_8603.txt', 'neg/cv426_10976.txt', 'neg/cv427_11693.txt', 'neg/cv428_12202.txt', 'neg/cv429_7937.txt', 'neg/cv430_18662.txt', 'neg/cv431_7538.txt', 'neg/cv432_15873.txt', 'neg/cv433_10443.txt', 'neg/cv434_5641.txt', 'neg/cv435_24355.txt', 'neg/cv436_20564.txt', 'neg/cv437_24070.txt', 'neg/cv438_8500.txt', 'neg/cv439_17633.txt', 'neg/cv440_16891.txt', 'neg/cv441_15276.txt', 'neg/cv442_15499.txt', 'neg/cv443_22367.txt', 'neg/cv444_9975.txt', 'neg/cv445_26683.txt', 'neg/cv446_12209.txt', 'neg/cv447_27334.txt', 'neg/cv448_16409.txt', 'neg/cv449_9126.txt', 'neg/cv450_8319.txt', 'neg/cv451_11502.txt', 'neg/cv452_5179.txt', 'neg/cv453_10911.txt', 'neg/cv454_21961.txt', 'neg/cv455_28866.txt', 'neg/cv456_20370.txt', 'neg/cv457_19546.txt', 'neg/cv458_9000.txt', 'neg/cv459_21834.txt', 'neg/cv460_11723.txt', 'neg/cv461_21124.txt', 'neg/cv462_20788.txt', 'neg/cv463_10846.txt', 'neg/cv464_17076.txt', 'neg/cv465_23401.txt', 'neg/cv466_20092.txt', 'neg/cv467_26610.txt', 'neg/cv468_16844.txt', 'neg/cv469_21998.txt', 'neg/cv470_17444.txt', 'neg/cv471_18405.txt', 'neg/cv472_29140.txt', 'neg/cv473_7869.txt', 'neg/cv474_10682.txt', 'neg/cv475_22978.txt', 'neg/cv476_18402.txt', 'neg/cv477_23530.txt', 'neg/cv478_15921.txt', 'neg/cv479_5450.txt', 'neg/cv480_21195.txt', 'neg/cv481_7930.txt', 'neg/cv482_11233.txt', 'neg/cv483_18103.txt', 'neg/cv484_26169.txt', 'neg/cv485_26879.txt', 'neg/cv486_9788.txt', 'neg/cv487_11058.txt', 'neg/cv488_21453.txt', 'neg/cv489_19046.txt', 'neg/cv490_18986.txt', 'neg/cv491_12992.txt', 'neg/cv492_19370.txt', 'neg/cv493_14135.txt', 'neg/cv494_18689.txt', 'neg/cv495_16121.txt', 'neg/cv496_11185.txt', 'neg/cv497_27086.txt', 'neg/cv498_9288.txt', 'neg/cv499_11407.txt', 'neg/cv500_10722.txt', 'neg/cv501_12675.txt', 'neg/cv502_10970.txt', 'neg/cv503_11196.txt', 'neg/cv504_29120.txt', 'neg/cv505_12926.txt', 'neg/cv506_17521.txt', 'neg/cv507_9509.txt', 'neg/cv508_17742.txt', 'neg/cv509_17354.txt', 'neg/cv510_24758.txt', 'neg/cv511_10360.txt', 'neg/cv512_17618.txt', 'neg/cv513_7236.txt', 'neg/cv514_12173.txt', 'neg/cv515_18484.txt', 'neg/cv516_12117.txt', 'neg/cv517_20616.txt', 'neg/cv518_14798.txt', 'neg/cv519_16239.txt', 'neg/cv520_13297.txt', 'neg/cv521_1730.txt', 'neg/cv522_5418.txt', 'neg/cv523_18285.txt', 'neg/cv524_24885.txt', 'neg/cv525_17930.txt', 'neg/cv526_12868.txt', 'neg/cv527_10338.txt', 'neg/cv528_11669.txt', 'neg/cv529_10972.txt', 'neg/cv530_17949.txt', 'neg/cv531_26838.txt', 'neg/cv532_6495.txt', 'neg/cv533_9843.txt', 'neg/cv534_15683.txt', 'neg/cv535_21183.txt', 'neg/cv536_27221.txt', 'neg/cv537_13516.txt', 'neg/cv538_28485.txt', 'neg/cv539_21865.txt', 'neg/cv540_3092.txt', 'neg/cv541_28683.txt', 'neg/cv542_20359.txt', 'neg/cv543_5107.txt', 'neg/cv544_5301.txt', 'neg/cv545_12848.txt', 'neg/cv546_12723.txt', 'neg/cv547_18043.txt', 'neg/cv548_18944.txt', 'neg/cv549_22771.txt', 'neg/cv550_23226.txt', 'neg/cv551_11214.txt', 'neg/cv552_0150.txt', 'neg/cv553_26965.txt', 'neg/cv554_14678.txt', 'neg/cv555_25047.txt', 'neg/cv556_16563.txt', 'neg/cv557_12237.txt', 'neg/cv558_29376.txt', 'neg/cv559_0057.txt', 'neg/cv560_18608.txt', 'neg/cv561_9484.txt', 'neg/cv562_10847.txt', 'neg/cv563_18610.txt', 'neg/cv564_12011.txt', 'neg/cv565_29403.txt', 'neg/cv566_8967.txt', 'neg/cv567_29420.txt', 'neg/cv568_17065.txt', 'neg/cv569_26750.txt', 'neg/cv570_28960.txt', 'neg/cv571_29292.txt', 'neg/cv572_20053.txt', 'neg/cv573_29384.txt', 'neg/cv574_23191.txt', 'neg/cv575_22598.txt', 'neg/cv576_15688.txt', 'neg/cv577_28220.txt', 'neg/cv578_16825.txt', 'neg/cv579_12542.txt', 'neg/cv580_15681.txt', 'neg/cv581_20790.txt', 'neg/cv582_6678.txt', 'neg/cv583_29465.txt', 'neg/cv584_29549.txt', 'neg/cv585_23576.txt', 'neg/cv586_8048.txt', 'neg/cv587_20532.txt', 'neg/cv588_14467.txt', 'neg/cv589_12853.txt', 'neg/cv590_20712.txt', 'neg/cv591_24887.txt', 'neg/cv592_23391.txt', 'neg/cv593_11931.txt', 'neg/cv594_11945.txt', 'neg/cv595_26420.txt', 'neg/cv596_4367.txt', 'neg/cv597_26744.txt', 'neg/cv598_18184.txt', 'neg/cv599_22197.txt', 'neg/cv600_25043.txt', 'neg/cv601_24759.txt', 'neg/cv602_8830.txt', 'neg/cv603_18885.txt', 'neg/cv604_23339.txt', 'neg/cv605_12730.txt', 'neg/cv606_17672.txt', 'neg/cv607_8235.txt', 'neg/cv608_24647.txt', 'neg/cv609_25038.txt', 'neg/cv610_24153.txt', 'neg/cv611_2253.txt', 'neg/cv612_5396.txt', 'neg/cv613_23104.txt', 'neg/cv614_11320.txt', 'neg/cv615_15734.txt', 'neg/cv616_29187.txt', 'neg/cv617_9561.txt', 'neg/cv618_9469.txt', 'neg/cv619_13677.txt', 'neg/cv620_2556.txt', 'neg/cv621_15984.txt', 'neg/cv622_8583.txt', 'neg/cv623_16988.txt', 'neg/cv624_11601.txt', 'neg/cv625_13518.txt', 'neg/cv626_7907.txt', 'neg/cv627_12603.txt', 'neg/cv628_20758.txt', 'neg/cv629_16604.txt', 'neg/cv630_10152.txt', 'neg/cv631_4782.txt', 'neg/cv632_9704.txt', 'neg/cv633_29730.txt', 'neg/cv634_11989.txt', 'neg/cv635_0984.txt', 'neg/cv636_16954.txt', 'neg/cv637_13682.txt', 'neg/cv638_29394.txt', 'neg/cv639_10797.txt', 'neg/cv640_5380.txt', 'neg/cv641_13412.txt', 'neg/cv642_29788.txt', 'neg/cv643_29282.txt', 'neg/cv644_18551.txt', 'neg/cv645_17078.txt', 'neg/cv646_16817.txt', 'neg/cv647_15275.txt', 'neg/cv648_17277.txt', 'neg/cv649_13947.txt', 'neg/cv650_15974.txt', 'neg/cv651_11120.txt', 'neg/cv652_15653.txt', 'neg/cv653_2107.txt', 'neg/cv654_19345.txt', 'neg/cv655_12055.txt', 'neg/cv656_25395.txt', 'neg/cv657_25835.txt', 'neg/cv658_11186.txt', 'neg/cv659_21483.txt', 'neg/cv660_23140.txt', 'neg/cv661_25780.txt', 'neg/cv662_14791.txt', 'neg/cv663_14484.txt', 'neg/cv664_4264.txt', 'neg/cv665_29386.txt', 'neg/cv666_20301.txt', 'neg/cv667_19672.txt', 'neg/cv668_18848.txt', 'neg/cv669_24318.txt', 'neg/cv670_2666.txt', 'neg/cv671_5164.txt', 'neg/cv672_27988.txt', 'neg/cv673_25874.txt', 'neg/cv674_11593.txt', 'neg/cv675_22871.txt', 'neg/cv676_22202.txt', 'neg/cv677_18938.txt', 'neg/cv678_14887.txt', 'neg/cv679_28221.txt', 'neg/cv680_10533.txt', 'neg/cv681_9744.txt', 'neg/cv682_17947.txt', 'neg/cv683_13047.txt', 'neg/cv684_12727.txt', 'neg/cv685_5710.txt', 'neg/cv686_15553.txt', 'neg/cv687_22207.txt', 'neg/cv688_7884.txt', 'neg/cv689_13701.txt', 'neg/cv690_5425.txt', 'neg/cv691_5090.txt', 'neg/cv692_17026.txt', 'neg/cv693_19147.txt', 'neg/cv694_4526.txt', 'neg/cv695_22268.txt', 'neg/cv696_29619.txt', 'neg/cv697_12106.txt', 'neg/cv698_16930.txt', 'neg/cv699_7773.txt', 'neg/cv700_23163.txt', 'neg/cv701_15880.txt', 'neg/cv702_12371.txt', 'neg/cv703_17948.txt', 'neg/cv704_17622.txt', 'neg/cv705_11973.txt', 'neg/cv706_25883.txt', 'neg/cv707_11421.txt', 'neg/cv708_28539.txt', 'neg/cv709_11173.txt', 'neg/cv710_23745.txt', 'neg/cv711_12687.txt', 'neg/cv712_24217.txt', 'neg/cv713_29002.txt', 'neg/cv714_19704.txt', 'neg/cv715_19246.txt', 'neg/cv716_11153.txt', 'neg/cv717_17472.txt', 'neg/cv718_12227.txt', 'neg/cv719_5581.txt', 'neg/cv720_5383.txt', 'neg/cv721_28993.txt', 'neg/cv722_7571.txt', 'neg/cv723_9002.txt', 'neg/cv724_15265.txt', 'neg/cv725_10266.txt', 'neg/cv726_4365.txt', 'neg/cv727_5006.txt', 'neg/cv728_17931.txt', 'neg/cv729_10475.txt', 'neg/cv730_10729.txt', 'neg/cv731_3968.txt', 'neg/cv732_13092.txt', 'neg/cv733_9891.txt', 'neg/cv734_22821.txt', 'neg/cv735_20218.txt', 'neg/cv736_24947.txt', 'neg/cv737_28733.txt', 'neg/cv738_10287.txt', 'neg/cv739_12179.txt', 'neg/cv740_13643.txt', 'neg/cv741_12765.txt', 'neg/cv742_8279.txt', 'neg/cv743_17023.txt', 'neg/cv744_10091.txt', 'neg/cv745_14009.txt', 'neg/cv746_10471.txt', 'neg/cv747_18189.txt', 'neg/cv748_14044.txt', 'neg/cv749_18960.txt', 'neg/cv750_10606.txt', 'neg/cv751_17208.txt', 'neg/cv752_25330.txt', 'neg/cv753_11812.txt', 'neg/cv754_7709.txt', 'neg/cv755_24881.txt', 'neg/cv756_23676.txt', 'neg/cv757_10668.txt', 'neg/cv758_9740.txt', 'neg/cv759_15091.txt', 'neg/cv760_8977.txt', 'neg/cv761_13769.txt', 'neg/cv762_15604.txt', 'neg/cv763_16486.txt', 'neg/cv764_12701.txt', 'neg/cv765_20429.txt', 'neg/cv766_7983.txt', 'neg/cv767_15673.txt', 'neg/cv768_12709.txt', 'neg/cv769_8565.txt', 'neg/cv770_11061.txt', 'neg/cv771_28466.txt', 'neg/cv772_12971.txt', 'neg/cv773_20264.txt', 'neg/cv774_15488.txt', 'neg/cv775_17966.txt', 'neg/cv776_21934.txt', 'neg/cv777_10247.txt', 'neg/cv778_18629.txt', 'neg/cv779_18989.txt', 'neg/cv780_8467.txt', 'neg/cv781_5358.txt', 'neg/cv782_21078.txt', 'neg/cv783_14724.txt', 'neg/cv784_16077.txt', 'neg/cv785_23748.txt', 'neg/cv786_23608.txt', 'neg/cv787_15277.txt', 'neg/cv788_26409.txt', 'neg/cv789_12991.txt', 'neg/cv790_16202.txt', 'neg/cv791_17995.txt', 'neg/cv792_3257.txt', 'neg/cv793_15235.txt', 'neg/cv794_17353.txt', 'neg/cv795_10291.txt', 'neg/cv796_17243.txt', 'neg/cv797_7245.txt', 'neg/cv798_24779.txt', 'neg/cv799_19812.txt', 'neg/cv800_13494.txt', 'neg/cv801_26335.txt', 'neg/cv802_28381.txt', 'neg/cv803_8584.txt', 'neg/cv804_11763.txt', 'neg/cv805_21128.txt', 'neg/cv806_9405.txt', 'neg/cv807_23024.txt', 'neg/cv808_13773.txt', 'neg/cv809_5012.txt', 'neg/cv810_13660.txt', 'neg/cv811_22646.txt', 'neg/cv812_19051.txt', 'neg/cv813_6649.txt', 'neg/cv814_20316.txt', 'neg/cv815_23466.txt', 'neg/cv816_15257.txt', 'neg/cv817_3675.txt', 'neg/cv818_10698.txt', 'neg/cv819_9567.txt', 'neg/cv820_24157.txt', 'neg/cv821_29283.txt', 'neg/cv822_21545.txt', 'neg/cv823_17055.txt', 'neg/cv824_9335.txt', 'neg/cv825_5168.txt', 'neg/cv826_12761.txt', 'neg/cv827_19479.txt', 'neg/cv828_21392.txt', 'neg/cv829_21725.txt', 'neg/cv830_5778.txt', 'neg/cv831_16325.txt', 'neg/cv832_24713.txt', 'neg/cv833_11961.txt', 'neg/cv834_23192.txt', 'neg/cv835_20531.txt', 'neg/cv836_14311.txt', 'neg/cv837_27232.txt', 'neg/cv838_25886.txt', 'neg/cv839_22807.txt', 'neg/cv840_18033.txt', 'neg/cv841_3367.txt', 'neg/cv842_5702.txt', 'neg/cv843_17054.txt', 'neg/cv844_13890.txt', 'neg/cv845_15886.txt', 'neg/cv846_29359.txt', 'neg/cv847_20855.txt', 'neg/cv848_10061.txt', 'neg/cv849_17215.txt', 'neg/cv850_18185.txt', 'neg/cv851_21895.txt', 'neg/cv852_27512.txt', 'neg/cv853_29119.txt', 'neg/cv854_18955.txt', 'neg/cv855_22134.txt', 'neg/cv856_28882.txt', 'neg/cv857_17527.txt', 'neg/cv858_20266.txt', 'neg/cv859_15689.txt', 'neg/cv860_15520.txt', 'neg/cv861_12809.txt', 'neg/cv862_15924.txt', 'neg/cv863_7912.txt', 'neg/cv864_3087.txt', 'neg/cv865_28796.txt', 'neg/cv866_29447.txt', 'neg/cv867_18362.txt', 'neg/cv868_12799.txt', 'neg/cv869_24782.txt', 'neg/cv870_18090.txt', 'neg/cv871_25971.txt', 'neg/cv872_13710.txt', 'neg/cv873_19937.txt', 'neg/cv874_12182.txt', 'neg/cv875_5622.txt', 'neg/cv876_9633.txt', 'neg/cv877_29132.txt', 'neg/cv878_17204.txt', 'neg/cv879_16585.txt', 'neg/cv880_29629.txt', 'neg/cv881_14767.txt', 'neg/cv882_10042.txt', 'neg/cv883_27621.txt', 'neg/cv884_15230.txt', 'neg/cv885_13390.txt', 'neg/cv886_19210.txt', 'neg/cv887_5306.txt', 'neg/cv888_25678.txt', 'neg/cv889_22670.txt', 'neg/cv890_3515.txt', 'neg/cv891_6035.txt', 'neg/cv892_18788.txt', 'neg/cv893_26731.txt', 'neg/cv894_22140.txt', 'neg/cv895_22200.txt', 'neg/cv896_17819.txt', 'neg/cv897_11703.txt', 'neg/cv898_1576.txt', 'neg/cv899_17812.txt', 'neg/cv900_10800.txt', 'neg/cv901_11934.txt', 'neg/cv902_13217.txt', 'neg/cv903_18981.txt', 'neg/cv904_25663.txt', 'neg/cv905_28965.txt', 'neg/cv906_12332.txt', 'neg/cv907_3193.txt', 'neg/cv908_17779.txt', 'neg/cv909_9973.txt', 'neg/cv910_21930.txt', 'neg/cv911_21695.txt', 'neg/cv912_5562.txt', 'neg/cv913_29127.txt', 'neg/cv914_2856.txt', 'neg/cv915_9342.txt', 'neg/cv916_17034.txt', 'neg/cv917_29484.txt', 'neg/cv918_27080.txt', 'neg/cv919_18155.txt', 'neg/cv920_29423.txt', 'neg/cv921_13988.txt', 'neg/cv922_10185.txt', 'neg/cv923_11951.txt', 'neg/cv924_29397.txt', 'neg/cv925_9459.txt', 'neg/cv926_18471.txt', 'neg/cv927_11471.txt', 'neg/cv928_9478.txt', 'neg/cv929_1841.txt', 'neg/cv930_14949.txt', 'neg/cv931_18783.txt', 'neg/cv932_14854.txt', 'neg/cv933_24953.txt', 'neg/cv934_20426.txt', 'neg/cv935_24977.txt', 'neg/cv936_17473.txt', 'neg/cv937_9816.txt', 'neg/cv938_10706.txt', 'neg/cv939_11247.txt', 'neg/cv940_18935.txt', 'neg/cv941_10718.txt', 'neg/cv942_18509.txt', 'neg/cv943_23547.txt', 'neg/cv944_15042.txt', 'neg/cv945_13012.txt', 'neg/cv946_20084.txt', 'neg/cv947_11316.txt', 'neg/cv948_25870.txt', 'neg/cv949_21565.txt', 'neg/cv950_13478.txt', 'neg/cv951_11816.txt', 'neg/cv952_26375.txt', 'neg/cv953_7078.txt', 'neg/cv954_19932.txt', 'neg/cv955_26154.txt', 'neg/cv956_12547.txt', 'neg/cv957_9059.txt', 'neg/cv958_13020.txt', 'neg/cv959_16218.txt', 'neg/cv960_28877.txt', 'neg/cv961_5578.txt', 'neg/cv962_9813.txt', 'neg/cv963_7208.txt', 'neg/cv964_5794.txt', 'neg/cv965_26688.txt', 'neg/cv966_28671.txt', 'neg/cv967_5626.txt', 'neg/cv968_25413.txt', 'neg/cv969_14760.txt', 'neg/cv970_19532.txt', 'neg/cv971_11790.txt', 'neg/cv972_26837.txt', 'neg/cv973_10171.txt', 'neg/cv974_24303.txt', 'neg/cv975_11920.txt', 'neg/cv976_10724.txt', 'neg/cv977_4776.txt', 'neg/cv978_22192.txt', 'neg/cv979_2029.txt', 'neg/cv980_11851.txt', 'neg/cv981_16679.txt', 'neg/cv982_22209.txt', 'neg/cv983_24219.txt', 'neg/cv984_14006.txt', 'neg/cv985_5964.txt', 'neg/cv986_15092.txt', 'neg/cv987_7394.txt', 'neg/cv988_20168.txt', 'neg/cv989_17297.txt', 'neg/cv990_12443.txt', 'neg/cv991_19973.txt', 'neg/cv992_12806.txt', 'neg/cv993_29565.txt', 'neg/cv994_13229.txt', 'neg/cv995_23113.txt', 'neg/cv996_12447.txt', 'neg/cv997_5152.txt', 'neg/cv998_15691.txt', 'neg/cv999_14636.txt', 'pos/cv000_29590.txt', 'pos/cv001_18431.txt', 'pos/cv002_15918.txt', 'pos/cv003_11664.txt', 'pos/cv004_11636.txt', 'pos/cv005_29443.txt', 'pos/cv006_15448.txt', 'pos/cv007_4968.txt', 'pos/cv008_29435.txt', 'pos/cv009_29592.txt', 'pos/cv010_29198.txt', 'pos/cv011_12166.txt', 'pos/cv012_29576.txt', 'pos/cv013_10159.txt', 'pos/cv014_13924.txt', 'pos/cv015_29439.txt', 'pos/cv016_4659.txt', 'pos/cv017_22464.txt', 'pos/cv018_20137.txt', 'pos/cv019_14482.txt', 'pos/cv020_8825.txt', 'pos/cv021_15838.txt', 'pos/cv022_12864.txt', 'pos/cv023_12672.txt', 'pos/cv024_6778.txt', 'pos/cv025_3108.txt', 'pos/cv026_29325.txt', 'pos/cv027_25219.txt', 'pos/cv028_26746.txt', 'pos/cv029_18643.txt', 'pos/cv030_21593.txt', 'pos/cv031_18452.txt', 'pos/cv032_22550.txt', 'pos/cv033_24444.txt', 'pos/cv034_29647.txt', 'pos/cv035_3954.txt', 'pos/cv036_16831.txt', 'pos/cv037_18510.txt', 'pos/cv038_9749.txt', 'pos/cv039_6170.txt', 'pos/cv040_8276.txt', 'pos/cv041_21113.txt', 'pos/cv042_10982.txt', 'pos/cv043_15013.txt', 'pos/cv044_16969.txt', 'pos/cv045_23923.txt', 'pos/cv046_10188.txt', 'pos/cv047_1754.txt', 'pos/cv048_16828.txt', 'pos/cv049_20471.txt', 'pos/cv050_11175.txt', 'pos/cv051_10306.txt', 'pos/cv052_29378.txt', 'pos/cv053_21822.txt', 'pos/cv054_4230.txt', 'pos/cv055_8338.txt', 'pos/cv056_13133.txt', 'pos/cv057_7453.txt', 'pos/cv058_8025.txt', 'pos/cv059_28885.txt', 'pos/cv060_10844.txt', 'pos/cv061_8837.txt', 'pos/cv062_23115.txt', 'pos/cv063_28997.txt', 'pos/cv064_24576.txt', 'pos/cv065_15248.txt', 'pos/cv066_10821.txt', 'pos/cv067_19774.txt', 'pos/cv068_13400.txt', 'pos/cv069_10801.txt', 'pos/cv070_12289.txt', 'pos/cv071_12095.txt', 'pos/cv072_6169.txt', 'pos/cv073_21785.txt', 'pos/cv074_6875.txt', 'pos/cv075_6500.txt', 'pos/cv076_24945.txt', 'pos/cv077_22138.txt', 'pos/cv078_14730.txt', 'pos/cv079_11933.txt', 'pos/cv080_13465.txt', 'pos/cv081_16582.txt', 'pos/cv082_11080.txt', 'pos/cv083_24234.txt', 'pos/cv084_13566.txt', 'pos/cv085_1381.txt', 'pos/cv086_18371.txt', 'pos/cv087_1989.txt', 'pos/cv088_24113.txt', 'pos/cv089_11418.txt', 'pos/cv090_0042.txt', 'pos/cv091_7400.txt', 'pos/cv092_28017.txt', 'pos/cv093_13951.txt', 'pos/cv094_27889.txt', 'pos/cv095_28892.txt', 'pos/cv096_11474.txt', 'pos/cv097_24970.txt', 'pos/cv098_15435.txt', 'pos/cv099_10534.txt', 'pos/cv100_11528.txt', 'pos/cv101_10175.txt', 'pos/cv102_7846.txt', 'pos/cv103_11021.txt', 'pos/cv104_18134.txt', 'pos/cv105_17990.txt', 'pos/cv106_16807.txt', 'pos/cv107_24319.txt', 'pos/cv108_15571.txt', 'pos/cv109_21172.txt', 'pos/cv110_27788.txt', 'pos/cv111_11473.txt', 'pos/cv112_11193.txt', 'pos/cv113_23102.txt', 'pos/cv114_18398.txt', 'pos/cv115_25396.txt', 'pos/cv116_28942.txt', 'pos/cv117_24295.txt', 'pos/cv118_28980.txt', 'pos/cv119_9867.txt', 'pos/cv120_4111.txt', 'pos/cv121_17302.txt', 'pos/cv122_7392.txt', 'pos/cv123_11182.txt', 'pos/cv124_4122.txt', 'pos/cv125_9391.txt', 'pos/cv126_28971.txt', 'pos/cv127_14711.txt', 'pos/cv128_29627.txt', 'pos/cv129_16741.txt', 'pos/cv130_17083.txt', 'pos/cv131_10713.txt', 'pos/cv132_5618.txt', 'pos/cv133_16336.txt', 'pos/cv134_22246.txt', 'pos/cv135_11603.txt', 'pos/cv136_11505.txt', 'pos/cv137_15422.txt', 'pos/cv138_12721.txt', 'pos/cv139_12873.txt', 'pos/cv140_7479.txt', 'pos/cv141_15686.txt', 'pos/cv142_22516.txt', 'pos/cv143_19666.txt', 'pos/cv144_5007.txt', 'pos/cv145_11472.txt', 'pos/cv146_18458.txt', 'pos/cv147_21193.txt', 'pos/cv148_16345.txt', 'pos/cv149_15670.txt', 'pos/cv150_12916.txt', 'pos/cv151_15771.txt', 'pos/cv152_8736.txt', 'pos/cv153_10779.txt', 'pos/cv154_9328.txt', 'pos/cv155_7308.txt', 'pos/cv156_10481.txt', 'pos/cv157_29372.txt', 'pos/cv158_10390.txt', 'pos/cv159_29505.txt', 'pos/cv160_10362.txt', 'pos/cv161_11425.txt', 'pos/cv162_10424.txt', 'pos/cv163_10052.txt', 'pos/cv164_22447.txt', 'pos/cv165_22619.txt', 'pos/cv166_11052.txt', 'pos/cv167_16376.txt', 'pos/cv168_7050.txt', 'pos/cv169_23778.txt', 'pos/cv170_3006.txt', 'pos/cv171_13537.txt', 'pos/cv172_11131.txt', 'pos/cv173_4471.txt', 'pos/cv174_9659.txt', 'pos/cv175_6964.txt', 'pos/cv176_12857.txt', 'pos/cv177_10367.txt', 'pos/cv178_12972.txt', 'pos/cv179_9228.txt', 'pos/cv180_16113.txt', 'pos/cv181_14401.txt', 'pos/cv182_7281.txt', 'pos/cv183_18612.txt', 'pos/cv184_2673.txt', 'pos/cv185_28654.txt', 'pos/cv186_2269.txt', 'pos/cv187_12829.txt', 'pos/cv188_19226.txt', 'pos/cv189_22934.txt', 'pos/cv190_27052.txt', 'pos/cv191_29719.txt', 'pos/cv192_14395.txt', 'pos/cv193_5416.txt', 'pos/cv194_12079.txt', 'pos/cv195_14528.txt', 'pos/cv196_29027.txt', 'pos/cv197_29328.txt', 'pos/cv198_18180.txt', 'pos/cv199_9629.txt', 'pos/cv200_2915.txt', 'pos/cv201_6997.txt', 'pos/cv202_10654.txt', 'pos/cv203_17986.txt', 'pos/cv204_8451.txt', 'pos/cv205_9457.txt', 'pos/cv206_14293.txt', 'pos/cv207_29284.txt', 'pos/cv208_9020.txt', 'pos/cv209_29118.txt', 'pos/cv210_9312.txt', 'pos/cv211_9953.txt', 'pos/cv212_10027.txt', 'pos/cv213_18934.txt', 'pos/cv214_12294.txt', 'pos/cv215_22240.txt', 'pos/cv216_18738.txt', 'pos/cv217_28842.txt', 'pos/cv218_24352.txt', 'pos/cv219_18626.txt', 'pos/cv220_29059.txt', 'pos/cv221_2695.txt', 'pos/cv222_17395.txt', 'pos/cv223_29066.txt', 'pos/cv224_17661.txt', 'pos/cv225_29224.txt', 'pos/cv226_2618.txt', 'pos/cv227_24215.txt', 'pos/cv228_5806.txt', 'pos/cv229_13611.txt', 'pos/cv230_7428.txt', 'pos/cv231_10425.txt', 'pos/cv232_14991.txt', 'pos/cv233_15964.txt', 'pos/cv234_20643.txt', 'pos/cv235_10217.txt', 'pos/cv236_11565.txt', 'pos/cv237_19221.txt', 'pos/cv238_12931.txt', 'pos/cv239_3385.txt', 'pos/cv240_14336.txt', 'pos/cv241_23130.txt', 'pos/cv242_10638.txt', 'pos/cv243_20728.txt', 'pos/cv244_21649.txt', 'pos/cv245_8569.txt', 'pos/cv246_28807.txt', 'pos/cv247_13142.txt', 'pos/cv248_13987.txt', 'pos/cv249_11640.txt', 'pos/cv250_25616.txt', 'pos/cv251_22636.txt', 'pos/cv252_23779.txt', 'pos/cv253_10077.txt', 'pos/cv254_6027.txt', 'pos/cv255_13683.txt', 'pos/cv256_14740.txt', 'pos/cv257_10975.txt', 'pos/cv258_5792.txt', 'pos/cv259_10934.txt', 'pos/cv260_13959.txt', 'pos/cv261_10954.txt', 'pos/cv262_12649.txt', 'pos/cv263_19259.txt', 'pos/cv264_12801.txt', 'pos/cv265_10814.txt', 'pos/cv266_25779.txt', 'pos/cv267_14952.txt', 'pos/cv268_18834.txt', 'pos/cv269_21732.txt', 'pos/cv270_6079.txt', 'pos/cv271_13837.txt', 'pos/cv272_18974.txt', 'pos/cv273_29112.txt', 'pos/cv274_25253.txt', 'pos/cv275_28887.txt', 'pos/cv276_15684.txt', 'pos/cv277_19091.txt', 'pos/cv278_13041.txt', 'pos/cv279_18329.txt', 'pos/cv280_8267.txt', 'pos/cv281_23253.txt', 'pos/cv282_6653.txt', 'pos/cv283_11055.txt', 'pos/cv284_19119.txt', 'pos/cv285_16494.txt', 'pos/cv286_25050.txt', 'pos/cv287_15900.txt', 'pos/cv288_18791.txt', 'pos/cv289_6463.txt', 'pos/cv290_11084.txt', 'pos/cv291_26635.txt', 'pos/cv292_7282.txt', 'pos/cv293_29856.txt', 'pos/cv294_11684.txt', 'pos/cv295_15570.txt', 'pos/cv296_12251.txt', 'pos/cv297_10047.txt', 'pos/cv298_23111.txt', 'pos/cv299_16214.txt', 'pos/cv300_22284.txt', 'pos/cv301_12146.txt', 'pos/cv302_25649.txt', 'pos/cv303_27520.txt', 'pos/cv304_28706.txt', 'pos/cv305_9946.txt', 'pos/cv306_10364.txt', 'pos/cv307_25270.txt', 'pos/cv308_5016.txt', 'pos/cv309_22571.txt', 'pos/cv310_13091.txt', 'pos/cv311_16002.txt', 'pos/cv312_29377.txt', 'pos/cv313_18198.txt', 'pos/cv314_14422.txt', 'pos/cv315_11629.txt', 'pos/cv316_6370.txt', 'pos/cv317_24049.txt', 'pos/cv318_10493.txt', 'pos/cv319_14727.txt', 'pos/cv320_9530.txt', 'pos/cv321_12843.txt', 'pos/cv322_20318.txt', 'pos/cv323_29805.txt', 'pos/cv324_7082.txt', 'pos/cv325_16629.txt', 'pos/cv326_13295.txt', 'pos/cv327_20292.txt', 'pos/cv328_10373.txt', 'pos/cv329_29370.txt', 'pos/cv330_29809.txt', 'pos/cv331_8273.txt', 'pos/cv332_16307.txt', 'pos/cv333_8916.txt', 'pos/cv334_10001.txt', 'pos/cv335_14665.txt', 'pos/cv336_10143.txt', 'pos/cv337_29181.txt', 'pos/cv338_8821.txt', 'pos/cv339_21119.txt', 'pos/cv340_13287.txt', 'pos/cv341_24430.txt', 'pos/cv342_19456.txt', 'pos/cv343_10368.txt', 'pos/cv344_5312.txt', 'pos/cv345_9954.txt', 'pos/cv346_18168.txt', 'pos/cv347_13194.txt', 'pos/cv348_18176.txt', 'pos/cv349_13507.txt', 'pos/cv350_20670.txt', 'pos/cv351_15458.txt', 'pos/cv352_5524.txt', 'pos/cv353_18159.txt', 'pos/cv354_8132.txt', 'pos/cv355_16413.txt', 'pos/cv356_25163.txt', 'pos/cv357_13156.txt', 'pos/cv358_10691.txt', 'pos/cv359_6647.txt', 'pos/cv360_8398.txt', 'pos/cv361_28944.txt', 'pos/cv362_15341.txt', 'pos/cv363_29332.txt', 'pos/cv364_12901.txt', 'pos/cv365_11576.txt', 'pos/cv366_10221.txt', 'pos/cv367_22792.txt', 'pos/cv368_10466.txt', 'pos/cv369_12886.txt', 'pos/cv370_5221.txt', 'pos/cv371_7630.txt', 'pos/cv372_6552.txt', 'pos/cv373_20404.txt', 'pos/cv374_25436.txt', 'pos/cv375_9929.txt', 'pos/cv376_19435.txt', 'pos/cv377_7946.txt', 'pos/cv378_20629.txt', 'pos/cv379_21963.txt', 'pos/cv380_7574.txt', 'pos/cv381_20172.txt', 'pos/cv382_7897.txt', 'pos/cv383_13116.txt', 'pos/cv384_17140.txt', 'pos/cv385_29741.txt', 'pos/cv386_10080.txt', 'pos/cv387_11507.txt', 'pos/cv388_12009.txt', 'pos/cv389_9369.txt', 'pos/cv390_11345.txt', 'pos/cv391_10802.txt', 'pos/cv392_11458.txt', 'pos/cv393_29327.txt', 'pos/cv394_5137.txt', 'pos/cv395_10849.txt', 'pos/cv396_17989.txt', 'pos/cv397_29023.txt', 'pos/cv398_15537.txt', 'pos/cv399_2877.txt', 'pos/cv400_19220.txt', 'pos/cv401_12605.txt', 'pos/cv402_14425.txt', 'pos/cv403_6621.txt', 'pos/cv404_20315.txt', 'pos/cv405_20399.txt', 'pos/cv406_21020.txt', 'pos/cv407_22637.txt', 'pos/cv408_5297.txt', 'pos/cv409_29786.txt', 'pos/cv410_24266.txt', 'pos/cv411_15007.txt', 'pos/cv412_24095.txt', 'pos/cv413_7398.txt', 'pos/cv414_10518.txt', 'pos/cv415_22517.txt', 'pos/cv416_11136.txt', 'pos/cv417_13115.txt', 'pos/cv418_14774.txt', 'pos/cv419_13394.txt', 'pos/cv420_28795.txt', 'pos/cv421_9709.txt', 'pos/cv422_9381.txt', 'pos/cv423_11155.txt', 'pos/cv424_8831.txt', 'pos/cv425_8250.txt', 'pos/cv426_10421.txt', 'pos/cv427_10825.txt', 'pos/cv428_11347.txt', 'pos/cv429_7439.txt', 'pos/cv430_17351.txt', 'pos/cv431_7085.txt', 'pos/cv432_14224.txt', 'pos/cv433_10144.txt', 'pos/cv434_5793.txt', 'pos/cv435_23110.txt', 'pos/cv436_19179.txt', 'pos/cv437_22849.txt', 'pos/cv438_8043.txt', 'pos/cv439_15970.txt', 'pos/cv440_15243.txt', 'pos/cv441_13711.txt', 'pos/cv442_13846.txt', 'pos/cv443_21118.txt', 'pos/cv444_9974.txt', 'pos/cv445_25882.txt', 'pos/cv446_11353.txt', 'pos/cv447_27332.txt', 'pos/cv448_14695.txt', 'pos/cv449_8785.txt', 'pos/cv450_7890.txt', 'pos/cv451_10690.txt', 'pos/cv452_5088.txt', 'pos/cv453_10379.txt', 'pos/cv454_2053.txt', 'pos/cv455_29000.txt', 'pos/cv456_18985.txt', 'pos/cv457_18453.txt', 'pos/cv458_8604.txt', 'pos/cv459_20319.txt', 'pos/cv460_10842.txt', 'pos/cv461_19600.txt', 'pos/cv462_19350.txt', 'pos/cv463_10343.txt', 'pos/cv464_15650.txt', 'pos/cv465_22431.txt', 'pos/cv466_18722.txt', 'pos/cv467_25773.txt', 'pos/cv468_15228.txt', 'pos/cv469_20630.txt', 'pos/cv470_15952.txt', 'pos/cv471_16858.txt', 'pos/cv472_29280.txt', 'pos/cv473_7367.txt', 'pos/cv474_10209.txt', 'pos/cv475_21692.txt', 'pos/cv476_16856.txt', 'pos/cv477_22479.txt', 'pos/cv478_14309.txt', 'pos/cv479_5649.txt', 'pos/cv480_19817.txt', 'pos/cv481_7436.txt', 'pos/cv482_10580.txt', 'pos/cv483_16378.txt', 'pos/cv484_25054.txt', 'pos/cv485_26649.txt', 'pos/cv486_9799.txt', 'pos/cv487_10446.txt', 'pos/cv488_19856.txt', 'pos/cv489_17906.txt', 'pos/cv490_17872.txt', 'pos/cv491_12145.txt', 'pos/cv492_18271.txt', 'pos/cv493_12839.txt', 'pos/cv494_17389.txt', 'pos/cv495_14518.txt', 'pos/cv496_10530.txt', 'pos/cv497_26980.txt', 'pos/cv498_8832.txt', 'pos/cv499_10658.txt', 'pos/cv500_10251.txt', 'pos/cv501_11657.txt', 'pos/cv502_10406.txt', 'pos/cv503_10558.txt', 'pos/cv504_29243.txt', 'pos/cv505_12090.txt', 'pos/cv506_15956.txt', 'pos/cv507_9220.txt', 'pos/cv508_16006.txt', 'pos/cv509_15888.txt', 'pos/cv510_23360.txt', 'pos/cv511_10132.txt', 'pos/cv512_15965.txt', 'pos/cv513_6923.txt', 'pos/cv514_11187.txt', 'pos/cv515_17069.txt', 'pos/cv516_11172.txt', 'pos/cv517_19219.txt', 'pos/cv518_13331.txt', 'pos/cv519_14661.txt', 'pos/cv520_12295.txt', 'pos/cv521_15828.txt', 'pos/cv522_5583.txt', 'pos/cv523_16615.txt', 'pos/cv524_23627.txt', 'pos/cv525_16122.txt', 'pos/cv526_12083.txt', 'pos/cv527_10123.txt', 'pos/cv528_10822.txt', 'pos/cv529_10420.txt', 'pos/cv530_16212.txt', 'pos/cv531_26486.txt', 'pos/cv532_6522.txt', 'pos/cv533_9821.txt', 'pos/cv534_14083.txt', 'pos/cv535_19728.txt', 'pos/cv536_27134.txt', 'pos/cv537_12370.txt', 'pos/cv538_28667.txt', 'pos/cv539_20347.txt', 'pos/cv540_3421.txt', 'pos/cv541_28835.txt', 'pos/cv542_18980.txt', 'pos/cv543_5045.txt', 'pos/cv544_5108.txt', 'pos/cv545_12014.txt', 'pos/cv546_11767.txt', 'pos/cv547_16324.txt', 'pos/cv548_17731.txt', 'pos/cv549_21443.txt', 'pos/cv550_22211.txt', 'pos/cv551_10565.txt', 'pos/cv552_10016.txt', 'pos/cv553_26915.txt', 'pos/cv554_13151.txt', 'pos/cv555_23922.txt', 'pos/cv556_14808.txt', 'pos/cv557_11449.txt', 'pos/cv558_29507.txt', 'pos/cv559_0050.txt', 'pos/cv560_17175.txt', 'pos/cv561_9201.txt', 'pos/cv562_10359.txt', 'pos/cv563_17257.txt', 'pos/cv564_11110.txt', 'pos/cv565_29572.txt', 'pos/cv566_8581.txt', 'pos/cv567_29611.txt', 'pos/cv568_15638.txt', 'pos/cv569_26381.txt', 'pos/cv570_29082.txt', 'pos/cv571_29366.txt', 'pos/cv572_18657.txt', 'pos/cv573_29525.txt', 'pos/cv574_22156.txt', 'pos/cv575_21150.txt', 'pos/cv576_14094.txt', 'pos/cv577_28549.txt', 'pos/cv578_15094.txt', 'pos/cv579_11605.txt', 'pos/cv580_14064.txt', 'pos/cv581_19381.txt', 'pos/cv582_6559.txt', 'pos/cv583_29692.txt', 'pos/cv584_29722.txt', 'pos/cv585_22496.txt', 'pos/cv586_7543.txt', 'pos/cv587_19162.txt', 'pos/cv588_13008.txt', 'pos/cv589_12064.txt', 'pos/cv590_19290.txt', 'pos/cv591_23640.txt', 'pos/cv592_22315.txt', 'pos/cv593_10987.txt', 'pos/cv594_11039.txt', 'pos/cv595_25335.txt', 'pos/cv596_28311.txt', 'pos/cv597_26360.txt', 'pos/cv598_16452.txt', 'pos/cv599_20988.txt', 'pos/cv600_23878.txt', 'pos/cv601_23453.txt', 'pos/cv602_8300.txt', 'pos/cv603_17694.txt', 'pos/cv604_2230.txt', 'pos/cv605_11800.txt', 'pos/cv606_15985.txt', 'pos/cv607_7717.txt', 'pos/cv608_23231.txt', 'pos/cv609_23877.txt', 'pos/cv610_2287.txt', 'pos/cv611_21120.txt', 'pos/cv612_5461.txt', 'pos/cv613_21796.txt', 'pos/cv614_10626.txt', 'pos/cv615_14182.txt', 'pos/cv616_29319.txt', 'pos/cv617_9322.txt', 'pos/cv618_8974.txt', 'pos/cv619_12462.txt', 'pos/cv620_24265.txt', 'pos/cv621_14368.txt', 'pos/cv622_8147.txt', 'pos/cv623_15356.txt', 'pos/cv624_10744.txt', 'pos/cv625_12440.txt', 'pos/cv626_7410.txt', 'pos/cv627_11620.txt', 'pos/cv628_19325.txt', 'pos/cv629_14909.txt', 'pos/cv630_10057.txt', 'pos/cv631_4967.txt', 'pos/cv632_9610.txt', 'pos/cv633_29837.txt', 'pos/cv634_11101.txt', 'pos/cv635_10022.txt', 'pos/cv636_15279.txt', 'pos/cv637_1250.txt', 'pos/cv638_2953.txt', 'pos/cv639_10308.txt', 'pos/cv640_5378.txt', 'pos/cv641_12349.txt', 'pos/cv642_29867.txt', 'pos/cv643_29349.txt', 'pos/cv644_17154.txt', 'pos/cv645_15668.txt', 'pos/cv646_15065.txt', 'pos/cv647_13691.txt', 'pos/cv648_15792.txt', 'pos/cv649_12735.txt', 'pos/cv650_14340.txt', 'pos/cv651_10492.txt', 'pos/cv652_13972.txt', 'pos/cv653_19583.txt', 'pos/cv654_18246.txt', 'pos/cv655_11154.txt', 'pos/cv656_24201.txt', 'pos/cv657_24513.txt', 'pos/cv658_10532.txt', 'pos/cv659_19944.txt', 'pos/cv660_21893.txt', 'pos/cv661_2450.txt', 'pos/cv662_13320.txt', 'pos/cv663_13019.txt', 'pos/cv664_4389.txt', 'pos/cv665_29538.txt', 'pos/cv666_18963.txt', 'pos/cv667_18467.txt', 'pos/cv668_17604.txt', 'pos/cv669_22995.txt', 'pos/cv670_25826.txt', 'pos/cv671_5054.txt', 'pos/cv672_28083.txt', 'pos/cv673_24714.txt', 'pos/cv674_10732.txt', 'pos/cv675_21588.txt', 'pos/cv676_21090.txt', 'pos/cv677_17715.txt', 'pos/cv678_13419.txt', 'pos/cv679_28559.txt', 'pos/cv680_10160.txt', 'pos/cv681_9692.txt', 'pos/cv682_16139.txt', 'pos/cv683_12167.txt', 'pos/cv684_11798.txt', 'pos/cv685_5947.txt', 'pos/cv686_13900.txt', 'pos/cv687_21100.txt', 'pos/cv688_7368.txt', 'pos/cv689_12587.txt', 'pos/cv690_5619.txt', 'pos/cv691_5043.txt', 'pos/cv692_15451.txt', 'pos/cv693_18063.txt', 'pos/cv694_4876.txt', 'pos/cv695_21108.txt', 'pos/cv696_29740.txt', 'pos/cv697_11162.txt', 'pos/cv698_15253.txt', 'pos/cv699_7223.txt', 'pos/cv700_21947.txt', 'pos/cv701_14252.txt', 'pos/cv702_11500.txt', 'pos/cv703_16143.txt', 'pos/cv704_15969.txt', 'pos/cv705_11059.txt', 'pos/cv706_24716.txt', 'pos/cv707_10678.txt', 'pos/cv708_28729.txt', 'pos/cv709_10529.txt', 'pos/cv710_22577.txt', 'pos/cv711_11665.txt', 'pos/cv712_22920.txt', 'pos/cv713_29155.txt', 'pos/cv714_18502.txt', 'pos/cv715_18179.txt', 'pos/cv716_10514.txt', 'pos/cv717_15953.txt', 'pos/cv718_11434.txt', 'pos/cv719_5713.txt', 'pos/cv720_5389.txt', 'pos/cv721_29121.txt', 'pos/cv722_7110.txt', 'pos/cv723_8648.txt', 'pos/cv724_13681.txt', 'pos/cv725_10103.txt', 'pos/cv726_4719.txt', 'pos/cv727_4978.txt', 'pos/cv728_16133.txt', 'pos/cv729_10154.txt', 'pos/cv730_10279.txt', 'pos/cv731_4136.txt', 'pos/cv732_12245.txt', 'pos/cv733_9839.txt', 'pos/cv734_21568.txt', 'pos/cv735_18801.txt', 'pos/cv736_23670.txt', 'pos/cv737_28907.txt', 'pos/cv738_10116.txt', 'pos/cv739_11209.txt', 'pos/cv740_12445.txt', 'pos/cv741_11890.txt', 'pos/cv742_7751.txt', 'pos/cv743_15449.txt', 'pos/cv744_10038.txt', 'pos/cv745_12773.txt', 'pos/cv746_10147.txt', 'pos/cv747_16556.txt', 'pos/cv748_12786.txt', 'pos/cv749_17765.txt', 'pos/cv750_10180.txt', 'pos/cv751_15719.txt', 'pos/cv752_24155.txt', 'pos/cv753_10875.txt', 'pos/cv754_7216.txt', 'pos/cv755_23616.txt', 'pos/cv756_22540.txt', 'pos/cv757_10189.txt', 'pos/cv758_9671.txt', 'pos/cv759_13522.txt', 'pos/cv760_8597.txt', 'pos/cv761_12620.txt', 'pos/cv762_13927.txt', 'pos/cv763_14729.txt', 'pos/cv764_11739.txt', 'pos/cv765_19037.txt', 'pos/cv766_7540.txt', 'pos/cv767_14062.txt', 'pos/cv768_11751.txt', 'pos/cv769_8123.txt', 'pos/cv770_10451.txt', 'pos/cv771_28665.txt', 'pos/cv772_12119.txt', 'pos/cv773_18817.txt', 'pos/cv774_13845.txt', 'pos/cv775_16237.txt', 'pos/cv776_20529.txt', 'pos/cv777_10094.txt', 'pos/cv778_17330.txt', 'pos/cv779_17881.txt', 'pos/cv780_7984.txt', 'pos/cv781_5262.txt', 'pos/cv782_19526.txt', 'pos/cv783_13227.txt', 'pos/cv784_14394.txt', 'pos/cv785_22600.txt', 'pos/cv786_22497.txt', 'pos/cv787_13743.txt', 'pos/cv788_25272.txt', 'pos/cv789_12136.txt', 'pos/cv790_14600.txt', 'pos/cv791_16302.txt', 'pos/cv792_3832.txt', 'pos/cv793_13650.txt', 'pos/cv794_15868.txt', 'pos/cv795_10122.txt', 'pos/cv796_15782.txt', 'pos/cv797_6957.txt', 'pos/cv798_23531.txt', 'pos/cv799_18543.txt', 'pos/cv800_12368.txt', 'pos/cv801_25228.txt', 'pos/cv802_28664.txt', 'pos/cv803_8207.txt', 'pos/cv804_10862.txt', 'pos/cv805_19601.txt', 'pos/cv806_8842.txt', 'pos/cv807_21740.txt', 'pos/cv808_12635.txt', 'pos/cv809_5009.txt', 'pos/cv810_12458.txt', 'pos/cv811_21386.txt', 'pos/cv812_17924.txt', 'pos/cv813_6534.txt', 'pos/cv814_18975.txt', 'pos/cv815_22456.txt', 'pos/cv816_13655.txt', 'pos/cv817_4041.txt', 'pos/cv818_10211.txt', 'pos/cv819_9364.txt', 'pos/cv820_22892.txt', 'pos/cv821_29364.txt', 'pos/cv822_20049.txt', 'pos/cv823_15569.txt', 'pos/cv824_8838.txt', 'pos/cv825_5063.txt', 'pos/cv826_11834.txt', 'pos/cv827_18331.txt', 'pos/cv828_19831.txt', 'pos/cv829_20289.txt', 'pos/cv830_6014.txt', 'pos/cv831_14689.txt', 'pos/cv832_23275.txt', 'pos/cv833_11053.txt', 'pos/cv834_22195.txt', 'pos/cv835_19159.txt', 'pos/cv836_12968.txt', 'pos/cv837_27325.txt', 'pos/cv838_24728.txt', 'pos/cv839_21467.txt', 'pos/cv840_16321.txt', 'pos/cv841_3967.txt', 'pos/cv842_5866.txt', 'pos/cv843_15544.txt', 'pos/cv844_12690.txt', 'pos/cv845_14290.txt', 'pos/cv846_29497.txt', 'pos/cv847_1941.txt', 'pos/cv848_10036.txt', 'pos/cv849_15729.txt', 'pos/cv850_16466.txt', 'pos/cv851_20469.txt', 'pos/cv852_27523.txt', 'pos/cv853_29233.txt', 'pos/cv854_17740.txt', 'pos/cv855_20661.txt', 'pos/cv856_29013.txt', 'pos/cv857_15958.txt', 'pos/cv858_18819.txt', 'pos/cv859_14107.txt', 'pos/cv860_13853.txt', 'pos/cv861_1198.txt', 'pos/cv862_14324.txt', 'pos/cv863_7424.txt', 'pos/cv864_3416.txt', 'pos/cv865_2895.txt', 'pos/cv866_29691.txt', 'pos/cv867_16661.txt', 'pos/cv868_11948.txt', 'pos/cv869_23611.txt', 'pos/cv870_16348.txt', 'pos/cv871_24888.txt', 'pos/cv872_12591.txt', 'pos/cv873_18636.txt', 'pos/cv874_11236.txt', 'pos/cv875_5754.txt', 'pos/cv876_9390.txt', 'pos/cv877_29274.txt', 'pos/cv878_15694.txt', 'pos/cv879_14903.txt', 'pos/cv880_29800.txt', 'pos/cv881_13254.txt', 'pos/cv882_10026.txt', 'pos/cv883_27751.txt', 'pos/cv884_13632.txt', 'pos/cv885_12318.txt', 'pos/cv886_18177.txt', 'pos/cv887_5126.txt', 'pos/cv888_24435.txt', 'pos/cv889_21430.txt', 'pos/cv890_3977.txt', 'pos/cv891_6385.txt', 'pos/cv892_17576.txt', 'pos/cv893_26269.txt', 'pos/cv894_2068.txt', 'pos/cv895_21022.txt', 'pos/cv896_16071.txt', 'pos/cv897_10837.txt', 'pos/cv898_14187.txt', 'pos/cv899_16014.txt', 'pos/cv900_10331.txt', 'pos/cv901_11017.txt', 'pos/cv902_12256.txt', 'pos/cv903_17822.txt', 'pos/cv904_24353.txt', 'pos/cv905_29114.txt', 'pos/cv906_11491.txt', 'pos/cv907_3541.txt', 'pos/cv908_16009.txt', 'pos/cv909_9960.txt', 'pos/cv910_20488.txt', 'pos/cv911_20260.txt', 'pos/cv912_5674.txt', 'pos/cv913_29252.txt', 'pos/cv914_28742.txt', 'pos/cv915_8841.txt', 'pos/cv916_15467.txt', 'pos/cv917_29715.txt', 'pos/cv918_2693.txt', 'pos/cv919_16380.txt', 'pos/cv920_29622.txt', 'pos/cv921_12747.txt', 'pos/cv922_10073.txt', 'pos/cv923_11051.txt', 'pos/cv924_29540.txt', 'pos/cv925_8969.txt', 'pos/cv926_17059.txt', 'pos/cv927_10681.txt', 'pos/cv928_9168.txt', 'pos/cv929_16908.txt', 'pos/cv930_13475.txt', 'pos/cv931_17563.txt', 'pos/cv932_13401.txt', 'pos/cv933_23776.txt', 'pos/cv934_19027.txt', 'pos/cv935_23841.txt', 'pos/cv936_15954.txt', 'pos/cv937_9811.txt', 'pos/cv938_10220.txt', 'pos/cv939_10583.txt', 'pos/cv940_17705.txt', 'pos/cv941_10246.txt', 'pos/cv942_17082.txt', 'pos/cv943_22488.txt', 'pos/cv944_13521.txt', 'pos/cv945_12160.txt', 'pos/cv946_18658.txt', 'pos/cv947_10601.txt', 'pos/cv948_24606.txt', 'pos/cv949_20112.txt', 'pos/cv950_12350.txt', 'pos/cv951_10926.txt', 'pos/cv952_25240.txt', 'pos/cv953_6836.txt', 'pos/cv954_18628.txt', 'pos/cv955_25001.txt', 'pos/cv956_11609.txt', 'pos/cv957_8737.txt', 'pos/cv958_12162.txt', 'pos/cv959_14611.txt', 'pos/cv960_29007.txt', 'pos/cv961_5682.txt', 'pos/cv962_9803.txt', 'pos/cv963_6895.txt', 'pos/cv964_6021.txt', 'pos/cv965_26071.txt', 'pos/cv966_28832.txt', 'pos/cv967_5788.txt', 'pos/cv968_24218.txt', 'pos/cv969_13250.txt', 'pos/cv970_18450.txt', 'pos/cv971_10874.txt', 'pos/cv972_26417.txt', 'pos/cv973_10066.txt', 'pos/cv974_22941.txt', 'pos/cv975_10981.txt', 'pos/cv976_10267.txt', 'pos/cv977_4938.txt', 'pos/cv978_20929.txt', 'pos/cv979_18921.txt', 'pos/cv980_10953.txt', 'pos/cv981_14989.txt', 'pos/cv982_21103.txt', 'pos/cv983_22928.txt', 'pos/cv984_12767.txt', 'pos/cv985_6359.txt', 'pos/cv986_13527.txt', 'pos/cv987_6965.txt', 'pos/cv988_18740.txt', 'pos/cv989_15824.txt', 'pos/cv990_11591.txt', 'pos/cv991_18645.txt', 'pos/cv992_11962.txt', 'pos/cv993_29737.txt', 'pos/cv994_12270.txt', 'pos/cv995_21821.txt', 'pos/cv996_11592.txt', 'pos/cv997_5046.txt', 'pos/cv998_14111.txt', 'pos/cv999_13106.txt']\n"
     ]
    }
   ],
   "source": [
    "print(movie_reviews.fileids())"
   ]
  },
  {
   "cell_type": "code",
   "execution_count": 210,
   "id": "1525caf6",
   "metadata": {},
   "outputs": [
    {
     "name": "stdout",
     "output_type": "stream",
     "text": [
      "['Apex_AD2600_Progressive_scan_DVD player.txt', 'Canon_G3.txt', 'Creative_Labs_Nomad_Jukebox_Zen_Xtra_40GB.txt', 'Nikon_coolpix_4300.txt', 'Nokia_6610.txt', 'README.txt']\n"
     ]
    }
   ],
   "source": [
    "print(product_reviews_1.fileids())"
   ]
  },
  {
   "cell_type": "code",
   "execution_count": 211,
   "id": "f919b6db",
   "metadata": {},
   "outputs": [
    {
     "name": "stdout",
     "output_type": "stream",
     "text": [
      "['Canon_PowerShot_SD500.txt', 'Canon_S100.txt', 'Diaper_Champ.txt', 'Hitachi_router.txt', 'Linksys_Router.txt', 'MicroMP3.txt', 'Nokia_6600.txt', 'README.txt', 'ipod.txt', 'norton.txt']\n"
     ]
    }
   ],
   "source": [
    "print(product_reviews_2.fileids())"
   ]
  },
  {
   "cell_type": "markdown",
   "id": "61b37d24",
   "metadata": {},
   "source": [
    "#### In movie reviews contains movie reviews data and other two contains product reviews"
   ]
  },
  {
   "cell_type": "markdown",
   "id": "7782de61",
   "metadata": {},
   "source": [
    "#### We take first product reviews data"
   ]
  },
  {
   "cell_type": "markdown",
   "id": "472326d1",
   "metadata": {},
   "source": [
    "#### We extract the data from norton.txt file"
   ]
  },
  {
   "cell_type": "markdown",
   "id": "8deae54e",
   "metadata": {},
   "source": [
    "#### words is the function is reading predefined corpus text data"
   ]
  },
  {
   "cell_type": "code",
   "execution_count": 212,
   "id": "6f5f5dbc",
   "metadata": {},
   "outputs": [
    {
     "name": "stdout",
     "output_type": "stream",
     "text": [
      "['I', 'have', 'read', 'the', 'installation', ...]\n"
     ]
    }
   ],
   "source": [
    "print(product_reviews_2.words('norton.txt'))"
   ]
  },
  {
   "cell_type": "code",
   "execution_count": 213,
   "id": "57ff7a22",
   "metadata": {},
   "outputs": [
    {
     "name": "stdout",
     "output_type": "stream",
     "text": [
      "7259\n"
     ]
    }
   ],
   "source": [
    "print(len(product_reviews_2.words('norton.txt')))"
   ]
  },
  {
   "cell_type": "markdown",
   "id": "9bb3e7ee",
   "metadata": {},
   "source": [
    "##### We collect entire text data"
   ]
  },
  {
   "cell_type": "code",
   "execution_count": 214,
   "id": "4fd6aba5",
   "metadata": {},
   "outputs": [],
   "source": [
    "entire_text = ' '.join(product_reviews_2.words('norton.txt'))"
   ]
  },
  {
   "cell_type": "code",
   "execution_count": 215,
   "id": "361bc9d2",
   "metadata": {},
   "outputs": [
    {
     "data": {
      "text/plain": [
       "'I have read the installation instructions for both NIS 2004 and NAV 2004 prior to installation , but still ended up with the same result ... junk software . Why is it that I can install any other type of software and it installs and works properly ? But if I installed either one of these Norton products , neither works after installation ? It can not be the computer or the owner , since I purchased McAfee Anti - Virus 8 and it installs and works fine with no problems . I have used Norton for the past 5 years and for the last 2 years , the software has gotten more and more disgraceful . I am glad that I do not work for Norton . I have used Norton products in the past and I am familiar with them . I bought NIS 2004 recently to try it out . After 4 attempted installs , I have finally given up . I am thankful that I have Roxio GOBACK , I had to use it 3 of the 4 times . During install , NIS would either freeze or not reboot properly when asked to do so . The MS scandisk would appear due to manual shutdown and would only scan to the 2nd bar , over and over ( up to 1 hr , I then shut it down and used GOBACK ). The 1 time it did install , it did not work and had errors , I used the unistall NIS icon and it properly removed itself . I have never had this problem with any other software on my computer . NIS 2003 worked like a charm last year . Being a past Norton customer , I consider this to be a slap to my face . Buying software that can not be installed normally and being put into the position of having a non - working computer . Norton has been on a downhill slid recently with their products , but with this one , they have fallen off the cliff . As a loyal customer of Norton / Symantec products , I purchased Internet Security 2004 as a software firewall and could not be any more dissatisfied with the product ( and hence the one star rating ). Here \\' s why : Yeah - this program protects your computer all right - by locking you off the internet . Anti - Spam is Good The latest of Internet Security has antispam function that is helpful because I has received a mountain of those these days . Other than that it is all the same except the new updates . But that is good for me because Symantec softwares are a bit hard to master for me who are not savvy on computers . So far I haven \\' t had so much complaints except that I still haven \\' t mastered how to scandisk when using Internet Security . Too bad the product is cumbersome and intertwined trying to do so much at one time . Sometimes a suite is not a good deal and all you get is a bundle of headaches . I \\' m not sure why all the bad reviews , my computer isn \\' t especially slowed down and I have Win \\' 98 . Sure , it slows it down a little , but that \\' s expected . Perhaps Semantic could work out the efficiency a little , but these reviews are highly exagerated ... I would ask what else these people are running on their computers (?) I would ask what else these people are running on their computers (?) So , if you have a fairly fast computer ( 1 gig or better ) with plenty of ram ( 512 ) and your not gaming online or running streaming video continually , you should be fine . This is pretty standard for an up to date computer anymore , so what \\' s the fuss ? I \\' ve been using Norton Anti - Virus in its many incarnations for over 5 years . Norton Internet Security 2004 is one of the more buggy implementations . Even for computer super - heros it \\' s a pain to maintain when there is a problem . I also reviewed Norton System Works 2004 / Professional . This product has virtually all the same installation problems . For purposes of clarity , here is my review from that product , edited to be appropriate for this product , since , for the most part , they share many of the same problems . Something happened with this release for Norton System Works ( 2004 ) and for \" Internet Security 2004 \". This is the fourth version of SystemWorks and the second version of Internet Security that I have used and it has always been a favorite . It has saved my system on more than one occasion , and makes disc clean up a snap . The antivirus feature is phenomenal , and is regularly updated . I think their antivirus software was one of , if not the best , on the Well , no more . This version of Internet Security 2004 , is beyond hope . They are a royal pain to install , and don \\' t function properly once finally installed -- if you can install them at all . The biggest problem is the installation . Also if you do manage to get it installed , any problems with LiveUpdate or with System Works will also affect the functionality and / or the process of updating Internet Security . I \\' ve had to install and uninstall them four or five times so far , and I \\' ve not to get either product working properly . Why they brought this to market is beyond me . First , it serious , serious installation problems . Back in May 2004 , when I first reviewed this , it had taken me over 16 hours to install and run . Since then , I have had one problem after another . To say that it is \" buggy \" would be the world \\' s most profound understatement . Almost from the beginning , LiveUpdate would not function . First , it failed whenever connecting to get updates . When I finally got it working , it only worked properly for many a month . The next problem was that it didn \\' t recognize all the installed components , so it would not update them , most notably and importantly , virus definitions . Without this important feature , both SystemWorks and Internet Security are all but useless . Without updated virus definiations , your PC is also at serious risk ! Once installed , however , some of the functions do work OK ( Disk Doctor , One Button Checkup , and WinDoctor ). These tasks are faster and easier than in prior versions , and I found the menu to be much more navigable . But this doesn \\' t make up for it \\' s innumerable other short - comings , the biggest of which is the inability to download any updates due to problems with LiveUpdate . The other annoyance with this that you have to remove every single remnant of previous version of Norton SystemWorks before you installs this . Warning ! The Windows \" remove program \" feature does not do a good job of this , and neither does Norton \\' s own removal program . A lot of \" fragments \" were left in the Registry , and it the Norton system folders . Their website had a download that helped remove those , although I had to manually remove a good number of files from the \" Programs \" directory . If you have an older version of \" Internet Security \" installed , you may also need to remove it as well before proceeding with SystemWorks install . You also need to go in and MANUALLY remove many Symantec files from the REGISTRY . ( Intructions for doing so are on Symantecs website .) Even this , however , did not solve my problems . As of October , 2004 , these products are NOT working and I \\' m ready to demand a refund from Symantec . I just uninstalled SystemWorks and Internet Security for at least the fifth time due to funtionality issues . Once again it won \\' t reinstall , even with online and email assistance from Symantect Technicians . The best thing to do with this version , is to leave it on the store shelf . It doesn \\' t work , and will cost you an enormous amount of your time , not to mention your hard earned dollars . Personally , I may never buy Symantect products again . And that \\' s a shame . They use to be so useful and neceesary . No longer . Avoid this product at all costs . Antagonising There are some highs to the 2004 edition , but mostly lows . The program brings more problems than a virus , albeit not as major problems , just not what you expect for 70 bucks . I had a question about the pros and cons of turning off the Norton firewall vs . the windows firewall , and waited 45 minutes to speak with a tech support representative because I did not have a \" customer priority ID number .\" Then when I went to Norton \\' s website to obtain a priority ID number per the instructions I had been given , I couldn \\' t find a way to get one . So I e - mailed the online tech support with that simple question , and got a reply which was totally unresponsive ( it looked as though they didn \\' t actually read the e - mail and just sent back a few boilerplate paragraphs ). And , when you think about it , it \\' s insulting that Norton requires its customers to jump through these hoops -- anyone who can provide proof of purchase , whether on the phone or online ( what if your computer is down ?), should have equal priority . I may not be a computer expert but I am perfectly capable of following detailed instructions , and Norton just makes life way too hard . Plus , when Norton provided online updates , there were so many unexplained categories ( about 15 over and above virus definitions ) I was totally baffled . I originally had bought Norton Internet Security for my laptop after the preinstalled Norton Antivirus trial had finished . The hardest part was the run around with what software suite to buy . This package contains BOTH Norton Antivirus and Firewall . The only reason I \\' d buy them separately in the combo package is for two liecenses . If you want integrated Antivirus and Firewall this is what I \\' d suggest . Norton \\' s memory usage on systems with 512 MB is very low . It usually only takes 5 - 10 MB \\' s of system memory . I just got an older 866 Mhz system with 512 PC 133 RAM and it also runs fine on that . Both the antivirus and firewall are integrated into one piece of software and they update together . You won \\' t need to update your firewall and antivirus separately or install two disks . The best part of the firewall is the visual backtracking . An infected computer tried to launch an attack on mine and I was able to get a map and address of the server . I had the best intentions when I bought this , I really did . I followed the instructions to the letter . But it caused more headaches than I could imagine . Stay away from this product ! I don \\' t know what \\' s happened to Norton , but 2004 is absolute garbage . Apparently , they can \\' t even fix the bugs that have overrun their own site . The customer support is pathetic . I have found too many bugs in Norton Internet Security Professional to recommend it to any one without extreme patience and experience . Okay , how can I say this nicely ? This product is absolutely not ready for release . It is buggy , slow and basically frustrates the heck out of the user . I am an IT professional and have used Norton for years , but this product is a complete and utter dud . Norton has a name in the market but I think it \\' s only the name . It \\' s a rip off if one buys Norton Internet Security and antivirus . The former hogs memory and it takes ages for the computer to start . Nothing spectacular is done by internet security or by antivirus software . Even though I have the parental controls off it constantly starts updating them then freezes my computer . Had to uninstall it . Maybe it \\' s me , but this isn \\' t my program . I have had Norton Internet Security for 3 yrs and up graded to 2004 versionin August 2004 . Now in October , 2004 , the firewall said I couldn \\' t OK anymore software to use the internet because its full . Im at full capacity !!!! I called Symantic and they said they don \\' t know why but I should get Tech \\' s Support at $ 35 / hr to help !! I did call them and was on hold for 55 minutes untill I hung up ! I am going to buy PC - cillium ASAP . So , DON \\' T buy this or upgrade . If you currently own the 2003 version , and are looking to upgrade to the 2004 version , don \\' t . There is little meaningful difference between the two versions aside from the tedius activation process , and the product is currently rather buggy and has problems running unless cleanly installed on a formatted drive . If you are new to the market and looking to buy a symantec software product , save yourself some money and buy the 2003 version . It included popup and ad blockers , referrer blockers , firewall , intrusion detection , and all the same things that the 2004 version includes that are really needed . This came PRELOADED on our new , 2 . 8Mz Pentium 4 256RAM computer . From day one , we \\' ve had hangups , crashes , glitches , continual reboots , LONG shutdowns due to \" ccApp . exe \" program running which is a Norton program . Long reboots due to Norton taking FOREVER to boot . We constantly got \" Windows Virtual Memory Low \" error messages popping up follwed by ridiculous slowdowns and / or crashes . I don \\' t have one good thing to say . I agree with the other reviewer that it doesn \\' t even deserve 1 star . Norton online support does not even acknowledge this problem nor does the computer company that preloaded it on our new computer . It \\' s a well - known company that I expected more from and spent 2 hours with tech support running all kinds of tests on the computer which of course came back reporting no trouble with the computer . The tests were right . It wasn \\' t the computer - it was Norton Internet Security 2004 which is the culprit !! Norton support is completely pathetic . We were so fed up that we uninstalled ALL of Norton Internet / AV 2004 and were going to try McAffee , but a techie friend recommended trying Norton SystemWorks 2005 first . We were leary to say the least , but decided to give Norton the benefit of the doubt . We \\' d used Norton products like Internet Security 2003 forever with only rare troubles . The SystemWorks 2005 seems to be working GREAT !! We \\' ve only had it 2 days , but so far so good . ( WRONG - SEE UPDATE BELOW ) I hope it \\' s better than this hunk of junk Internet / AV 2004 package . If SystemWorks 2005 starts to act up , I \\' m done with Norton products forever . But I don \\' t think SystemWorks 2005 will start acting up . 72 hours later after installing , it started doing the exact same things ! So , we \\' re fed up . DO NOT BUY ANY HOME VERSION OF NORTON ANYTHING . We were able to obtain a Norton Corporate Edition of Antivirus only ( no firewall or utilities ) and so far it \\' s great . I \\' ve used the Corporate edition at work without any problems ever . Unfortunately , you can \\' t buy the corporate edition over the counter . If we had been unable to obtain the Corporate edition , we would NOT have purchased another Norton 2004 or 2005 home version anything . We \\' d have probably tried McAffee , but I hear from reviews that it has troubles too . HMMMM .. Good luck . Our Norton Internet / AV 2004 was terrible right from the get go , so I \\' d think that if SytemWorks is ok now , it should remain ok . I \\' ll update my review if I find out otherwise . WRONG - SEE MY UPDATE ABOVE . By the way , I use the Norton 2003 Corporate at work with absolutely no trouble . Likewise , I \\' ve heard Norton 2004 PROFESSIONAL version is fine too . Just the home version of Norton Internet / AV has too many glitches and problems to even remotely bother with . Trust me and all the other reviews on this one . I have always sworn by Norton Anti - Virus and SystemWorks products , and have used them both for years . So I expected the same level of quality and ease of use with their Internet Security program . I am an advanced computer user , so I cannot even imagine how a new or novice user would ever get this terrible program to work ! After installing , the system froze trying to restart ( this is a new computer with Windows XP Home ). After finally restarting , the \" automatic updates \" ran . When all was said and done , I couldn \\' t even use Microsoft Outlook . Seems the \" program scan \" feature did NOT find the EXE file for Outlook ! It did find Outlook Express , but that \\' s not what I use . Before I managed to manually add the program file , I contacted Symantec support . Like most of their solutions ( which first blame other applications for errors ), the tech persons line was that this was probably a Microsoft error - it was NOT . It was a Symantec error . After a recent update , I can no longer open more then 1 browser window . I \\' ve searched the program and their online tech support ( worthless ) and have found no solutions . Again , I tried online email support . They gave me a ridiculous set of steps which included emailing them screen prints as PDF files ! I use the program like most other people - in DISABLED mode . Eventually I will uninstall this troublesome bug - filled program . Maybe it \\' s time to explore McAfee products again ... Before installing anything on your computer , you need to do a bit of research before spending the money . This is definitely one of those products , especially as the company is leaning more towards making a profit . I recommended this for my father based on my experience with previous versions . I wish I \\' d done some research first .... I \\' ve been using NIS 2004 for about 2 months and it works well . Some of the options are confusing , especially when the popup warnings occur , but I \\' ve had no problems with intrusions . Norton pops up a window about the intrusions and gives me as much detail as possible about where the intrusion is coming from . The popup blocker and anti - spam are bonuses . Product is OK ; however , despite the fact that I followed the rebate instructions explicitly , I am being denied the rebate because the processing agency incorrectly claims I did not send in proof of ownership of a previous product . Not much recourse for the consumer in these cases . I didn \\' t have any major problems installing this software . The only problem I had was a few components didn \\' t quite load correctly upon startup , but a reboot fixed the problem . I had NIS 2003 and was very happy with it ; this new version really doesn \\' t seem to offer a lot of exciting new features , seems merely the same as 2003 dressed - up to look like a new version . Anyhow , this software is working fine and no problems since I installed it two weeks ago . I give it 4 - stars only because the installation process - or rather problems that may surface during the installation process - can be frustrating to the average computer user . If you experience problems with installation , you can visit symantec \\' s website , click the support tab , click the \\' home or home office support \\' and there is an automated support assistant that can scan the Norton program files on your computer and it will tell you what is not working right and how to fix it . Can \\' t get easier than that ! Avoid like the plague . I already knew something was wrong , because much of the Spam I \\' ve seen in the past six months was from resellers of Norton products . For Norton to encourage Spammers by letting them sell their products is a very bad sign . Well , I must be one of the few fortunate ones on here . Mine installed no problem ( but I DID uninstall my Norton Anti - Virus 2002 & Personal Firewall 2002 first ). Seems to work great . Sorry to hear about all the other folk \\' s problems .... makes me wonder why I \\' m NOT having any ( I \\' m running Win XP as well ). I had Norton Internet Security 2003 and it worked great ... one of the features that I liked was the user interface as well as the ad / pop - up blocking feature along w / the logs on internet usage . I read many reviews on Norton I . S . 2004 from a variety of sources ( Cnet , Amazon , message boards ) and came to the conclusion that NIS 04 was a terrible product and not worth the update . In January of 2004 , I renewed my subscription service for NIS 2003 but on Jan 7 , everything changed . There was a Verisign problem that conflicted w / Word and Excel and was posted on the Symantec site that affected computers . The Symantec site said it didn \\' t affect NIS but I believe it did . I also believe that when I renewed my subscription service that Symantec uploaded the NIS 2004 patch . All of a sudden everything that reviewers were writing about NIS 2004 was happening to my computer . Booting up my computer took forever !!! Then , my ad / pop - up blocking was completely gone . My file log was not responding and the program was not blocking any cookies or unauthorized sites . After extensive researching on the Symantec site I broke down and called Symantec . Again , every review written about the Tech Line is true ... after waiting close to 45 minutes I finally spoke to a rep . I had to pay $ 29 . 95 just to go any further . After telling the rep and his tech supervisor the problem the only answer was to uninstall the program ( which I had already done )... They sent me a link to their website to follow instructions on ridding my registry of all Symantec products so I could get a clean re - install . They didn \\' t know what the problem could be . They said to call back if it still didn \\' t work after the complete uninstall . I did it and it was worse the second time around ... unbelievable . I gave up . Basically , I ate the cost of the renewal and ate the cost of the Tech Help . NIS is a package of several Norton products . Unfortunately , it does not give you the option of unstalling ( or uninstalling ) them individually . If you get NIS be sure you want ALL of them installed and running on your machine . You can \" disable \" some of the individual components , but don \\' t be fooled -- they \\' re still there and running . Although I disabled Norton AntiSpam , it is still there . Every time I start Eudora , a message from AntiSpam pops up telling me that COM automation needs to be turned on for it to run properly . I guess the possibility that someone might not want it to run at all never occured to the designers . Just to try to shut it up , I told it to go ahead and turn on COM automation . This did manage to cut the number of popups during start - up from 4 down to 2 . But those 2 come up every time . And this despite the fact that I \\' m not even using AntiSpam . Next , the big reason not to buy ANY Norton product : If there \\' s a problem with it , Norton charges $ 30 to even tell them about it . Sure they say if it \\' s their fault you won \\' t get charged , but THEY are the ones who get to decide whether it \\' s their fault . And you have to put up the 30 bucks to get them to decide . Nice little racket they \\' ve got there . I bought Norton Internet Security years ago when it first came out . While it didn \\' t have all the features I would have liked , it was better than anything else I could find at the time . The problems I had installing Norton extended way beyond what Symantec should reasonably expect the public to deal with . When I purchase software , I NEVER want to have to spend hours looking up solutions to my install problems -- in particular solutions that involve manually setting driver preferences or editing the registry ! This is a very full featured product . It checks every 5 minutes for virus and spam definition updates . Also , with one click you can help train your spam killer . And the firewall came with a wizard which made it effortless to configure it to my LAN . I downloaded this set from Norton , and within minutes my Internet connection failed and my PC was almost dead due to registry problems from the download . I was forced to re - format the next day due to extensive incapatability issues . I lost all my personal info . Their site offers no live help at all . I tried to call Norton , and the only numbers they list on their sites are either for Non - tech Customer Service ( tried this one and hung up after 75 minute of MUZAC ) or they have a $ 30 tech - support number . Who wants to pay $ 30 to discuss a defect in a product that just cost $ 95 ? ( I also bought the back - up CD ). I finally got a free support number for Norton through my ISP support staff , but waited an hour or more for a voice . They said they would refund all the money , but a month later , they tell me now the back - up disc is not refundable as its cost is purely handling and shipping - $ 15 to \" handle \" and ship a CD ? -- and they have been indignant and combative on the phone and in emails . This is a terrible company with a bad product and awful support . After 10 years , I now downloaded McCaffee \\' s product after calling their support .... they answered quickly , and for free , and were very helpful . No problems now , just a sickly disappointment in the way Norton has abandoned thier customers . I see many other reviews that say the same .... stay away from Norton , they don \\' t deserve you , or anyone ! A security software suite with lots of value While I understand the complaints about Symantec \\' s Norton SystemWorks software suite ( which are totally justified ), the same can \\' t be said for Norton Internet Security . It \\' s a highly rated , KICK ASS firewall program that \\' s bundled with the venerable Norton AntiVirus , plus extras ( like Norton AntiSpam & Norton Parental Control ) that make this security suite a must - have for people who have broadband internet access . Detractors should spend more time actually customizing the program to meet their needs instead of being lazy & complaining just for the hell of it . Once you set it up , you barely even notice it \\' s even there . I \\' ve alway liked Symantec products , except for this version 2004 . If you are already using a previous version of nortron security and unistalled it to install the new version , you will still have all kind of problems in installing the new version on your system ! It seems like Symantec did a lousy job on this version . Luckly , with 3 rebates this product will cost me nothing ! it is indeed worth nothing . To install that version you have to uninstall from the window registery anything called Symantec or Nortron ,... also from the common files in the program folder the symantec folder has to be deleted . If you got stuck do what I did , search for any folder called symantec and delete it ! then install that program ( assuming you know what you are doing ). If you have no previous version of nortron security on your system , or Nortron Antivirus , the installation will go fine , otherwise dig in and in to do a major registery clean up ! the old programs will leave a trace that will mess up the new installation , even if you uninstalled the old programs perfectly . What dissapointes me the most that a software like that is not cheap gets zero support form symantec , if you want support , they \\' ll charge you a Fee ! I \\' ve tried the free versions of zone alarm and the free version of sygate and they both have a nice and easy installation and work great !. Next year when I purchase a 2005 FireWall version , I am buying the Zone Alarm or the sygate one . I am giving a zero star to symantec for this version ! I really liked the firewall . It can be a pain to configure , but I dealt with it . THEN all of a sudden when I restarted my pc , I couldn \\' t get to anything in IE . I have gone to their site many times in the last two months looking for an answer . I \\' ve tried lots of things they suggest . My computer configuration is probably all screwed up at this point . The only free help you get is in renewing your subscription ! The only way my pc internet works is if I open the Firewall Program configuration and manually refresh it . It \\' s become tedious doing this . Wish I hadn \\' t renewed my subscription . Buy ZONE Alarm . Wish I had . I read how the buyers of this product watched their computers turn into processing sloths , bought a copy and watched my 2 . 4 Gig XP Pro processor slow down below the level of my 750 Meg 2000Pro laptop ! At the same time I bought PC - Cillin for the laptop and what a slick product ! So now , when we type , half the time the XP Pro 2 . 4 Gig PC lags behind the input , sometime by 10 characters ! Symantec should give us all a refund and apology ! I will NEVER buy their product again at this rate , and neither should you . BEWARE !!!! The product has worked perfectly for me on my XP . No more banner ads , pop - ups , and the reliable antivirus . I work on word , explorer , netscape , acrobat reader , photoshop at same time ( meaning using a lot of memory ), but still dont see a problem with computer ( getting slow or crashing ). I have XP with 256MB RAM , 40GB memory . This product is way cooler than anything Ive used before ( PcCillins and McCafees and Norton Antivirus alone ). 5 stars all the way ! I \\' ve had the last 3 versions of NIS . All in all it hasn \\' t been a bad product . However , Symantec has taken a significant turn for the worse with this release . While it has a rather effective firewall , and comes with Norton Antivirus ( which I \\' m actually rather fond of ), the Security Suite has significantly slowed down my system . I \\' m currently using a Sony Vaio S - 150 ( which I bought at the end of this past August ), and it takes about five minutes just to boot the system - in fact , I \\' ve taken to just hibernating , rather than shutting down completely . The Antivirus is good , but \" Internet Security \" just isn \\' t worth it . I \\' ve owned many Norton products in my time , and for the most part , I \\' ve been pleased with their performance . This is also the case with NIS 2004 . I \\' ve seen many reviews praising 2003 and cursing 2004 . I upgraded from NIS 2003 , and the change in performance has not been noticeable . On the contrary , I \\' m quite pleased with my upgrade . It works better and has more useful features than NIS 2003 . I bought this product after reading the Editor \\' s Choice article at PC Magazine and had a great experience with Amazon ( as usual ). The program is fully featured , with much of what you \\' d want from a security program -- I was upgrading from a version of Norton Anti - virus that was about a year old in order to get spam and pop - up control . My previous experience with multiple Symantec / Norton products has been good . The installation , set - up , and operating interfaces are well organized and intuitive and the email spam component works well . HOWEVER , I AM VERY DISAPPOINTED WITH THIS PRODUCT AND WITH SYMANTEC . It feels like I \\' m back to the days of 56k dial - up internet service , even though I \\' m running a Dell 2GHz Pentium 4 with 256MB memory and have had excellent broadband service for the past year . I tried disabling the various components provided with this product , paring it all the way back to anti - virus only service ... and saw no improvement . There is absolutely nothing useful at the Symantec / Norton site . I am going to uninstall this and stick with my old version until they offer a fix or until I can find a program from another vendor . I purchased this even though I saw some disparaging reviews at the Amazon site , trusting PC Magazine to get it right . However , I suspect that many people are having a bad experience -- DO NOT PURCHASE THIS PRODUCT . PIII 1Ghz 512MB RDRAM Windows XP Pro 80GB HD I was able to Uninstall NIS 2003 and Install NIS 2004 with no trouble . First , I turned off my cable modem . Then I disabled both Norton Antivirus and Norton Internet Security . I used \" Add / Remove Programs \" to unistall NIS 2003 . In \" Add / Remove , you must selecting the program \\' s Change button . After that was complete , I deleted the Norton Antivirus and Norton Internet Security folders left in the \" Programs \" section of Windows XP . Next I de - fragged my hard drive . I did not use the Rnis . exe , since I have WinFax Pro on my system . I did not touch the Windows Registry , for the same reason . I installed , activated and registered NIS 2004 without issue . So far , the Anti - Spam feature seems to be very good . I ain \\' t no computer geek , but I can wrestle with the best of them . This program would not let me send Outlook Email or listen to Audible sample books online . I gave up trying to figure how to get my email sent or listen to streaming programs . Buy this if you like mental challenges or trying how to pick locks . For security buy Zone Alarm . It \\' s a very friendly program . I was begining to think I was computer - retarded after dealing with this program . I was using this on my 2001 Dell laptop ( which worked fine until I upgraded to this junk !) I had much of the same problems that everyone else has listed ( mainly the SLOOOOOOOOOW processor ), and then I couldn \\' t get the damn thing off my computer completely ! I decided to give it one last chance ... so I formatted my hard drive , reinstalled Windows XP ( which also required a day & night download / install of SP2 on dial - up ) and put NIS2004 back onto the computer . It locked during install and I had to reformat the drive and start from scratch ( GRRRRRR !) Blessedly , my DSL was installed just about this time and I set up a wireless network with my desktop . So when I reformatted for the third time , downloading SP2 took no time at all and the new XP was kind enough to even suggest other antivirus programs to try ( it also listed Norton and McAffee ). I downloaded a trial version of Computer Associates EZ Firewall and Antivirus and fell in love with a computer security system all over again . I can \\' t recommend their programs enough . And I can \\' t warn you enough to STAY AWAY FROM NORTON !! I originally bought McAfee VirusScan 7 from Amazon . About a month ago , it had an error that I could not fix and the program would not update . Even though I had 6 + months left on the McAfee subscription , I decided to move on and buy Norton Internet Security 2004 ( NIS ). I did not have any of the installation problems that people highlighted here . I did remove all remnants of McAfee before installing and confirmed the Windows XP firewall was off . It was immediately noticeable that NIS slows down my computer ( Pent4 , 256 RAM ). I think it is a combination of the program size taking up resources and the open / close scanning that it does with every program . Is it necessary to scan my MS Money database when I close the program ? I \\' m not sure how it would have been compromised by a virus . I have a modern PC with lots of speed and memory , but this firewall just brought it to a halt . Start up , log off , log on ... everything became very slow . Configuring it for a home network was almost impossible . Multiple users on one machine never seemed to behave like you \\' d expect . Avoid at all costs I just about lost it this morning with this software . While I was trying to play Half Life 2 it started popping up with \" alerts \" every twenty seconds ( literally ), warning me my antivirus protection was off . But it wouldn \\' t let me turn the AV protection back on and it wouldn \\' t stop with the alerts . I had tried to uninstall Norton Internet Security a few weeks ago , and it wouldn \\' t let me do that either . I tried it again this morning and it said I didn \\' t have the required \" permissions \" and lacked proper administrator status . On my own home computer . Of course , if you try to reach Symantec customer service you get useless automated systems unless you want to pay $ 30 per incident . Meanwhile , the damn alert is still popping up every 20 seconds . Finally I ran msconfig and went into the \" services \" tab and unchecked every last Norton / Symantec \" service ,\" then ran uninstall again . This time , it started the uninstallation process , then I left for work . I think it will work . I hope it will work . I simply hate Symantec . I swear , if I could have physically ripped that software out of my computer with my bare , bleeding hands , I would have . I have been a loyal Norton Anti - Virus and Internet Security software user for as long as I can remember . Their products have been great and have saved my bacon on numerous occasions .'"
      ]
     },
     "execution_count": 215,
     "metadata": {},
     "output_type": "execute_result"
    }
   ],
   "source": [
    "entire_text"
   ]
  },
  {
   "cell_type": "markdown",
   "id": "b7d1960a",
   "metadata": {},
   "source": [
    "#### We split this data into sentence tokens"
   ]
  },
  {
   "cell_type": "code",
   "execution_count": 216,
   "id": "8205f111",
   "metadata": {},
   "outputs": [],
   "source": [
    "from nltk.tokenize import sent_tokenize"
   ]
  },
  {
   "cell_type": "code",
   "execution_count": 217,
   "id": "541eba87",
   "metadata": {},
   "outputs": [],
   "source": [
    "norton_text_sent = sent_tokenize(entire_text)"
   ]
  },
  {
   "cell_type": "code",
   "execution_count": 218,
   "id": "23bb7759",
   "metadata": {},
   "outputs": [
    {
     "name": "stdout",
     "output_type": "stream",
     "text": [
      "403\n"
     ]
    }
   ],
   "source": [
    "print(len(norton_text_sent))"
   ]
  },
  {
   "cell_type": "code",
   "execution_count": 219,
   "id": "4c18da87",
   "metadata": {
    "scrolled": true
   },
   "outputs": [
    {
     "name": "stdout",
     "output_type": "stream",
     "text": [
      "['I have read the installation instructions for both NIS 2004 and NAV 2004 prior to installation , but still ended up with the same result ... junk software .', 'Why is it that I can install any other type of software and it installs and works properly ?', 'But if I installed either one of these Norton products , neither works after installation ?', 'It can not be the computer or the owner , since I purchased McAfee Anti - Virus 8 and it installs and works fine with no problems .', 'I have used Norton for the past 5 years and for the last 2 years , the software has gotten more and more disgraceful .', 'I am glad that I do not work for Norton .', 'I have used Norton products in the past and I am familiar with them .', 'I bought NIS 2004 recently to try it out .', 'After 4 attempted installs , I have finally given up .', 'I am thankful that I have Roxio GOBACK , I had to use it 3 of the 4 times .', 'During install , NIS would either freeze or not reboot properly when asked to do so .', 'The MS scandisk would appear due to manual shutdown and would only scan to the 2nd bar , over and over ( up to 1 hr , I then shut it down and used GOBACK ).', 'The 1 time it did install , it did not work and had errors , I used the unistall NIS icon and it properly removed itself .', 'I have never had this problem with any other software on my computer .', 'NIS 2003 worked like a charm last year .', 'Being a past Norton customer , I consider this to be a slap to my face .', 'Buying software that can not be installed normally and being put into the position of having a non - working computer .', 'Norton has been on a downhill slid recently with their products , but with this one , they have fallen off the cliff .', 'As a loyal customer of Norton / Symantec products , I purchased Internet Security 2004 as a software firewall and could not be any more dissatisfied with the product ( and hence the one star rating ).', \"Here ' s why : Yeah - this program protects your computer all right - by locking you off the internet .\", 'Anti - Spam is Good The latest of Internet Security has antispam function that is helpful because I has received a mountain of those these days .', 'Other than that it is all the same except the new updates .', 'But that is good for me because Symantec softwares are a bit hard to master for me who are not savvy on computers .', \"So far I haven ' t had so much complaints except that I still haven ' t mastered how to scandisk when using Internet Security .\", 'Too bad the product is cumbersome and intertwined trying to do so much at one time .', 'Sometimes a suite is not a good deal and all you get is a bundle of headaches .', \"I ' m not sure why all the bad reviews , my computer isn ' t especially slowed down and I have Win ' 98 .\", \"Sure , it slows it down a little , but that ' s expected .\", 'Perhaps Semantic could work out the efficiency a little , but these reviews are highly exagerated ...', 'I would ask what else these people are running on their computers (?)', 'I would ask what else these people are running on their computers (?)', 'So , if you have a fairly fast computer ( 1 gig or better ) with plenty of ram ( 512 ) and your not gaming online or running streaming video continually , you should be fine .', \"This is pretty standard for an up to date computer anymore , so what ' s the fuss ?\", \"I ' ve been using Norton Anti - Virus in its many incarnations for over 5 years .\", 'Norton Internet Security 2004 is one of the more buggy implementations .', \"Even for computer super - heros it ' s a pain to maintain when there is a problem .\", 'I also reviewed Norton System Works 2004 / Professional .', 'This product has virtually all the same installation problems .', 'For purposes of clarity , here is my review from that product , edited to be appropriate for this product , since , for the most part , they share many of the same problems .', 'Something happened with this release for Norton System Works ( 2004 ) and for \" Internet Security 2004 \".', 'This is the fourth version of SystemWorks and the second version of Internet Security that I have used and it has always been a favorite .', 'It has saved my system on more than one occasion , and makes disc clean up a snap .', 'The antivirus feature is phenomenal , and is regularly updated .', 'I think their antivirus software was one of , if not the best , on the Well , no more .', 'This version of Internet Security 2004 , is beyond hope .', \"They are a royal pain to install , and don ' t function properly once finally installed -- if you can install them at all .\", 'The biggest problem is the installation .', 'Also if you do manage to get it installed , any problems with LiveUpdate or with System Works will also affect the functionality and / or the process of updating Internet Security .', \"I ' ve had to install and uninstall them four or five times so far , and I ' ve not to get either product working properly .\", 'Why they brought this to market is beyond me .', 'First , it serious , serious installation problems .', 'Back in May 2004 , when I first reviewed this , it had taken me over 16 hours to install and run .', 'Since then , I have had one problem after another .', 'To say that it is \" buggy \" would be the world \\' s most profound understatement .', 'Almost from the beginning , LiveUpdate would not function .', 'First , it failed whenever connecting to get updates .', 'When I finally got it working , it only worked properly for many a month .', \"The next problem was that it didn ' t recognize all the installed components , so it would not update them , most notably and importantly , virus definitions .\", 'Without this important feature , both SystemWorks and Internet Security are all but useless .', 'Without updated virus definiations , your PC is also at serious risk !', 'Once installed , however , some of the functions do work OK ( Disk Doctor , One Button Checkup , and WinDoctor ).', 'These tasks are faster and easier than in prior versions , and I found the menu to be much more navigable .', \"But this doesn ' t make up for it ' s innumerable other short - comings , the biggest of which is the inability to download any updates due to problems with LiveUpdate .\", 'The other annoyance with this that you have to remove every single remnant of previous version of Norton SystemWorks before you installs this .', 'Warning !', 'The Windows \" remove program \" feature does not do a good job of this , and neither does Norton \\' s own removal program .', 'A lot of \" fragments \" were left in the Registry , and it the Norton system folders .', 'Their website had a download that helped remove those , although I had to manually remove a good number of files from the \" Programs \" directory .', 'If you have an older version of \" Internet Security \" installed , you may also need to remove it as well before proceeding with SystemWorks install .', 'You also need to go in and MANUALLY remove many Symantec files from the REGISTRY .', '( Intructions for doing so are on Symantecs website .)', 'Even this , however , did not solve my problems .', \"As of October , 2004 , these products are NOT working and I ' m ready to demand a refund from Symantec .\", 'I just uninstalled SystemWorks and Internet Security for at least the fifth time due to funtionality issues .', \"Once again it won ' t reinstall , even with online and email assistance from Symantect Technicians .\", 'The best thing to do with this version , is to leave it on the store shelf .', \"It doesn ' t work , and will cost you an enormous amount of your time , not to mention your hard earned dollars .\", 'Personally , I may never buy Symantect products again .', \"And that ' s a shame .\", 'They use to be so useful and neceesary .', 'No longer .', 'Avoid this product at all costs .', 'Antagonising There are some highs to the 2004 edition , but mostly lows .', 'The program brings more problems than a virus , albeit not as major problems , just not what you expect for 70 bucks .', 'I had a question about the pros and cons of turning off the Norton firewall vs .', 'the windows firewall , and waited 45 minutes to speak with a tech support representative because I did not have a \" customer priority ID number .\"', \"Then when I went to Norton ' s website to obtain a priority ID number per the instructions I had been given , I couldn ' t find a way to get one .\", \"So I e - mailed the online tech support with that simple question , and got a reply which was totally unresponsive ( it looked as though they didn ' t actually read the e - mail and just sent back a few boilerplate paragraphs ).\", \"And , when you think about it , it ' s insulting that Norton requires its customers to jump through these hoops -- anyone who can provide proof of purchase , whether on the phone or online ( what if your computer is down ?\", '), should have equal priority .', 'I may not be a computer expert but I am perfectly capable of following detailed instructions , and Norton just makes life way too hard .', 'Plus , when Norton provided online updates , there were so many unexplained categories ( about 15 over and above virus definitions ) I was totally baffled .', 'I originally had bought Norton Internet Security for my laptop after the preinstalled Norton Antivirus trial had finished .', 'The hardest part was the run around with what software suite to buy .', 'This package contains BOTH Norton Antivirus and Firewall .', \"The only reason I ' d buy them separately in the combo package is for two liecenses .\", \"If you want integrated Antivirus and Firewall this is what I ' d suggest .\", \"Norton ' s memory usage on systems with 512 MB is very low .\", \"It usually only takes 5 - 10 MB ' s of system memory .\", 'I just got an older 866 Mhz system with 512 PC 133 RAM and it also runs fine on that .', 'Both the antivirus and firewall are integrated into one piece of software and they update together .', \"You won ' t need to update your firewall and antivirus separately or install two disks .\", 'The best part of the firewall is the visual backtracking .', 'An infected computer tried to launch an attack on mine and I was able to get a map and address of the server .', 'I had the best intentions when I bought this , I really did .', 'I followed the instructions to the letter .', 'But it caused more headaches than I could imagine .', 'Stay away from this product !', \"I don ' t know what ' s happened to Norton , but 2004 is absolute garbage .\", \"Apparently , they can ' t even fix the bugs that have overrun their own site .\", 'The customer support is pathetic .', 'I have found too many bugs in Norton Internet Security Professional to recommend it to any one without extreme patience and experience .', 'Okay , how can I say this nicely ?', 'This product is absolutely not ready for release .', 'It is buggy , slow and basically frustrates the heck out of the user .', 'I am an IT professional and have used Norton for years , but this product is a complete and utter dud .', \"Norton has a name in the market but I think it ' s only the name .\", \"It ' s a rip off if one buys Norton Internet Security and antivirus .\", 'The former hogs memory and it takes ages for the computer to start .', 'Nothing spectacular is done by internet security or by antivirus software .', 'Even though I have the parental controls off it constantly starts updating them then freezes my computer .', 'Had to uninstall it .', \"Maybe it ' s me , but this isn ' t my program .\", 'I have had Norton Internet Security for 3 yrs and up graded to 2004 versionin August 2004 .', \"Now in October , 2004 , the firewall said I couldn ' t OK anymore software to use the internet because its full .\", 'Im at full capacity !', '!!!', \"I called Symantic and they said they don ' t know why but I should get Tech ' s Support at $ 35 / hr to help !\", '!', 'I did call them and was on hold for 55 minutes untill I hung up !', 'I am going to buy PC - cillium ASAP .', \"So , DON ' T buy this or upgrade .\", \"If you currently own the 2003 version , and are looking to upgrade to the 2004 version , don ' t .\", 'There is little meaningful difference between the two versions aside from the tedius activation process , and the product is currently rather buggy and has problems running unless cleanly installed on a formatted drive .', 'If you are new to the market and looking to buy a symantec software product , save yourself some money and buy the 2003 version .', 'It included popup and ad blockers , referrer blockers , firewall , intrusion detection , and all the same things that the 2004 version includes that are really needed .', 'This came PRELOADED on our new , 2 .', '8Mz Pentium 4 256RAM computer .', 'From day one , we \\' ve had hangups , crashes , glitches , continual reboots , LONG shutdowns due to \" ccApp .', 'exe \" program running which is a Norton program .', 'Long reboots due to Norton taking FOREVER to boot .', 'We constantly got \" Windows Virtual Memory Low \" error messages popping up follwed by ridiculous slowdowns and / or crashes .', \"I don ' t have one good thing to say .\", \"I agree with the other reviewer that it doesn ' t even deserve 1 star .\", 'Norton online support does not even acknowledge this problem nor does the computer company that preloaded it on our new computer .', \"It ' s a well - known company that I expected more from and spent 2 hours with tech support running all kinds of tests on the computer which of course came back reporting no trouble with the computer .\", 'The tests were right .', \"It wasn ' t the computer - it was Norton Internet Security 2004 which is the culprit !\", '!', 'Norton support is completely pathetic .', 'We were so fed up that we uninstalled ALL of Norton Internet / AV 2004 and were going to try McAffee , but a techie friend recommended trying Norton SystemWorks 2005 first .', 'We were leary to say the least , but decided to give Norton the benefit of the doubt .', \"We ' d used Norton products like Internet Security 2003 forever with only rare troubles .\", 'The SystemWorks 2005 seems to be working GREAT !', '!', \"We ' ve only had it 2 days , but so far so good .\", \"( WRONG - SEE UPDATE BELOW ) I hope it ' s better than this hunk of junk Internet / AV 2004 package .\", \"If SystemWorks 2005 starts to act up , I ' m done with Norton products forever .\", \"But I don ' t think SystemWorks 2005 will start acting up .\", '72 hours later after installing , it started doing the exact same things !', \"So , we ' re fed up .\", 'DO NOT BUY ANY HOME VERSION OF NORTON ANYTHING .', \"We were able to obtain a Norton Corporate Edition of Antivirus only ( no firewall or utilities ) and so far it ' s great .\", \"I ' ve used the Corporate edition at work without any problems ever .\", \"Unfortunately , you can ' t buy the corporate edition over the counter .\", 'If we had been unable to obtain the Corporate edition , we would NOT have purchased another Norton 2004 or 2005 home version anything .', \"We ' d have probably tried McAffee , but I hear from reviews that it has troubles too .\", 'HMMMM .. Good luck .', \"Our Norton Internet / AV 2004 was terrible right from the get go , so I ' d think that if SytemWorks is ok now , it should remain ok .\", \"I ' ll update my review if I find out otherwise .\", 'WRONG - SEE MY UPDATE ABOVE .', 'By the way , I use the Norton 2003 Corporate at work with absolutely no trouble .', \"Likewise , I ' ve heard Norton 2004 PROFESSIONAL version is fine too .\", 'Just the home version of Norton Internet / AV has too many glitches and problems to even remotely bother with .', 'Trust me and all the other reviews on this one .', 'I have always sworn by Norton Anti - Virus and SystemWorks products , and have used them both for years .', 'So I expected the same level of quality and ease of use with their Internet Security program .', 'I am an advanced computer user , so I cannot even imagine how a new or novice user would ever get this terrible program to work !', 'After installing , the system froze trying to restart ( this is a new computer with Windows XP Home ).', 'After finally restarting , the \" automatic updates \" ran .', \"When all was said and done , I couldn ' t even use Microsoft Outlook .\", 'Seems the \" program scan \" feature did NOT find the EXE file for Outlook !', \"It did find Outlook Express , but that ' s not what I use .\", 'Before I managed to manually add the program file , I contacted Symantec support .', 'Like most of their solutions ( which first blame other applications for errors ), the tech persons line was that this was probably a Microsoft error - it was NOT .', 'It was a Symantec error .', 'After a recent update , I can no longer open more then 1 browser window .', \"I ' ve searched the program and their online tech support ( worthless ) and have found no solutions .\", 'Again , I tried online email support .', 'They gave me a ridiculous set of steps which included emailing them screen prints as PDF files !', 'I use the program like most other people - in DISABLED mode .', 'Eventually I will uninstall this troublesome bug - filled program .', \"Maybe it ' s time to explore McAfee products again ... Before installing anything on your computer , you need to do a bit of research before spending the money .\", 'This is definitely one of those products , especially as the company is leaning more towards making a profit .', 'I recommended this for my father based on my experience with previous versions .', \"I wish I ' d done some research first ....\", \"I ' ve been using NIS 2004 for about 2 months and it works well .\", \"Some of the options are confusing , especially when the popup warnings occur , but I ' ve had no problems with intrusions .\", 'Norton pops up a window about the intrusions and gives me as much detail as possible about where the intrusion is coming from .', 'The popup blocker and anti - spam are bonuses .', 'Product is OK ; however , despite the fact that I followed the rebate instructions explicitly , I am being denied the rebate because the processing agency incorrectly claims I did not send in proof of ownership of a previous product .', 'Not much recourse for the consumer in these cases .', \"I didn ' t have any major problems installing this software .\", \"The only problem I had was a few components didn ' t quite load correctly upon startup , but a reboot fixed the problem .\", \"I had NIS 2003 and was very happy with it ; this new version really doesn ' t seem to offer a lot of exciting new features , seems merely the same as 2003 dressed - up to look like a new version .\", 'Anyhow , this software is working fine and no problems since I installed it two weeks ago .', 'I give it 4 - stars only because the installation process - or rather problems that may surface during the installation process - can be frustrating to the average computer user .', \"If you experience problems with installation , you can visit symantec ' s website , click the support tab , click the ' home or home office support ' and there is an automated support assistant that can scan the Norton program files on your computer and it will tell you what is not working right and how to fix it .\", \"Can ' t get easier than that !\", 'Avoid like the plague .', \"I already knew something was wrong , because much of the Spam I ' ve seen in the past six months was from resellers of Norton products .\", 'For Norton to encourage Spammers by letting them sell their products is a very bad sign .', 'Well , I must be one of the few fortunate ones on here .', 'Mine installed no problem ( but I DID uninstall my Norton Anti - Virus 2002 & Personal Firewall 2002 first ).', 'Seems to work great .', \"Sorry to hear about all the other folk ' s problems .... makes me wonder why I ' m NOT having any ( I ' m running Win XP as well ).\", 'I had Norton Internet Security 2003 and it worked great ... one of the features that I liked was the user interface as well as the ad / pop - up blocking feature along w / the logs on internet usage .', 'I read many reviews on Norton I .', 'S .', '2004 from a variety of sources ( Cnet , Amazon , message boards ) and came to the conclusion that NIS 04 was a terrible product and not worth the update .', 'In January of 2004 , I renewed my subscription service for NIS 2003 but on Jan 7 , everything changed .', 'There was a Verisign problem that conflicted w / Word and Excel and was posted on the Symantec site that affected computers .', \"The Symantec site said it didn ' t affect NIS but I believe it did .\", 'I also believe that when I renewed my subscription service that Symantec uploaded the NIS 2004 patch .', 'All of a sudden everything that reviewers were writing about NIS 2004 was happening to my computer .', 'Booting up my computer took forever !', '!!', 'Then , my ad / pop - up blocking was completely gone .', 'My file log was not responding and the program was not blocking any cookies or unauthorized sites .', 'After extensive researching on the Symantec site I broke down and called Symantec .', 'Again , every review written about the Tech Line is true ... after waiting close to 45 minutes I finally spoke to a rep .', 'I had to pay $ 29 .', '95 just to go any further .', 'After telling the rep and his tech supervisor the problem the only answer was to uninstall the program ( which I had already done )...', 'They sent me a link to their website to follow instructions on ridding my registry of all Symantec products so I could get a clean re - install .', \"They didn ' t know what the problem could be .\", \"They said to call back if it still didn ' t work after the complete uninstall .\", 'I did it and it was worse the second time around ... unbelievable .', 'I gave up .', 'Basically , I ate the cost of the renewal and ate the cost of the Tech Help .', 'NIS is a package of several Norton products .', 'Unfortunately , it does not give you the option of unstalling ( or uninstalling ) them individually .', 'If you get NIS be sure you want ALL of them installed and running on your machine .', 'You can \" disable \" some of the individual components , but don \\' t be fooled -- they \\' re still there and running .', 'Although I disabled Norton AntiSpam , it is still there .', 'Every time I start Eudora , a message from AntiSpam pops up telling me that COM automation needs to be turned on for it to run properly .', 'I guess the possibility that someone might not want it to run at all never occured to the designers .', 'Just to try to shut it up , I told it to go ahead and turn on COM automation .', 'This did manage to cut the number of popups during start - up from 4 down to 2 .', 'But those 2 come up every time .', \"And this despite the fact that I ' m not even using AntiSpam .\", \"Next , the big reason not to buy ANY Norton product : If there ' s a problem with it , Norton charges $ 30 to even tell them about it .\", \"Sure they say if it ' s their fault you won ' t get charged , but THEY are the ones who get to decide whether it ' s their fault .\", 'And you have to put up the 30 bucks to get them to decide .', \"Nice little racket they ' ve got there .\", 'I bought Norton Internet Security years ago when it first came out .', \"While it didn ' t have all the features I would have liked , it was better than anything else I could find at the time .\", 'The problems I had installing Norton extended way beyond what Symantec should reasonably expect the public to deal with .', 'When I purchase software , I NEVER want to have to spend hours looking up solutions to my install problems -- in particular solutions that involve manually setting driver preferences or editing the registry !', 'This is a very full featured product .', 'It checks every 5 minutes for virus and spam definition updates .', 'Also , with one click you can help train your spam killer .', 'And the firewall came with a wizard which made it effortless to configure it to my LAN .', 'I downloaded this set from Norton , and within minutes my Internet connection failed and my PC was almost dead due to registry problems from the download .', 'I was forced to re - format the next day due to extensive incapatability issues .', 'I lost all my personal info .', 'Their site offers no live help at all .', 'I tried to call Norton , and the only numbers they list on their sites are either for Non - tech Customer Service ( tried this one and hung up after 75 minute of MUZAC ) or they have a $ 30 tech - support number .', 'Who wants to pay $ 30 to discuss a defect in a product that just cost $ 95 ?', '( I also bought the back - up CD ).', 'I finally got a free support number for Norton through my ISP support staff , but waited an hour or more for a voice .', 'They said they would refund all the money , but a month later , they tell me now the back - up disc is not refundable as its cost is purely handling and shipping - $ 15 to \" handle \" and ship a CD ?', '-- and they have been indignant and combative on the phone and in emails .', 'This is a terrible company with a bad product and awful support .', \"After 10 years , I now downloaded McCaffee ' s product after calling their support .... they answered quickly , and for free , and were very helpful .\", 'No problems now , just a sickly disappointment in the way Norton has abandoned thier customers .', \"I see many other reviews that say the same .... stay away from Norton , they don ' t deserve you , or anyone !\", \"A security software suite with lots of value While I understand the complaints about Symantec ' s Norton SystemWorks software suite ( which are totally justified ), the same can ' t be said for Norton Internet Security .\", \"It ' s a highly rated , KICK ASS firewall program that ' s bundled with the venerable Norton AntiVirus , plus extras ( like Norton AntiSpam & Norton Parental Control ) that make this security suite a must - have for people who have broadband internet access .\", 'Detractors should spend more time actually customizing the program to meet their needs instead of being lazy & complaining just for the hell of it .', \"Once you set it up , you barely even notice it ' s even there .\", \"I ' ve alway liked Symantec products , except for this version 2004 .\", 'If you are already using a previous version of nortron security and unistalled it to install the new version , you will still have all kind of problems in installing the new version on your system !', 'It seems like Symantec did a lousy job on this version .', 'Luckly , with 3 rebates this product will cost me nothing !', 'it is indeed worth nothing .', 'To install that version you have to uninstall from the window registery anything called Symantec or Nortron ,... also from the common files in the program folder the symantec folder has to be deleted .', 'If you got stuck do what I did , search for any folder called symantec and delete it !', 'then install that program ( assuming you know what you are doing ).', 'If you have no previous version of nortron security on your system , or Nortron Antivirus , the installation will go fine , otherwise dig in and in to do a major registery clean up !', 'the old programs will leave a trace that will mess up the new installation , even if you uninstalled the old programs perfectly .', \"What dissapointes me the most that a software like that is not cheap gets zero support form symantec , if you want support , they ' ll charge you a Fee !\", \"I ' ve tried the free versions of zone alarm and the free version of sygate and they both have a nice and easy installation and work great !.\", 'Next year when I purchase a 2005 FireWall version , I am buying the Zone Alarm or the sygate one .', 'I am giving a zero star to symantec for this version !', 'I really liked the firewall .', 'It can be a pain to configure , but I dealt with it .', \"THEN all of a sudden when I restarted my pc , I couldn ' t get to anything in IE .\", 'I have gone to their site many times in the last two months looking for an answer .', \"I ' ve tried lots of things they suggest .\", 'My computer configuration is probably all screwed up at this point .', 'The only free help you get is in renewing your subscription !', 'The only way my pc internet works is if I open the Firewall Program configuration and manually refresh it .', \"It ' s become tedious doing this .\", \"Wish I hadn ' t renewed my subscription .\", 'Buy ZONE Alarm .', 'Wish I had .', 'I read how the buyers of this product watched their computers turn into processing sloths , bought a copy and watched my 2 .', '4 Gig XP Pro processor slow down below the level of my 750 Meg 2000Pro laptop !', 'At the same time I bought PC - Cillin for the laptop and what a slick product !', 'So now , when we type , half the time the XP Pro 2 .', '4 Gig PC lags behind the input , sometime by 10 characters !', 'Symantec should give us all a refund and apology !', 'I will NEVER buy their product again at this rate , and neither should you .', 'BEWARE !', '!!!', 'The product has worked perfectly for me on my XP .', 'No more banner ads , pop - ups , and the reliable antivirus .', 'I work on word , explorer , netscape , acrobat reader , photoshop at same time ( meaning using a lot of memory ), but still dont see a problem with computer ( getting slow or crashing ).', 'I have XP with 256MB RAM , 40GB memory .', 'This product is way cooler than anything Ive used before ( PcCillins and McCafees and Norton Antivirus alone ).', '5 stars all the way !', \"I ' ve had the last 3 versions of NIS .\", \"All in all it hasn ' t been a bad product .\", 'However , Symantec has taken a significant turn for the worse with this release .', \"While it has a rather effective firewall , and comes with Norton Antivirus ( which I ' m actually rather fond of ), the Security Suite has significantly slowed down my system .\", \"I ' m currently using a Sony Vaio S - 150 ( which I bought at the end of this past August ), and it takes about five minutes just to boot the system - in fact , I ' ve taken to just hibernating , rather than shutting down completely .\", 'The Antivirus is good , but \" Internet Security \" just isn \\' t worth it .', \"I ' ve owned many Norton products in my time , and for the most part , I ' ve been pleased with their performance .\", 'This is also the case with NIS 2004 .', \"I ' ve seen many reviews praising 2003 and cursing 2004 .\", 'I upgraded from NIS 2003 , and the change in performance has not been noticeable .', \"On the contrary , I ' m quite pleased with my upgrade .\", 'It works better and has more useful features than NIS 2003 .', \"I bought this product after reading the Editor ' s Choice article at PC Magazine and had a great experience with Amazon ( as usual ).\", \"The program is fully featured , with much of what you ' d want from a security program -- I was upgrading from a version of Norton Anti - virus that was about a year old in order to get spam and pop - up control .\", 'My previous experience with multiple Symantec / Norton products has been good .', 'The installation , set - up , and operating interfaces are well organized and intuitive and the email spam component works well .', 'HOWEVER , I AM VERY DISAPPOINTED WITH THIS PRODUCT AND WITH SYMANTEC .', \"It feels like I ' m back to the days of 56k dial - up internet service , even though I ' m running a Dell 2GHz Pentium 4 with 256MB memory and have had excellent broadband service for the past year .\", 'I tried disabling the various components provided with this product , paring it all the way back to anti - virus only service ... and saw no improvement .', 'There is absolutely nothing useful at the Symantec / Norton site .', 'I am going to uninstall this and stick with my old version until they offer a fix or until I can find a program from another vendor .', 'I purchased this even though I saw some disparaging reviews at the Amazon site , trusting PC Magazine to get it right .', 'However , I suspect that many people are having a bad experience -- DO NOT PURCHASE THIS PRODUCT .', 'PIII 1Ghz 512MB RDRAM Windows XP Pro 80GB HD I was able to Uninstall NIS 2003 and Install NIS 2004 with no trouble .', 'First , I turned off my cable modem .', 'Then I disabled both Norton Antivirus and Norton Internet Security .', 'I used \" Add / Remove Programs \" to unistall NIS 2003 .', 'In \" Add / Remove , you must selecting the program \\' s Change button .', 'After that was complete , I deleted the Norton Antivirus and Norton Internet Security folders left in the \" Programs \" section of Windows XP .', 'Next I de - fragged my hard drive .', 'I did not use the Rnis .', 'exe , since I have WinFax Pro on my system .', 'I did not touch the Windows Registry , for the same reason .', 'I installed , activated and registered NIS 2004 without issue .', 'So far , the Anti - Spam feature seems to be very good .', \"I ain ' t no computer geek , but I can wrestle with the best of them .\", 'This program would not let me send Outlook Email or listen to Audible sample books online .', 'I gave up trying to figure how to get my email sent or listen to streaming programs .', 'Buy this if you like mental challenges or trying how to pick locks .', 'For security buy Zone Alarm .', \"It ' s a very friendly program .\", 'I was begining to think I was computer - retarded after dealing with this program .', 'I was using this on my 2001 Dell laptop ( which worked fine until I upgraded to this junk !)', \"I had much of the same problems that everyone else has listed ( mainly the SLOOOOOOOOOW processor ), and then I couldn ' t get the damn thing off my computer completely !\", 'I decided to give it one last chance ... so I formatted my hard drive , reinstalled Windows XP ( which also required a day & night download / install of SP2 on dial - up ) and put NIS2004 back onto the computer .', 'It locked during install and I had to reformat the drive and start from scratch ( GRRRRRR !)', 'Blessedly , my DSL was installed just about this time and I set up a wireless network with my desktop .', 'So when I reformatted for the third time , downloading SP2 took no time at all and the new XP was kind enough to even suggest other antivirus programs to try ( it also listed Norton and McAffee ).', 'I downloaded a trial version of Computer Associates EZ Firewall and Antivirus and fell in love with a computer security system all over again .', \"I can ' t recommend their programs enough .\", \"And I can ' t warn you enough to STAY AWAY FROM NORTON !\", '!', 'I originally bought McAfee VirusScan 7 from Amazon .', 'About a month ago , it had an error that I could not fix and the program would not update .', 'Even though I had 6 + months left on the McAfee subscription , I decided to move on and buy Norton Internet Security 2004 ( NIS ).', 'I did not have any of the installation problems that people highlighted here .', 'I did remove all remnants of McAfee before installing and confirmed the Windows XP firewall was off .', 'It was immediately noticeable that NIS slows down my computer ( Pent4 , 256 RAM ).', 'I think it is a combination of the program size taking up resources and the open / close scanning that it does with every program .', 'Is it necessary to scan my MS Money database when I close the program ?', \"I ' m not sure how it would have been compromised by a virus .\", 'I have a modern PC with lots of speed and memory , but this firewall just brought it to a halt .', 'Start up , log off , log on ... everything became very slow .', 'Configuring it for a home network was almost impossible .', \"Multiple users on one machine never seemed to behave like you ' d expect .\", 'Avoid at all costs I just about lost it this morning with this software .', 'While I was trying to play Half Life 2 it started popping up with \" alerts \" every twenty seconds ( literally ), warning me my antivirus protection was off .', \"But it wouldn ' t let me turn the AV protection back on and it wouldn ' t stop with the alerts .\", \"I had tried to uninstall Norton Internet Security a few weeks ago , and it wouldn ' t let me do that either .\", 'I tried it again this morning and it said I didn \\' t have the required \" permissions \" and lacked proper administrator status .', 'On my own home computer .', 'Of course , if you try to reach Symantec customer service you get useless automated systems unless you want to pay $ 30 per incident .', 'Meanwhile , the damn alert is still popping up every 20 seconds .', 'Finally I ran msconfig and went into the \" services \" tab and unchecked every last Norton / Symantec \" service ,\" then ran uninstall again .', 'This time , it started the uninstallation process , then I left for work .', 'I think it will work .', 'I hope it will work .', 'I simply hate Symantec .', 'I swear , if I could have physically ripped that software out of my computer with my bare , bleeding hands , I would have .', 'I have been a loyal Norton Anti - Virus and Internet Security software user for as long as I can remember .', 'Their products have been great and have saved my bacon on numerous occasions .']\n"
     ]
    }
   ],
   "source": [
    "print(norton_text_sent)"
   ]
  },
  {
   "cell_type": "markdown",
   "id": "682433cb",
   "metadata": {},
   "source": [
    "### Here we perform lemmatization on this entire text data and before that we clean that data"
   ]
  },
  {
   "cell_type": "code",
   "execution_count": 220,
   "id": "ff250444",
   "metadata": {},
   "outputs": [
    {
     "name": "stdout",
     "output_type": "stream",
     "text": [
      "403\n"
     ]
    }
   ],
   "source": [
    "print(len(norton_text_sent))"
   ]
  },
  {
   "cell_type": "code",
   "execution_count": 250,
   "id": "c2ed4d7b",
   "metadata": {
    "scrolled": false
   },
   "outputs": [
    {
     "name": "stdout",
     "output_type": "stream",
     "text": [
      "403\n",
      "2.642910957336426\n",
      "['read installation instruction ni nav prior installation still ended result junk software', 'install type software installs work properly', 'installed either one norton product neither work installation', 'computer owner since purchased mcafee anti virus installs work fine problem', 'used norton past year last year software gotten disgraceful', 'glad work norton', 'used norton product past familiar', 'bought ni recently try', 'attempted installs finally given', 'thankful roxio goback use time', 'install ni would either freeze reboot properly asked', 'm scandisk would appear due manual shutdown would scan nd bar hr shut used goback', 'time install work error used unistall ni icon properly removed', 'never problem software computer', 'ni worked like charm last year', 'past norton customer consider slap face', 'buying software installed normally put position non working computer', 'norton downhill slid recently product one fallen cliff', 'loyal customer norton symantec product purchased internet security software firewall could dissatisfied product hence one star rating', 'yeah program protects computer right locking internet', 'anti spam good latest internet security antispam function helpful received mountain day', 'except new update', 'good symantec software bit hard master savvy computer', 'far much complaint except still mastered scandisk using internet security', 'bad product cumbersome intertwined trying much one time', 'sometimes suite good deal get bundle headache', 'sure bad review computer especially slowed win', 'sure slows little expected', 'perhaps semantic could work efficiency little review highly exagerated', 'would ask else people running computer', 'would ask else people running computer', 'fairly fast computer gig better plenty ram gaming online running streaming video continually fine', 'pretty standard date computer anymore fuss', 'using norton anti virus many incarnation year', 'norton internet security one buggy implementation', 'even computer super hero pain maintain problem', 'also reviewed norton system work professional', 'product virtually installation problem', 'purpose clarity review product edited appropriate product since part share many problem', 'something happened release norton system work internet security', 'fourth version systemworks second version internet security used always favorite', 'saved system one occasion make disc clean snap', 'antivirus feature phenomenal regularly updated', 'think antivirus software one best well', 'version internet security beyond hope', 'royal pain install function properly finally installed install', 'biggest problem installation', 'also manage get installed problem liveupdate system work also affect functionality process updating internet security', 'install uninstall four five time far get either product working properly', 'brought market beyond', 'first serious serious installation problem', 'back may first reviewed taken hour install run', 'since one problem another', 'say buggy would world profound understatement', 'almost beginning liveupdate would function', 'first failed whenever connecting get update', 'finally got working worked properly many month', 'next problem recognize installed component would update notably importantly virus definition', 'without important feature systemworks internet security useless', 'without updated virus definiations pc also serious risk', 'installed however function work ok disk doctor one button checkup windoctor', 'task faster easier prior version found menu much navigable', 'make innumerable short coming biggest inability download update due problem liveupdate', 'annoyance remove every single remnant previous version norton systemworks installs', 'warning', 'window remove program feature good job neither norton removal program', 'lot fragment left registry norton system folder', 'website download helped remove although manually remove good number file program directory', 'older version internet security installed may also need remove well proceeding systemworks install', 'also need go manually remove many symantec file registry', 'intructions symantecs website', 'even however solve problem', 'october product working ready demand refund symantec', 'uninstalled systemworks internet security least fifth time due funtionality issue', 'reinstall even online email assistance symantect technician', 'best thing version leave store shelf', 'work cost enormous amount time mention hard earned dollar', 'personally may never buy symantect product', 'shame', 'use useful neceesary', 'longer', 'avoid product cost', 'antagonising high edition mostly low', 'program brings problem virus albeit major problem expect buck', 'question pro con turning norton firewall v', 'window firewall waited minute speak tech support representative customer priority id number', 'went norton website obtain priority id number per instruction given find way get one', 'e mailed online tech support simple question got reply totally unresponsive looked though actually read e mail sent back boilerplate paragraph', 'think insulting norton requires customer jump hoop anyone provide proof purchase whether phone online computer', 'equal priority', 'may computer expert perfectly capable following detailed instruction norton make life way hard', 'plus norton provided online update many unexplained category virus definition totally baffled', 'originally bought norton internet security laptop preinstalled norton antivirus trial finished', 'hardest part run around software suite buy', 'package contains norton antivirus firewall', 'reason buy separately combo package two liecenses', 'want integrated antivirus firewall suggest', 'norton memory usage system mb low', 'usually take mb system memory', 'got older mhz system pc ram also run fine', 'antivirus firewall integrated one piece software update together', 'need update firewall antivirus separately install two disk', 'best part firewall visual backtracking', 'infected computer tried launch attack mine able get map address server', 'best intention bought really', 'followed instruction letter', 'caused headache could imagine', 'stay away product', 'know happened norton absolute garbage', 'apparently even fix bug overrun site', 'customer support pathetic', 'found many bug norton internet security professional recommend one without extreme patience experience', 'okay say nicely', 'product absolutely ready release', 'buggy slow basically frustrates heck user', 'professional used norton year product complete utter dud', 'norton name market think name', 'rip one buy norton internet security antivirus', 'former hog memory take age computer start', 'nothing spectacular done internet security antivirus software', 'even though parental control constantly start updating freeze computer', 'uninstall', 'maybe program', 'norton internet security yr graded versionin august', 'october firewall said ok anymore software use internet full', 'im full capacity', '', 'called symantic said know get tech support hr help', '', 'call hold minute untill hung', 'going buy pc cillium asap', 'buy upgrade', 'currently version looking upgrade version', 'little meaningful difference two version aside tedius activation process product currently rather buggy problem running unless cleanly installed formatted drive', 'new market looking buy symantec software product save money buy version', 'included popup ad blocker referrer blocker firewall intrusion detection thing version includes really needed', 'came preloaded new', 'mz pentium ram computer', 'day one hangups crash glitch continual reboots long shutdown due ccapp', 'exe program running norton program', 'long reboots due norton taking forever boot', 'constantly got window virtual memory low error message popping follwed ridiculous slowdown crash', 'one good thing say', 'agree reviewer even deserve star', 'norton online support even acknowledge problem computer company preloaded new computer', 'well known company expected spent hour tech support running kind test computer course came back reporting trouble computer', 'test right', 'computer norton internet security culprit', '', 'norton support completely pathetic', 'fed uninstalled norton internet av going try mcaffee techie friend recommended trying norton systemworks first', 'leary say least decided give norton benefit doubt', 'used norton product like internet security forever rare trouble', 'systemworks seems working great', '', 'day far good', 'wrong see update hope better hunk junk internet av package', 'systemworks start act done norton product forever', 'think systemworks start acting', 'hour later installing started exact thing', 'fed', 'buy home version norton anything', 'able obtain norton corporate edition antivirus firewall utility far great', 'used corporate edition work without problem ever', 'unfortunately buy corporate edition counter', 'unable obtain corporate edition would purchased another norton home version anything', 'probably tried mcaffee hear review trouble', 'hmmmm good luck', 'norton internet av terrible right get go think sytemworks ok remain ok', 'update review find otherwise', 'wrong see update', 'way use norton corporate work absolutely trouble', 'likewise heard norton professional version fine', 'home version norton internet av many glitch problem even remotely bother', 'trust review one', 'always sworn norton anti virus systemworks product used year', 'expected level quality ease use internet security program', 'advanced computer user cannot even imagine new novice user would ever get terrible program work', 'installing system froze trying restart new computer window xp home', 'finally restarting automatic update ran', 'said done even use microsoft outlook', 'seems program scan feature find exe file outlook', 'find outlook express use', 'managed manually add program file contacted symantec support', 'like solution first blame application error tech person line probably microsoft error', 'symantec error', 'recent update longer open browser window', 'searched program online tech support worthless found solution', 'tried online email support', 'gave ridiculous set step included emailing screen print pdf file', 'use program like people disabled mode', 'eventually uninstall troublesome bug filled program', 'maybe time explore mcafee product installing anything computer need bit research spending money', 'definitely one product especially company leaning towards making profit', 'recommended father based experience previous version', 'wish done research first', 'using ni month work well', 'option confusing especially popup warning occur problem intrusion', 'norton pop window intrusion give much detail possible intrusion coming', 'popup blocker anti spam bonus', 'product ok however despite fact followed rebate instruction explicitly denied rebate processing agency incorrectly claim send proof ownership previous product', 'much recourse consumer case', 'major problem installing software', 'problem component quite load correctly upon startup reboot fixed problem', 'ni happy new version really seem offer lot exciting new feature seems merely dressed look like new version', 'anyhow software working fine problem since installed two week ago', 'give star installation process rather problem may surface installation process frustrating average computer user', 'experience problem installation visit symantec website click support tab click home home office support automated support assistant scan norton program file computer tell working right fix', 'get easier', 'avoid like plague', 'already knew something wrong much spam seen past six month resellers norton product', 'norton encourage spammer letting sell product bad sign', 'well must one fortunate one', 'mine installed problem uninstall norton anti virus personal firewall first', 'seems work great', 'sorry hear folk problem make wonder running win xp well', 'norton internet security worked great one feature liked user interface well ad pop blocking feature along w log internet usage', 'read many review norton', '', 'variety source cnet amazon message board came conclusion ni terrible product worth update', 'january renewed subscription service ni jan everything changed', 'verisign problem conflicted w word excel posted symantec site affected computer', 'symantec site said affect ni believe', 'also believe renewed subscription service symantec uploaded ni patch', 'sudden everything reviewer writing ni happening computer', 'booting computer took forever', '', 'ad pop blocking completely gone', 'file log responding program blocking cooky unauthorized site', 'extensive researching symantec site broke called symantec', 'every review written tech line true waiting close minute finally spoke rep', 'pay', 'go', 'telling rep tech supervisor problem answer uninstall program already done', 'sent link website follow instruction ridding registry symantec product could get clean install', 'know problem could', 'said call back still work complete uninstall', 'worse second time around unbelievable', 'gave', 'basically ate cost renewal ate cost tech help', 'ni package several norton product', 'unfortunately give option unstalling uninstalling individually', 'get ni sure want installed running machine', 'disable individual component fooled still running', 'although disabled norton antispam still', 'every time start eudora message antispam pop telling com automation need turned run properly', 'guess possibility someone might want run never occured designer', 'try shut told go ahead turn com automation', 'manage cut number popups start', 'come every time', 'despite fact even using antispam', 'next big reason buy norton product problem norton charge even tell', 'sure say fault get charged one get decide whether fault', 'put buck get decide', 'nice little racket got', 'bought norton internet security year ago first came', 'feature would liked better anything else could find time', 'problem installing norton extended way beyond symantec reasonably expect public deal', 'purchase software never want spend hour looking solution install problem particular solution involve manually setting driver preference editing registry', 'full featured product', 'check every minute virus spam definition update', 'also one click help train spam killer', 'firewall came wizard made effortless configure lan', 'downloaded set norton within minute internet connection failed pc almost dead due registry problem download', 'forced format next day due extensive incapatability issue', 'lost personal info', 'site offer live help', 'tried call norton number list site either non tech customer service tried one hung minute muzac tech support number', 'want pay discus defect product cost', 'also bought back cd', 'finally got free support number norton isp support staff waited hour voice', 'said would refund money month later tell back disc refundable cost purely handling shipping handle ship cd', 'indignant combative phone email', 'terrible company bad product awful support', 'year downloaded mccaffee product calling support answered quickly free helpful', 'problem sickly disappointment way norton abandoned thier customer', 'see many review say stay away norton deserve anyone', 'security software suite lot value understand complaint symantec norton systemworks software suite totally justified said norton internet security', 'highly rated kick as firewall program bundled venerable norton antivirus plus extra like norton antispam norton parental control make security suite must people broadband internet access', 'detractor spend time actually customizing program meet need instead lazy complaining hell', 'set barely even notice even', 'alway liked symantec product except version', 'already using previous version nortron security unistalled install new version still kind problem installing new version system', 'seems like symantec lousy job version', 'luckly rebate product cost nothing', 'indeed worth nothing', 'install version uninstall window registery anything called symantec nortron also common file program folder symantec folder deleted', 'got stuck search folder called symantec delete', 'install program assuming know', 'previous version nortron security system nortron antivirus installation go fine otherwise dig major registery clean', 'old program leave trace mess new installation even uninstalled old program perfectly', 'dissapointes software like cheap get zero support form symantec want support charge fee', 'tried free version zone alarm free version sygate nice easy installation work great', 'next year purchase firewall version buying zone alarm sygate one', 'giving zero star symantec version', 'really liked firewall', 'pain configure dealt', 'sudden restarted pc get anything ie', 'gone site many time last two month looking answer', 'tried lot thing suggest', 'computer configuration probably screwed point', 'free help get renewing subscription', 'way pc internet work open firewall program configuration manually refresh', 'become tedious', 'wish renewed subscription', 'buy zone alarm', 'wish', 'read buyer product watched computer turn processing sloth bought copy watched', 'gig xp pro processor slow level meg pro laptop', 'time bought pc cillin laptop slick product', 'type half time xp pro', 'gig pc lag behind input sometime character', 'symantec give u refund apology', 'never buy product rate neither', 'beware', '', 'product worked perfectly xp', 'banner ad pop ups reliable antivirus', 'work word explorer netscape acrobat reader photoshop time meaning using lot memory still dont see problem computer getting slow crashing', 'xp mb ram gb memory', 'product way cooler anything ive used pccillins mccafees norton antivirus alone', 'star way', 'last version ni', 'bad product', 'however symantec taken significant turn worse release', 'rather effective firewall come norton antivirus actually rather fond security suite significantly slowed system', 'currently using sony vaio bought end past august take five minute boot system fact taken hibernating rather shutting completely', 'antivirus good internet security worth', 'owned many norton product time part pleased performance', 'also case ni', 'seen many review praising cursing', 'upgraded ni change performance noticeable', 'contrary quite pleased upgrade', 'work better useful feature ni', 'bought product reading editor choice article pc magazine great experience amazon usual', 'program fully featured much want security program upgrading version norton anti virus year old order get spam pop control', 'previous experience multiple symantec norton product good', 'installation set operating interface well organized intuitive email spam component work well', 'however disappointed product symantec', 'feel like back day k dial internet service even though running dell ghz pentium mb memory excellent broadband service past year', 'tried disabling various component provided product paring way back anti virus service saw improvement', 'absolutely nothing useful symantec norton site', 'going uninstall stick old version offer fix find program another vendor', 'purchased even though saw disparaging review amazon site trusting pc magazine get right', 'however suspect many people bad experience purchase product', 'piii ghz mb rdram window xp pro gb hd able uninstall ni install ni trouble', 'first turned cable modem', 'disabled norton antivirus norton internet security', 'used add remove program unistall ni', 'add remove must selecting program change button', 'complete deleted norton antivirus norton internet security folder left program section window xp', 'next de fragged hard drive', 'use rnis', 'exe since winfax pro system', 'touch window registry reason', 'installed activated registered ni without issue', 'far anti spam feature seems good', 'computer geek wrestle best', 'program would let send outlook email listen audible sample book online', 'gave trying figure get email sent listen streaming program', 'buy like mental challenge trying pick lock', 'security buy zone alarm', 'friendly program', 'begining think computer retarded dealing program', 'using dell laptop worked fine upgraded junk', 'much problem everyone else listed mainly slooooooooow processor get damn thing computer completely', 'decided give one last chance formatted hard drive reinstalled window xp also required day night download install sp dial put ni back onto computer', 'locked install reformat drive start scratch grrrrrr', 'blessedly dsl installed time set wireless network desktop', 'reformatted third time downloading sp took time new xp kind enough even suggest antivirus program try also listed norton mcaffee', 'downloaded trial version computer associate ez firewall antivirus fell love computer security system', 'recommend program enough', 'warn enough stay away norton', '', 'originally bought mcafee virusscan amazon', 'month ago error could fix program would update', 'even though month left mcafee subscription decided move buy norton internet security ni', 'installation problem people highlighted', 'remove remnant mcafee installing confirmed window xp firewall', 'immediately noticeable ni slows computer pent ram', 'think combination program size taking resource open close scanning every program', 'necessary scan m money database close program', 'sure would compromised virus', 'modern pc lot speed memory firewall brought halt', 'start log log everything became slow', 'configuring home network almost impossible', 'multiple user one machine never seemed behave like expect', 'avoid cost lost morning software', 'trying play half life started popping alert every twenty second literally warning antivirus protection', 'let turn av protection back stop alert', 'tried uninstall norton internet security week ago let either', 'tried morning said required permission lacked proper administrator status', 'home computer', 'course try reach symantec customer service get useless automated system unless want pay per incident', 'meanwhile damn alert still popping every second', 'finally ran msconfig went service tab unchecked every last norton symantec service ran uninstall', 'time started uninstallation process left work', 'think work', 'hope work', 'simply hate symantec', 'swear could physically ripped software computer bare bleeding hand would', 'loyal norton anti virus internet security software user long remember', 'product great saved bacon numerous occasion']\n"
     ]
    }
   ],
   "source": [
    "import time\n",
    "start = time.time()\n",
    "lemmatize_sent_ = []\n",
    "\n",
    "\n",
    "for sentt in range(len(norton_text_sent)):   # norton_text_sent is sentence tokenize data\n",
    "\n",
    "    \n",
    "    mysent = re.sub(r'[^a-zA-Z]' , ' ' , norton_text_sent[sentt])\n",
    "    #sub(substitute) is regex function searches the pattern with string if it matches then it\n",
    "    #replace with replace value which we provide here we replace the non alphabates value by\n",
    "    #space only. ^ is not and we are finding not alphabates over single letter\n",
    "    # mysent contains only aplhabates data in sentence format\n",
    "    mysent = mysent.lower()\n",
    "    mysent = mysent.split() # split means we split the sentence on space means each word get\n",
    "    # seperated in list\n",
    "    # mysent is list now\n",
    "    mysent = [WordNetLemmatizer().lemmatize(word) for word in mysent if  word not in set(stopwords.words('english'))]\n",
    "    # now mysent is one list and it is coolection lemmatize words\n",
    "    # Here we perform iteration on words because we already split mysent on space so then we don't\n",
    "    #want stopwords so we are avoid it and we return lemmatize words in list only in mysent\n",
    "    mysent = ' '.join(mysent)\n",
    "    # mysent list we join in string and mysent is string now. means it is sentence in string format\n",
    "    # that we want which is clean as well as lemmatize\n",
    "    lemmatize_sent_.append(mysent)  # it append a single sentence into list\n",
    "    \n",
    " \n",
    "print(len(lemmatize_sent_))\n",
    "print(time.time() - start)\n",
    "print(lemmatize_sent_)\n",
    "# It contains all 403 sentences because loop get iterate 403 times till naturally exhausted"
   ]
  },
  {
   "cell_type": "markdown",
   "id": "1af4dac8",
   "metadata": {},
   "source": [
    "### Here we perform stemmenting on this entire text data and before that we clean that data"
   ]
  },
  {
   "cell_type": "code",
   "execution_count": 235,
   "id": "4152f139",
   "metadata": {},
   "outputs": [
    {
     "name": "stdout",
     "output_type": "stream",
     "text": [
      "403\n"
     ]
    }
   ],
   "source": [
    "print(len(norton_text_sent_))"
   ]
  },
  {
   "cell_type": "code",
   "execution_count": 246,
   "id": "f912eb4a",
   "metadata": {
    "scrolled": false
   },
   "outputs": [
    {
     "name": "stdout",
     "output_type": "stream",
     "text": [
      "403\n",
      "2.581312656402588\n",
      "['read instal instruct ni nav prior instal still end result junk softwar', 'instal type softwar instal work properli', 'instal either one norton product neither work instal', 'comput owner sinc purchas mcafe anti viru instal work fine problem', 'use norton past year last year softwar gotten disgrac', 'glad work norton', 'use norton product past familiar', 'bought ni recent tri', 'attempt instal final given', 'thank roxio goback use time', 'instal ni would either freez reboot properli ask', 'ms scandisk would appear due manual shutdown would scan nd bar hr shut use goback', 'time instal work error use unistal ni icon properli remov', 'never problem softwar comput', 'ni work like charm last year', 'past norton custom consid slap face', 'buy softwar instal normal put posit non work comput', 'norton downhil slid recent product one fallen cliff', 'loyal custom norton symantec product purchas internet secur softwar firewal could dissatisfi product henc one star rate', 'yeah program protect comput right lock internet', 'anti spam good latest internet secur antispam function help receiv mountain day', 'except new updat', 'good symantec softwar bit hard master savvi comput', 'far much complaint except still master scandisk use internet secur', 'bad product cumbersom intertwin tri much one time', 'sometim suit good deal get bundl headach', 'sure bad review comput especi slow win', 'sure slow littl expect', 'perhap semant could work effici littl review highli exager', 'would ask els peopl run comput', 'would ask els peopl run comput', 'fairli fast comput gig better plenti ram game onlin run stream video continu fine', 'pretti standard date comput anymor fuss', 'use norton anti viru mani incarn year', 'norton internet secur one buggi implement', 'even comput super hero pain maintain problem', 'also review norton system work profession', 'product virtual instal problem', 'purpos clariti review product edit appropri product sinc part share mani problem', 'someth happen releas norton system work internet secur', 'fourth version systemwork second version internet secur use alway favorit', 'save system one occas make disc clean snap', 'antiviru featur phenomen regularli updat', 'think antiviru softwar one best well', 'version internet secur beyond hope', 'royal pain instal function properli final instal instal', 'biggest problem instal', 'also manag get instal problem liveupd system work also affect function process updat internet secur', 'instal uninstal four five time far get either product work properli', 'brought market beyond', 'first seriou seriou instal problem', 'back may first review taken hour instal run', 'sinc one problem anoth', 'say buggi would world profound understat', 'almost begin liveupd would function', 'first fail whenev connect get updat', 'final got work work properli mani month', 'next problem recogn instal compon would updat notabl importantli viru definit', 'without import featur systemwork internet secur useless', 'without updat viru defini pc also seriou risk', 'instal howev function work ok disk doctor one button checkup windoctor', 'task faster easier prior version found menu much navig', 'make innumer short come biggest inabl download updat due problem liveupd', 'annoy remov everi singl remnant previou version norton systemwork instal', 'warn', 'window remov program featur good job neither norton remov program', 'lot fragment left registri norton system folder', 'websit download help remov although manual remov good number file program directori', 'older version internet secur instal may also need remov well proceed systemwork instal', 'also need go manual remov mani symantec file registri', 'intruct symantec websit', 'even howev solv problem', 'octob product work readi demand refund symantec', 'uninstal systemwork internet secur least fifth time due funtion issu', 'reinstal even onlin email assist symantect technician', 'best thing version leav store shelf', 'work cost enorm amount time mention hard earn dollar', 'person may never buy symantect product', 'shame', 'use use neceesari', 'longer', 'avoid product cost', 'antagonis high edit mostli low', 'program bring problem viru albeit major problem expect buck', 'question pro con turn norton firewal vs', 'window firewal wait minut speak tech support repres custom prioriti id number', 'went norton websit obtain prioriti id number per instruct given find way get one', 'e mail onlin tech support simpl question got repli total unrespons look though actual read e mail sent back boilerpl paragraph', 'think insult norton requir custom jump hoop anyon provid proof purchas whether phone onlin comput', 'equal prioriti', 'may comput expert perfectli capabl follow detail instruct norton make life way hard', 'plu norton provid onlin updat mani unexplain categori viru definit total baffl', 'origin bought norton internet secur laptop preinstal norton antiviru trial finish', 'hardest part run around softwar suit buy', 'packag contain norton antiviru firewal', 'reason buy separ combo packag two liecens', 'want integr antiviru firewal suggest', 'norton memori usag system mb low', 'usual take mb system memori', 'got older mhz system pc ram also run fine', 'antiviru firewal integr one piec softwar updat togeth', 'need updat firewal antiviru separ instal two disk', 'best part firewal visual backtrack', 'infect comput tri launch attack mine abl get map address server', 'best intent bought realli', 'follow instruct letter', 'caus headach could imagin', 'stay away product', 'know happen norton absolut garbag', 'appar even fix bug overrun site', 'custom support pathet', 'found mani bug norton internet secur profession recommend one without extrem patienc experi', 'okay say nice', 'product absolut readi releas', 'buggi slow basic frustrat heck user', 'profession use norton year product complet utter dud', 'norton name market think name', 'rip one buy norton internet secur antiviru', 'former hog memori take age comput start', 'noth spectacular done internet secur antiviru softwar', 'even though parent control constantli start updat freez comput', 'uninstal', 'mayb program', 'norton internet secur yr grade versionin august', 'octob firewal said ok anymor softwar use internet full', 'im full capac', '', 'call symant said know get tech support hr help', '', 'call hold minut until hung', 'go buy pc cillium asap', 'buy upgrad', 'current version look upgrad version', 'littl meaning differ two version asid tediu activ process product current rather buggi problem run unless cleanli instal format drive', 'new market look buy symantec softwar product save money buy version', 'includ popup ad blocker referr blocker firewal intrus detect thing version includ realli need', 'came preload new', 'mz pentium ram comput', 'day one hangup crash glitch continu reboot long shutdown due ccapp', 'exe program run norton program', 'long reboot due norton take forev boot', 'constantli got window virtual memori low error messag pop follw ridicul slowdown crash', 'one good thing say', 'agre review even deserv star', 'norton onlin support even acknowledg problem comput compani preload new comput', 'well known compani expect spent hour tech support run kind test comput cours came back report troubl comput', 'test right', 'comput norton internet secur culprit', '', 'norton support complet pathet', 'fed uninstal norton internet av go tri mcaffe techi friend recommend tri norton systemwork first', 'leari say least decid give norton benefit doubt', 'use norton product like internet secur forev rare troubl', 'systemwork seem work great', '', 'day far good', 'wrong see updat hope better hunk junk internet av packag', 'systemwork start act done norton product forev', 'think systemwork start act', 'hour later instal start exact thing', 'fed', 'buy home version norton anyth', 'abl obtain norton corpor edit antiviru firewal util far great', 'use corpor edit work without problem ever', 'unfortun buy corpor edit counter', 'unabl obtain corpor edit would purchas anoth norton home version anyth', 'probabl tri mcaffe hear review troubl', 'hmmmm good luck', 'norton internet av terribl right get go think sytemwork ok remain ok', 'updat review find otherwis', 'wrong see updat', 'way use norton corpor work absolut troubl', 'likewis heard norton profession version fine', 'home version norton internet av mani glitch problem even remot bother', 'trust review one', 'alway sworn norton anti viru systemwork product use year', 'expect level qualiti eas use internet secur program', 'advanc comput user cannot even imagin new novic user would ever get terribl program work', 'instal system froze tri restart new comput window xp home', 'final restart automat updat ran', 'said done even use microsoft outlook', 'seem program scan featur find exe file outlook', 'find outlook express use', 'manag manual add program file contact symantec support', 'like solut first blame applic error tech person line probabl microsoft error', 'symantec error', 'recent updat longer open browser window', 'search program onlin tech support worthless found solut', 'tri onlin email support', 'gave ridicul set step includ email screen print pdf file', 'use program like peopl disabl mode', 'eventu uninstal troublesom bug fill program', 'mayb time explor mcafe product instal anyth comput need bit research spend money', 'definit one product especi compani lean toward make profit', 'recommend father base experi previou version', 'wish done research first', 'use ni month work well', 'option confus especi popup warn occur problem intrus', 'norton pop window intrus give much detail possibl intrus come', 'popup blocker anti spam bonus', 'product ok howev despit fact follow rebat instruct explicitli deni rebat process agenc incorrectli claim send proof ownership previou product', 'much recours consum case', 'major problem instal softwar', 'problem compon quit load correctli upon startup reboot fix problem', 'ni happi new version realli seem offer lot excit new featur seem mere dress look like new version', 'anyhow softwar work fine problem sinc instal two week ago', 'give star instal process rather problem may surfac instal process frustrat averag comput user', 'experi problem instal visit symantec websit click support tab click home home offic support autom support assist scan norton program file comput tell work right fix', 'get easier', 'avoid like plagu', 'alreadi knew someth wrong much spam seen past six month resel norton product', 'norton encourag spammer let sell product bad sign', 'well must one fortun one', 'mine instal problem uninstal norton anti viru person firewal first', 'seem work great', 'sorri hear folk problem make wonder run win xp well', 'norton internet secur work great one featur like user interfac well ad pop block featur along w log internet usag', 'read mani review norton', '', 'varieti sourc cnet amazon messag board came conclus ni terribl product worth updat', 'januari renew subscript servic ni jan everyth chang', 'verisign problem conflict w word excel post symantec site affect comput', 'symantec site said affect ni believ', 'also believ renew subscript servic symantec upload ni patch', 'sudden everyth review write ni happen comput', 'boot comput took forev', '', 'ad pop block complet gone', 'file log respond program block cooki unauthor site', 'extens research symantec site broke call symantec', 'everi review written tech line true wait close minut final spoke rep', 'pay', 'go', 'tell rep tech supervisor problem answer uninstal program alreadi done', 'sent link websit follow instruct rid registri symantec product could get clean instal', 'know problem could', 'said call back still work complet uninstal', 'wors second time around unbeliev', 'gave', 'basic ate cost renew ate cost tech help', 'ni packag sever norton product', 'unfortun give option unstal uninstal individu', 'get ni sure want instal run machin', 'disabl individu compon fool still run', 'although disabl norton antispam still', 'everi time start eudora messag antispam pop tell com autom need turn run properli', 'guess possibl someon might want run never occur design', 'tri shut told go ahead turn com autom', 'manag cut number popup start', 'come everi time', 'despit fact even use antispam', 'next big reason buy norton product problem norton charg even tell', 'sure say fault get charg one get decid whether fault', 'put buck get decid', 'nice littl racket got', 'bought norton internet secur year ago first came', 'featur would like better anyth els could find time', 'problem instal norton extend way beyond symantec reason expect public deal', 'purchas softwar never want spend hour look solut instal problem particular solut involv manual set driver prefer edit registri', 'full featur product', 'check everi minut viru spam definit updat', 'also one click help train spam killer', 'firewal came wizard made effortless configur lan', 'download set norton within minut internet connect fail pc almost dead due registri problem download', 'forc format next day due extens incapat issu', 'lost person info', 'site offer live help', 'tri call norton number list site either non tech custom servic tri one hung minut muzac tech support number', 'want pay discuss defect product cost', 'also bought back cd', 'final got free support number norton isp support staff wait hour voic', 'said would refund money month later tell back disc refund cost pure handl ship handl ship cd', 'indign comb phone email', 'terribl compani bad product aw support', 'year download mccaffe product call support answer quickli free help', 'problem sickli disappoint way norton abandon thier custom', 'see mani review say stay away norton deserv anyon', 'secur softwar suit lot valu understand complaint symantec norton systemwork softwar suit total justifi said norton internet secur', 'highli rate kick ass firewal program bundl vener norton antiviru plu extra like norton antispam norton parent control make secur suit must peopl broadband internet access', 'detractor spend time actual custom program meet need instead lazi complain hell', 'set bare even notic even', 'alway like symantec product except version', 'alreadi use previou version nortron secur unistal instal new version still kind problem instal new version system', 'seem like symantec lousi job version', 'luckli rebat product cost noth', 'inde worth noth', 'instal version uninstal window registeri anyth call symantec nortron also common file program folder symantec folder delet', 'got stuck search folder call symantec delet', 'instal program assum know', 'previou version nortron secur system nortron antiviru instal go fine otherwis dig major registeri clean', 'old program leav trace mess new instal even uninstal old program perfectli', 'dissapoint softwar like cheap get zero support form symantec want support charg fee', 'tri free version zone alarm free version sygat nice easi instal work great', 'next year purchas firewal version buy zone alarm sygat one', 'give zero star symantec version', 'realli like firewal', 'pain configur dealt', 'sudden restart pc get anyth ie', 'gone site mani time last two month look answer', 'tri lot thing suggest', 'comput configur probabl screw point', 'free help get renew subscript', 'way pc internet work open firewal program configur manual refresh', 'becom tediou', 'wish renew subscript', 'buy zone alarm', 'wish', 'read buyer product watch comput turn process sloth bought copi watch', 'gig xp pro processor slow level meg pro laptop', 'time bought pc cillin laptop slick product', 'type half time xp pro', 'gig pc lag behind input sometim charact', 'symantec give us refund apolog', 'never buy product rate neither', 'bewar', '', 'product work perfectli xp', 'banner ad pop up reliabl antiviru', 'work word explor netscap acrobat reader photoshop time mean use lot memori still dont see problem comput get slow crash', 'xp mb ram gb memori', 'product way cooler anyth ive use pccillin mccafe norton antiviru alon', 'star way', 'last version ni', 'bad product', 'howev symantec taken signific turn wors releas', 'rather effect firewal come norton antiviru actual rather fond secur suit significantli slow system', 'current use soni vaio bought end past august take five minut boot system fact taken hibern rather shut complet', 'antiviru good internet secur worth', 'own mani norton product time part pleas perform', 'also case ni', 'seen mani review prais curs', 'upgrad ni chang perform notic', 'contrari quit pleas upgrad', 'work better use featur ni', 'bought product read editor choic articl pc magazin great experi amazon usual', 'program fulli featur much want secur program upgrad version norton anti viru year old order get spam pop control', 'previou experi multipl symantec norton product good', 'instal set oper interfac well organ intuit email spam compon work well', 'howev disappoint product symantec', 'feel like back day k dial internet servic even though run dell ghz pentium mb memori excel broadband servic past year', 'tri disabl variou compon provid product pare way back anti viru servic saw improv', 'absolut noth use symantec norton site', 'go uninstal stick old version offer fix find program anoth vendor', 'purchas even though saw disparag review amazon site trust pc magazin get right', 'howev suspect mani peopl bad experi purchas product', 'piii ghz mb rdram window xp pro gb hd abl uninstal ni instal ni troubl', 'first turn cabl modem', 'disabl norton antiviru norton internet secur', 'use add remov program unistal ni', 'add remov must select program chang button', 'complet delet norton antiviru norton internet secur folder left program section window xp', 'next de frag hard drive', 'use rni', 'exe sinc winfax pro system', 'touch window registri reason', 'instal activ regist ni without issu', 'far anti spam featur seem good', 'comput geek wrestl best', 'program would let send outlook email listen audibl sampl book onlin', 'gave tri figur get email sent listen stream program', 'buy like mental challeng tri pick lock', 'secur buy zone alarm', 'friendli program', 'begin think comput retard deal program', 'use dell laptop work fine upgrad junk', 'much problem everyon els list mainli slooooooooow processor get damn thing comput complet', 'decid give one last chanc format hard drive reinstal window xp also requir day night download instal sp dial put ni back onto comput', 'lock instal reformat drive start scratch grrrrrr', 'blessedli dsl instal time set wireless network desktop', 'reformat third time download sp took time new xp kind enough even suggest antiviru program tri also list norton mcaffe', 'download trial version comput associ ez firewal antiviru fell love comput secur system', 'recommend program enough', 'warn enough stay away norton', '', 'origin bought mcafe virusscan amazon', 'month ago error could fix program would updat', 'even though month left mcafe subscript decid move buy norton internet secur ni', 'instal problem peopl highlight', 'remov remnant mcafe instal confirm window xp firewal', 'immedi notic ni slow comput pent ram', 'think combin program size take resourc open close scan everi program', 'necessari scan ms money databas close program', 'sure would compromis viru', 'modern pc lot speed memori firewal brought halt', 'start log log everyth becam slow', 'configur home network almost imposs', 'multipl user one machin never seem behav like expect', 'avoid cost lost morn softwar', 'tri play half life start pop alert everi twenti second liter warn antiviru protect', 'let turn av protect back stop alert', 'tri uninstal norton internet secur week ago let either', 'tri morn said requir permiss lack proper administr statu', 'home comput', 'cours tri reach symantec custom servic get useless autom system unless want pay per incid', 'meanwhil damn alert still pop everi second', 'final ran msconfig went servic tab uncheck everi last norton symantec servic ran uninstal', 'time start uninstal process left work', 'think work', 'hope work', 'simpli hate symantec', 'swear could physic rip softwar comput bare bleed hand would', 'loyal norton anti viru internet secur softwar user long rememb', 'product great save bacon numer occas']\n"
     ]
    }
   ],
   "source": [
    "import time\n",
    "start = time.time()\n",
    "stemm_sent_ = []\n",
    "\n",
    "\n",
    "for sent in range(len(norton_text_sent)):   # norton_text_sent is sentence tokenize data\n",
    "\n",
    "    \n",
    "    mysent = re.sub(r'[^a-zA-Z]' , ' ' , norton_text_sent[sent])\n",
    "   \n",
    "    #sub(substitute) is regex function searches the pattern with string if it matches then it\n",
    "    #replace with replace value which we provide here we replace the non alphabates value by\n",
    "    #space only. ^ is not and we are finding not alphabates over single letter\n",
    "    # mysent contains only aplhabates data in sentence format\n",
    "    mysent = mysent.lower()\n",
    "    mysent = mysent.split() # split means we split the sentence on space means each word get\n",
    "    # seperated in list\n",
    "    # mysent is list now\n",
    "    mysent = [PorterStemmer().stem(word) for word in mysent if word not in set(stopwords.words('english'))]\n",
    "    # now mysent is one list and it is coolection stemming words\n",
    "    # Here we perform iteration on words because we already split mysent on space so then we don't\n",
    "    #want stopwords so we are avoid it and we return stemmer words in list only in mysent\n",
    "    mysent = ' '.join(mysent)\n",
    "    # mysent list we join in string and mysent is string now. means it is sentence in string format\n",
    "    # that we want which is clean as well as stemmed\n",
    "    stemm_sent_.append(mysent)  # it append a single sentence into list\n",
    "    \n",
    " \n",
    "print(len(stemm_sent_))\n",
    "print(time.time() - start)\n",
    "print(stemm_sent_)\n",
    "# It contains all 403 sentences because loop get iterate 403 times till naturally exhausted"
   ]
  },
  {
   "cell_type": "markdown",
   "id": "d5fce6f9",
   "metadata": {},
   "source": [
    "## Lemmatization is always gives best result.Lemmatization is slow but gives more accurate result and Stemming is fast but gives not valid result as compare to  Lemmatization .\n",
    "## We noticed here Lemmatization take 2.64s and Stemming take 2.58 sec so lemmatization slower as compare to Stemming but more accurate than Stemming"
   ]
  },
  {
   "cell_type": "code",
   "execution_count": null,
   "id": "a13d7c9f",
   "metadata": {},
   "outputs": [],
   "source": []
  }
 ],
 "metadata": {
  "kernelspec": {
   "display_name": "Python 3 (ipykernel)",
   "language": "python",
   "name": "python3"
  },
  "language_info": {
   "codemirror_mode": {
    "name": "ipython",
    "version": 3
   },
   "file_extension": ".py",
   "mimetype": "text/x-python",
   "name": "python",
   "nbconvert_exporter": "python",
   "pygments_lexer": "ipython3",
   "version": "3.11.4"
  }
 },
 "nbformat": 4,
 "nbformat_minor": 5
}

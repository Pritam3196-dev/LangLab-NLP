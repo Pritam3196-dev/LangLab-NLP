{
 "cells": [
  {
   "cell_type": "markdown",
   "id": "79e4a412",
   "metadata": {},
   "source": [
    "#### Here we perform small casestudy on sentiment analysis that we use VenderSentiment library"
   ]
  },
  {
   "cell_type": "markdown",
   "id": "ad9ebc3f",
   "metadata": {},
   "source": [
    "#### VaderSentiment is library in python that helps to analysis sentiments. basically it helps to machine to understand what kind of feeling behind the sentence.It is easy , fast and accurate . It is use understand review of product , social media comments.\n",
    "#### Vader stands for valence Aware Dictionary sEntiment Reasoner."
   ]
  },
  {
   "cell_type": "markdown",
   "id": "a28290e4",
   "metadata": {},
   "source": [
    "#### First we will install it"
   ]
  },
  {
   "cell_type": "code",
   "execution_count": 2,
   "id": "703d85aa",
   "metadata": {},
   "outputs": [],
   "source": [
    "#!pip install vaderSentiment"
   ]
  },
  {
   "cell_type": "markdown",
   "id": "e9fad080",
   "metadata": {},
   "source": [
    "#### Import SentimentIntensityAnalyzer from vaderSentiment library"
   ]
  },
  {
   "cell_type": "code",
   "execution_count": 3,
   "id": "61b4c844",
   "metadata": {},
   "outputs": [],
   "source": [
    "from vaderSentiment.vaderSentiment import SentimentIntensityAnalyzer"
   ]
  },
  {
   "cell_type": "code",
   "execution_count": 4,
   "id": "21eeeea0",
   "metadata": {},
   "outputs": [],
   "source": [
    "sentiment_analyzer = SentimentIntensityAnalyzer()"
   ]
  },
  {
   "cell_type": "code",
   "execution_count": 5,
   "id": "53b6103a",
   "metadata": {},
   "outputs": [
    {
     "data": {
      "text/plain": [
       "<vaderSentiment.vaderSentiment.SentimentIntensityAnalyzer at 0x226ba54d890>"
      ]
     },
     "execution_count": 5,
     "metadata": {},
     "output_type": "execute_result"
    }
   ],
   "source": [
    "sentiment_analyzer"
   ]
  },
  {
   "cell_type": "markdown",
   "id": "c7ebf2a1",
   "metadata": {},
   "source": [
    "#### We will use spacy model here for making tokenize of that text"
   ]
  },
  {
   "cell_type": "code",
   "execution_count": 6,
   "id": "44dac0b7",
   "metadata": {},
   "outputs": [],
   "source": [
    "import spacy"
   ]
  },
  {
   "cell_type": "code",
   "execution_count": 8,
   "id": "46da2e0a",
   "metadata": {},
   "outputs": [],
   "source": [
    "spacy_model = spacy.load('en_core_web_sm')"
   ]
  },
  {
   "cell_type": "code",
   "execution_count": 9,
   "id": "55bd1b20",
   "metadata": {},
   "outputs": [
    {
     "data": {
      "text/plain": [
       "<spacy.lang.en.English at 0x226c27afc10>"
      ]
     },
     "execution_count": 9,
     "metadata": {},
     "output_type": "execute_result"
    }
   ],
   "source": [
    "spacy_model"
   ]
  },
  {
   "cell_type": "markdown",
   "id": "8cb1009d",
   "metadata": {},
   "source": [
    "#### Now we will create one function"
   ]
  },
  {
   "cell_type": "code",
   "execution_count": 17,
   "id": "5a343cd9",
   "metadata": {},
   "outputs": [],
   "source": [
    "def Sentiment_Analyze(text):\n",
    "    \n",
    "    doc = spacy_model(text)   # doc in word tokenize\n",
    "    \n",
    "    sentiment_score = sentiment_analyzer.polarity_scores(text)\n",
    "    \n",
    "    # polarity_scores is the sentiment score of that sentence or text\n",
    "    \n",
    "    # polarity_scores(text) gives you a dictionary with four sentiment scores.\n",
    "    # polarity_score give you positive , negative , neutral score of the text and final sentiment\n",
    "    # score is (four sentiemnt score) compound score which is combination of positive , negative,\n",
    "    # neutral scores and its exist between -1 to +1.\n",
    "    \n",
    "    sentiment_score = sentiment_score['compound']  # sentiment_score is dict. and compound is key\n",
    "    \n",
    "    # This line extracts the compound score from the dictionary. or we select compound score\n",
    "    \n",
    "    # sentiment_score['compound'] is the overall sentiment score of the text. It combines \n",
    "    #the positive, negative, and neutral sentiments into one value that gives a general idea \n",
    "    #of the tone of the text.\n",
    "    \n",
    "    # sentiment_score is exists between -1 to +1\n",
    "    \n",
    "    if sentiment_score >= 0.05:  # to segregate score into different sentiments comapre with threshold\n",
    "        \n",
    "        sentiment_score_label = 'Positive Sentiment'\n",
    "        \n",
    "    elif sentiment_score <= -0.05:\n",
    "        \n",
    "        sentiment_score_label = 'Negative Sentiment'\n",
    "        \n",
    "    elif sentiment_score < 0.05 and sentiment_score > -0.05:\n",
    "        \n",
    "        sentiment_score_label = 'Neutral Sentiment'\n",
    "        \n",
    "        \n",
    "    return {f'text' :text , 'Token' : [token.text for token in doc] , \n",
    "            'Sentiment Score' : sentiment_score , 'sentiment_score_label': sentiment_score_label}"
   ]
  },
  {
   "cell_type": "code",
   "execution_count": 29,
   "id": "5708e940",
   "metadata": {},
   "outputs": [],
   "source": [
    "texts = [\n",
    "    \"NLP is one of the hot topic now a days\",\n",
    "    'There are lots of demand in market about Sentliment analysis',\n",
    "    \"I'm not sure how I feel about the NLP\",\n",
    "    \"I like this product very much\",\n",
    "    \"I don't like this product at all\",\n",
    "    \"This is worst experience I've ever had\",\n",
    "    \"NLP is very elegant topic\",\n",
    "    \"This is amazing experience\",\n",
    "    \"One of the pathetic product\",\n",
    "    \"My work desk is an organised mess.\",\n",
    "    \"I am a good human being\",\n",
    "    \"I am the best Data Scientist\"\n",
    "]"
   ]
  },
  {
   "cell_type": "code",
   "execution_count": 30,
   "id": "05285b52",
   "metadata": {},
   "outputs": [
    {
     "name": "stdout",
     "output_type": "stream",
     "text": [
      "{'text': 'NLP is one of the hot topic now a days', 'Token': ['NLP', 'is', 'one', 'of', 'the', 'hot', 'topic', 'now', 'a', 'days'], 'Sentiment Score': 0.0, 'sentiment_score_label': 'Neutral Sentiment'}\n",
      "****************************************************************************************************\n",
      "{'text': 'There are lots of demand in market about Sentliment analysis', 'Token': ['There', 'are', 'lots', 'of', 'demand', 'in', 'market', 'about', 'Sentliment', 'analysis'], 'Sentiment Score': -0.128, 'sentiment_score_label': 'Negative Sentiment'}\n",
      "****************************************************************************************************\n",
      "{'text': \"I'm not sure how I feel about the NLP\", 'Token': ['I', \"'m\", 'not', 'sure', 'how', 'I', 'feel', 'about', 'the', 'NLP'], 'Sentiment Score': -0.2411, 'sentiment_score_label': 'Negative Sentiment'}\n",
      "****************************************************************************************************\n",
      "{'text': 'I like this product very much', 'Token': ['I', 'like', 'this', 'product', 'very', 'much'], 'Sentiment Score': 0.3612, 'sentiment_score_label': 'Positive Sentiment'}\n",
      "****************************************************************************************************\n",
      "{'text': \"I don't like this product at all\", 'Token': ['I', 'do', \"n't\", 'like', 'this', 'product', 'at', 'all'], 'Sentiment Score': -0.2755, 'sentiment_score_label': 'Negative Sentiment'}\n",
      "****************************************************************************************************\n",
      "{'text': \"This is worst experience I've ever had\", 'Token': ['This', 'is', 'worst', 'experience', 'I', \"'ve\", 'ever', 'had'], 'Sentiment Score': -0.6249, 'sentiment_score_label': 'Negative Sentiment'}\n",
      "****************************************************************************************************\n",
      "{'text': 'NLP is very elegant topic', 'Token': ['NLP', 'is', 'very', 'elegant', 'topic'], 'Sentiment Score': 0.5256, 'sentiment_score_label': 'Positive Sentiment'}\n",
      "****************************************************************************************************\n",
      "{'text': 'This is amazing experience', 'Token': ['This', 'is', 'amazing', 'experience'], 'Sentiment Score': 0.5859, 'sentiment_score_label': 'Positive Sentiment'}\n",
      "****************************************************************************************************\n",
      "{'text': 'One of the pathetic product', 'Token': ['One', 'of', 'the', 'pathetic', 'product'], 'Sentiment Score': -0.5719, 'sentiment_score_label': 'Negative Sentiment'}\n",
      "****************************************************************************************************\n",
      "{'text': 'My work desk is an organised mess.', 'Token': ['My', 'work', 'desk', 'is', 'an', 'organised', 'mess', '.'], 'Sentiment Score': -0.3612, 'sentiment_score_label': 'Negative Sentiment'}\n",
      "****************************************************************************************************\n",
      "{'text': 'I am a good human being', 'Token': ['I', 'am', 'a', 'good', 'human', 'being'], 'Sentiment Score': 0.4404, 'sentiment_score_label': 'Positive Sentiment'}\n",
      "****************************************************************************************************\n",
      "{'text': 'I am the best Data Scientist', 'Token': ['I', 'am', 'the', 'best', 'Data', 'Scientist'], 'Sentiment Score': 0.6369, 'sentiment_score_label': 'Positive Sentiment'}\n",
      "****************************************************************************************************\n"
     ]
    }
   ],
   "source": [
    "for text in texts:  # text is single string / sentence in list\n",
    "    \n",
    "    sentiments = Sentiment_Analyze(text)\n",
    "    \n",
    "    print(sentiments)\n",
    "    print('*' * 100)\n",
    "    "
   ]
  },
  {
   "cell_type": "code",
   "execution_count": null,
   "id": "7d8740dd",
   "metadata": {},
   "outputs": [],
   "source": []
  },
  {
   "cell_type": "code",
   "execution_count": null,
   "id": "faffd15d",
   "metadata": {},
   "outputs": [],
   "source": []
  }
 ],
 "metadata": {
  "kernelspec": {
   "display_name": "Python 3 (ipykernel)",
   "language": "python",
   "name": "python3"
  },
  "language_info": {
   "codemirror_mode": {
    "name": "ipython",
    "version": 3
   },
   "file_extension": ".py",
   "mimetype": "text/x-python",
   "name": "python",
   "nbconvert_exporter": "python",
   "pygments_lexer": "ipython3",
   "version": "3.11.4"
  }
 },
 "nbformat": 4,
 "nbformat_minor": 5
}
